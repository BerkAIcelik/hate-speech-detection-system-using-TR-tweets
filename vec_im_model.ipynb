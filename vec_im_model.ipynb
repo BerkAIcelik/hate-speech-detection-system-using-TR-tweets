{
  "nbformat": 4,
  "nbformat_minor": 0,
  "metadata": {
    "colab": {
      "provenance": [],
      "authorship_tag": "ABX9TyN04YNBn6JWanypRuOsDggx"
    },
    "kernelspec": {
      "name": "python3",
      "display_name": "Python 3"
    },
    "language_info": {
      "name": "python"
    }
  },
  "cells": [
    {
      "cell_type": "code",
      "source": [
        "pip install zemberek-python"
      ],
      "metadata": {
        "colab": {
          "base_uri": "https://localhost:8080/"
        },
        "id": "XcJMWtorW6eT",
        "outputId": "ab351e81-cae1-4e02-a6af-c3b1a6f821b9"
      },
      "execution_count": 1,
      "outputs": [
        {
          "output_type": "stream",
          "name": "stdout",
          "text": [
            "Collecting zemberek-python\n",
            "  Downloading zemberek_python-0.2.3-py3-none-any.whl.metadata (2.7 kB)\n",
            "Collecting antlr4-python3-runtime==4.8 (from zemberek-python)\n",
            "  Downloading antlr4-python3-runtime-4.8.tar.gz (112 kB)\n",
            "\u001b[2K     \u001b[90m━━━━━━━━━━━━━━━━━━━━━━━━━━━━━━━━━━━━━━━━\u001b[0m \u001b[32m112.4/112.4 kB\u001b[0m \u001b[31m1.7 MB/s\u001b[0m eta \u001b[36m0:00:00\u001b[0m\n",
            "\u001b[?25h  Preparing metadata (setup.py) ... \u001b[?25l\u001b[?25hdone\n",
            "Requirement already satisfied: numpy>=1.19.0 in /usr/local/lib/python3.11/dist-packages (from zemberek-python) (1.26.4)\n",
            "Downloading zemberek_python-0.2.3-py3-none-any.whl (95.1 MB)\n",
            "\u001b[2K   \u001b[90m━━━━━━━━━━━━━━━━━━━━━━━━━━━━━━━━━━━━━━━━\u001b[0m \u001b[32m95.1/95.1 MB\u001b[0m \u001b[31m7.0 MB/s\u001b[0m eta \u001b[36m0:00:00\u001b[0m\n",
            "\u001b[?25hBuilding wheels for collected packages: antlr4-python3-runtime\n",
            "  Building wheel for antlr4-python3-runtime (setup.py) ... \u001b[?25l\u001b[?25hdone\n",
            "  Created wheel for antlr4-python3-runtime: filename=antlr4_python3_runtime-4.8-py3-none-any.whl size=141214 sha256=bf2c3facdd3d71bdcd822dfefcaf1ec2eee25ffec4c83d6ac5dad8ba72db8f7f\n",
            "  Stored in directory: /root/.cache/pip/wheels/21/10/be/9a70640a3a60ed4a7e1a45e49bb9f58b04692d5d7b517bd39e\n",
            "Successfully built antlr4-python3-runtime\n",
            "Installing collected packages: antlr4-python3-runtime, zemberek-python\n",
            "Successfully installed antlr4-python3-runtime-4.8 zemberek-python-0.2.3\n"
          ]
        }
      ]
    },
    {
      "cell_type": "code",
      "execution_count": 2,
      "metadata": {
        "id": "fE8826fCWKuX"
      },
      "outputs": [],
      "source": [
        "from google.colab import drive\n",
        "import nltk\n",
        "import pandas as pd\n",
        "import re\n",
        "from nltk.corpus import stopwords\n",
        "import matplotlib.pyplot as plt\n",
        "from sklearn.feature_extraction.text import CountVectorizer, TfidfVectorizer\n",
        "from zemberek import TurkishMorphology\n",
        "from zemberek.normalization import TurkishSpellChecker\n",
        "from zemberek.tokenization import TurkishTokenizer"
      ]
    },
    {
      "cell_type": "code",
      "source": [
        "# Google Drive'ı bağlama\n",
        "drive.mount('/content/drive')"
      ],
      "metadata": {
        "colab": {
          "base_uri": "https://localhost:8080/"
        },
        "id": "OREJU1wKW9uG",
        "outputId": "b38cf423-f681-4bff-ec41-8269e25bc568"
      },
      "execution_count": 4,
      "outputs": [
        {
          "output_type": "stream",
          "name": "stdout",
          "text": [
            "Mounted at /content/drive\n"
          ]
        }
      ]
    },
    {
      "cell_type": "code",
      "source": [
        "# Downloading the NLTK stopwords dataset\n",
        "nltk.download('stopwords')"
      ],
      "metadata": {
        "colab": {
          "base_uri": "https://localhost:8080/"
        },
        "id": "eOOJPOKVXI8M",
        "outputId": "16007dff-ccf7-4d90-86a3-e852335c7062"
      },
      "execution_count": 5,
      "outputs": [
        {
          "output_type": "stream",
          "name": "stderr",
          "text": [
            "[nltk_data] Downloading package stopwords to /root/nltk_data...\n",
            "[nltk_data]   Unzipping corpora/stopwords.zip.\n"
          ]
        },
        {
          "output_type": "execute_result",
          "data": {
            "text/plain": [
              "True"
            ]
          },
          "metadata": {},
          "execution_count": 5
        }
      ]
    },
    {
      "cell_type": "code",
      "source": [
        "# Loading Zemberek components\n",
        "morphology = TurkishMorphology.create_with_defaults()\n",
        "spell_checker = TurkishSpellChecker(morphology)\n",
        "tokenizer = TurkishTokenizer.DEFAULT\n",
        "stop_words = set(stopwords.words('turkish'))\n"
      ],
      "metadata": {
        "colab": {
          "base_uri": "https://localhost:8080/"
        },
        "id": "NCtWIPrYXegR",
        "outputId": "09cea6d3-6361-4eba-bca5-9e6f34c039e9"
      },
      "execution_count": 6,
      "outputs": [
        {
          "output_type": "stream",
          "name": "stderr",
          "text": [
            "INFO:zemberek.morphology.turkish_morphology:TurkishMorphology instance initialized in 8.490204572677612\n"
          ]
        },
        {
          "output_type": "stream",
          "name": "stdout",
          "text": [
            "2025-03-07 13:48:09,923 - zemberek.morphology.turkish_morphology - INFO\n",
            "Msg: TurkishMorphology instance initialized in 8.490204572677612\n",
            "\n"
          ]
        }
      ]
    },
    {
      "cell_type": "code",
      "source": [
        "#data\n",
        "final_combined_data = pd.read_csv('birlesik_veri_seti.csv')"
      ],
      "metadata": {
        "id": "PzfLUvtialqz"
      },
      "execution_count": 15,
      "outputs": []
    },
    {
      "cell_type": "code",
      "source": [
        "# Preparing the dataset with only Row ID, Tweet, and Label columns\n",
        "filtered_data = final_combined_data[['row ID', 'Tweet', 'Etiket']].copy()\n",
        "\n",
        "# Adding row names\n",
        "filtered_data['row ID'] = ['row ' + str(i) for i in range(len(filtered_data))]"
      ],
      "metadata": {
        "id": "EBpiqEhgv7ho"
      },
      "execution_count": 16,
      "outputs": []
    },
    {
      "cell_type": "code",
      "source": [
        "# Class Distribution Analysis\n",
        "print(\"Class Distribution:\")\n",
        "class_distribution = filtered_data['Etiket'].value_counts()\n",
        "print(class_distribution)\n",
        "\n",
        "# Visualizing Class Distribution\n",
        "import matplotlib.pyplot as plt\n",
        "\n",
        "class_distribution.plot(kind='bar', color='skyblue')\n",
        "plt.title('Class Distribution')\n",
        "plt.xlabel('Classes')\n",
        "plt.ylabel('Frequency')\n",
        "plt.show()"
      ],
      "metadata": {
        "colab": {
          "base_uri": "https://localhost:8080/",
          "height": 626
        },
        "id": "dx0OBQAOwRZ4",
        "outputId": "46ba9f69-d5db-429e-8040-02f8753ee6ab"
      },
      "execution_count": 17,
      "outputs": [
        {
          "output_type": "stream",
          "name": "stdout",
          "text": [
            "Class Distribution:\n",
            "Etiket\n",
            "hiçbiri      8386\n",
            "nefret       2612\n",
            "saldırgan     226\n",
            "Name: count, dtype: int64\n"
          ]
        },
        {
          "output_type": "display_data",
          "data": {
            "text/plain": [
              "<Figure size 640x480 with 1 Axes>"
            ],
            "image/png": "[encoded data removed]"
          },
          "metadata": {}
        }
      ]
    },
    {
      "cell_type": "code",
      "source": [],
      "metadata": {
        "id": "zSzPOG7N1qLB"
      },
      "execution_count": null,
      "outputs": []
    },
    {
      "cell_type": "code",
      "source": [
        "from zemberek import TurkishMorphology\n",
        "from functools import lru_cache\n",
        "import time\n",
        "import re\n",
        "from zemberek import TurkishMorphology, TurkishSentenceNormalizer\n",
        "\n",
        "\n",
        "normalizer = TurkishSentenceNormalizer(morphology)\n",
        "# Zemberek Morphology başlatılıyor\n",
        "morphology = TurkishMorphology.create_with_defaults()\n",
        "\n",
        "# Kontrol sayacı\n",
        "check_counter = 0\n",
        "\n",
        "@lru_cache(maxsize=50000)\n",
        "def cached_spell_check(word):\n",
        "    global check_counter\n",
        "    check_counter += 1\n",
        "    if check_counter % 1000 == 0:\n",
        "        print(f\"{check_counter} kelime kontrol edildi...\")\n",
        "\n",
        "    # Yazım kontrolü ve öneri alma\n",
        "    suggestions = spell_checker.suggest_for_word(word)\n",
        "    corrected_word = suggestions[0] if suggestions else word\n",
        "\n",
        "    # Lemmatization işlemi\n",
        "    analysis = morphology.analyze(corrected_word)\n",
        "    lemmas = [result.get_stem() for result in analysis]\n",
        "\n",
        "    # Eğer lemma bulunmuşsa ilkini döndür, yoksa düzeltilmiş kelimeyi döndür\n",
        "    return lemmas[0] if lemmas else corrected_word\n",
        "\n",
        "# Tokenizasyon ve stopword temizleme\n",
        "def tokenize_and_clean(text):\n",
        "    # Küçük harfe çevirme\n",
        "    text = text.lower()\n",
        "\n",
        "    # URL'leri kaldırma\n",
        "    text = re.sub(r'http\\S+|www\\.\\S+', '', text)\n",
        "\n",
        "    # Kullanıcı etiketlerini kaldırma (@mention)\n",
        "    text = re.sub(r'@\\w+', '', text)\n",
        "\n",
        "    # Sayıları kaldırma\n",
        "    text = re.sub(r'[0-9]', '', text)\n",
        "\n",
        "    # Noktalama işaretlerini kaldırma\n",
        "    text = re.sub(r'[^\\w\\s]', '', text)\n",
        "\n",
        "    # Fazla boşlukları temizleme\n",
        "    text = re.sub(r'\\s+', ' ', text).strip()\n",
        "\n",
        "    # Normalizasyon (Loodos mantığına göre Zemberek ile)\n",
        "    text = normalizer.normalize(text)  # Metni normalize et (örneğin, yanlış yazımları düzelt)\n",
        "\n",
        "    # Tokenize işlemi (kelimelere ayırma)\n",
        "    tokens = [token.content for token in tokenizer.tokenize(text)]\n",
        "\n",
        "    # Stopwords (gereksiz kelimeleri) kaldırma\n",
        "    tokens = [word for word in tokens if word not in stop_words]\n",
        "\n",
        "    return tokens\n",
        "\n",
        "\n",
        "# Yazım düzeltmesi yapılmış token'ları saklamak için fonksiyon\n",
        "def correct_tokens_separately(tokens):\n",
        "    corrected_tokens = [cached_spell_check(token) for token in tokens]\n",
        "    return corrected_tokens  # Burada, her kelimeyi düzeltip geri döndürüyoruz.\n",
        "\n",
        "\n",
        "\n",
        "# Metin ön işleme adımlarını ayrı ayrı çalıştırma ve süre ölçme\n",
        "processed_data = filtered_data.copy()\n",
        "\n",
        "# Tokenizasyon ve stopword temizleme süresi\n",
        "start_time = time.time()\n",
        "processed_data['Tokens'] = processed_data['Tweet'].apply(tokenize_and_clean)\n",
        "end_time = time.time()\n",
        "print(f\"Tokenizasyon ve stopword temizleme süresi: {end_time - start_time:.2f} saniye\")\n",
        "\n",
        "#yazım düzeltme süresi\n",
        "start_time = time.time()\n",
        "processed_data['Processed Tokens'] = processed_data['Tokens'].apply(correct_tokens_separately)\n",
        "end_time = time.time()\n",
        "print(f\"yazım düzeltme süresi: {end_time - start_time:.2f} saniye\")\n",
        "\n",
        "# İşlenmiş veri setini kontrol etme\n",
        "print(\"İşlenmiş veri setinin ilk 5 satırı:\")\n",
        "print(processed_data.head())\n",
        "print(\"\\nİşlenmiş veri setinin son 5 satırı:\")\n",
        "print(processed_data.tail())\n",
        "\n"
      ],
      "metadata": {
        "colab": {
          "base_uri": "https://localhost:8080/"
        },
        "id": "a2Kw7NnUPG4p",
        "outputId": "7215c3da-f3b0-40bb-ea88-cc203423d657"
      },
      "execution_count": null,
      "outputs": [
        {
          "output_type": "stream",
          "name": "stderr",
          "text": [
            "INFO:zemberek.morphology.turkish_morphology:TurkishMorphology instance initialized in 5.976700782775879\n"
          ]
        },
        {
          "output_type": "stream",
          "name": "stdout",
          "text": [
            "2025-01-02 00:15:20,787 - zemberek.morphology.turkish_morphology - INFO\n",
            "Msg: TurkishMorphology instance initialized in 5.976700782775879\n",
            "\n",
            "Tokenizasyon ve stopword temizleme süresi: 899.59 saniye\n",
            "1000 kelime kontrol edildi...\n",
            "2000 kelime kontrol edildi...\n",
            "3000 kelime kontrol edildi...\n",
            "4000 kelime kontrol edildi...\n",
            "5000 kelime kontrol edildi...\n",
            "6000 kelime kontrol edildi...\n",
            "7000 kelime kontrol edildi...\n",
            "8000 kelime kontrol edildi...\n",
            "9000 kelime kontrol edildi...\n",
            "10000 kelime kontrol edildi...\n",
            "11000 kelime kontrol edildi...\n",
            "12000 kelime kontrol edildi...\n",
            "13000 kelime kontrol edildi...\n",
            "14000 kelime kontrol edildi...\n",
            "15000 kelime kontrol edildi...\n",
            "16000 kelime kontrol edildi...\n",
            "17000 kelime kontrol edildi...\n",
            "18000 kelime kontrol edildi...\n",
            "19000 kelime kontrol edildi...\n",
            "20000 kelime kontrol edildi...\n",
            "21000 kelime kontrol edildi...\n",
            "22000 kelime kontrol edildi...\n",
            "23000 kelime kontrol edildi...\n",
            "24000 kelime kontrol edildi...\n",
            "25000 kelime kontrol edildi...\n",
            "26000 kelime kontrol edildi...\n",
            "27000 kelime kontrol edildi...\n",
            "28000 kelime kontrol edildi...\n",
            "29000 kelime kontrol edildi...\n",
            "30000 kelime kontrol edildi...\n",
            "31000 kelime kontrol edildi...\n",
            "32000 kelime kontrol edildi...\n",
            "33000 kelime kontrol edildi...\n",
            "34000 kelime kontrol edildi...\n",
            "35000 kelime kontrol edildi...\n",
            "36000 kelime kontrol edildi...\n",
            "37000 kelime kontrol edildi...\n",
            "38000 kelime kontrol edildi...\n",
            "39000 kelime kontrol edildi...\n",
            "40000 kelime kontrol edildi...\n",
            "41000 kelime kontrol edildi...\n",
            "42000 kelime kontrol edildi...\n",
            "43000 kelime kontrol edildi...\n",
            "44000 kelime kontrol edildi...\n",
            "45000 kelime kontrol edildi...\n",
            "46000 kelime kontrol edildi...\n",
            "47000 kelime kontrol edildi...\n",
            "48000 kelime kontrol edildi...\n",
            "49000 kelime kontrol edildi...\n",
            "50000 kelime kontrol edildi...\n",
            "51000 kelime kontrol edildi...\n",
            "52000 kelime kontrol edildi...\n",
            "53000 kelime kontrol edildi...\n",
            "54000 kelime kontrol edildi...\n",
            "yazım düzeltme süresi: 2657.29 saniye\n",
            "İşlenmiş veri setinin ilk 5 satırı:\n",
            "  row ID                                              Tweet     Etiket  \\\n",
            "0  row 0  ya orospu cocuklari hepiniz niye ayni anda yaz...     nefret   \n",
            "1  row 1  Ciddiye alan tüm dünyanın beynini sileyim.. \\n...  saldırgan   \n",
            "2  row 2  Kayıtlı İstihdama geçiş programına göre (?)\\nŞ...    hiçbiri   \n",
            "3  row 3  Hastaneye git Suriyeli. PTT ye git Suriyeli. P...     nefret   \n",
            "4  row 4               Cölesi bitmiş suriyeli gibiyim bugün    hiçbiri   \n",
            "\n",
            "                                              Tokens  \\\n",
            "0  [orospu, çocukları, hepiniz, aynı, anda, yazıy...   \n",
            "1  [ciddiye, alan, dünyanın, beynini, sileyim, iş...   \n",
            "2  [kayıtlı, istihdama, geçiş, programına, göre, ...   \n",
            "3  [hastaneye, git, suriyeli, ptt, ye, git, suriy...   \n",
            "4         [colesi, bitmiş, suriyeli, gibiyim, bugün]   \n",
            "\n",
            "                                    Processed Tokens  \n",
            "0  [orospu, çocuk, hep, aynı, an, yap, tüm, ciddi...  \n",
            "1  [ciddi, ol, dünya, beyn, bil, iki, gün, baş, g...  \n",
            "2  [kayıt, istihdam, geniş, program, göre, şimdil...  \n",
            "3  [hastane, ait, suriye, ptt, de, ait, suriye, p...  \n",
            "4                   [coke, git, suriye, gibi, bugün]  \n",
            "\n",
            "İşlenmiş veri setinin son 5 satırı:\n",
            "          row ID                                              Tweet   Etiket  \\\n",
            "11219  row 11219  bu sadece kadın erkek meselesi mi hayır iyi in...  hiçbiri   \n",
            "11220  row 11220  eşcinsel genin olmadığına dair bilimsel çalışm...   nefret   \n",
            "11221  row 11221  eşcinsel çiftin düğün fotoğrafları viral oldu ...  hiçbiri   \n",
            "11222  row 11222  kral şakir necati karakteri... türk dizilerind...  hiçbiri   \n",
            "11223  row 11223  ulan maçı unutayım kafam dağılsın diye netflix...  hiçbiri   \n",
            "\n",
            "                                                  Tokens  \\\n",
            "11219  [sadece, kadın, erkek, meselesi, mi, hayır, iy...   \n",
            "11220  [eşcinsel, genin, olmadığına, dair, bilimsel, ...   \n",
            "11221  [eşcinsel, çiftin, düğün, fotoğrafları, viral,...   \n",
            "11222  [kral, şakir, necati, karakteri, türk, diziler...   \n",
            "11223  [ulan, maçı, unutayım, kafam, dağılsın, netfli...   \n",
            "\n",
            "                                        Processed Tokens  \n",
            "11219  [sadece, kadın, erken, mesele, ki, hazır, iki,...  \n",
            "11220  [eşcinsel, geniş, olmadığ, dair, bilimsel, çal...  \n",
            "11221  [eşcinsel, çift, düğ, fotoğraf, vural, ol, eyl...  \n",
            "11222  [kural, fakir, necati, karakter, türk, dizi, e...  \n",
            "11223  [ol, maç, unut, kaf, dağıl, netflix, yar, ora,...  \n"
          ]
        }
      ]
    },
    {
      "cell_type": "code",
      "source": [
        "# CSV dosyasını okuma\n",
        "input_file = '/content/drive/MyDrive/processed_data1.csv'\n",
        "processed_data = pd.read_csv(input_file)"
      ],
      "metadata": {
        "id": "rvUq3CLi1Stc"
      },
      "execution_count": 18,
      "outputs": []
    },
    {
      "cell_type": "code",
      "source": [
        "import logging\n",
        "import sys\n",
        "import multiprocessing\n",
        "import itertools\n",
        "from gensim.models import Word2Vec\n",
        "from gensim.models.word2vec import LineSentence"
      ],
      "metadata": {
        "id": "auBzBhx64D2X"
      },
      "execution_count": 19,
      "outputs": []
    },
    {
      "cell_type": "code",
      "source": [
        "processed_data['Processed Tokens'] = processed_data['Processed Tokens'].apply(lambda x: eval(x) if isinstance(x, str) else x)\n",
        "print(processed_data['Processed Tokens'].apply(lambda x: 'eşcinsel' in x))\n",
        "\n",
        "# Model eğitimi\n",
        "word2_model1 = Word2Vec(sentences=processed_data['Processed Tokens'], vector_size=100, window=5, min_count=1, sg=1, negative=4, epochs=10, workers=multiprocessing.cpu_count())\n"
      ],
      "metadata": {
        "collapsed": true,
        "id": "ydpf2-8vEjTn"
      },
      "execution_count": null,
      "outputs": []
    },
    {
      "cell_type": "code",
      "source": [
        "word2_model1.save(\"word2vec_model.model\")\n"
      ],
      "metadata": {
        "colab": {
          "base_uri": "https://localhost:8080/"
        },
        "id": "SN39EjN1RuYZ",
        "outputId": "19961e21-f9a0-4552-f47c-9c77ad4000ca"
      },
      "execution_count": 21,
      "outputs": [
        {
          "output_type": "stream",
          "name": "stderr",
          "text": [
            "INFO:gensim.utils:Word2Vec lifecycle event {'fname_or_handle': 'word2vec_model.model', 'separately': 'None', 'sep_limit': 10485760, 'ignore': frozenset(), 'datetime': '2025-03-07T13:50:56.291446', 'gensim': '4.3.3', 'python': '3.11.11 (main, Dec  4 2024, 08:55:07) [GCC 11.4.0]', 'platform': 'Linux-6.1.85+-x86_64-with-glibc2.35', 'event': 'saving'}\n"
          ]
        },
        {
          "output_type": "stream",
          "name": "stdout",
          "text": [
            "2025-03-07 13:50:56,291 - gensim.utils - INFO\n",
            "Msg: Word2Vec lifecycle event {'fname_or_handle': 'word2vec_model.model', 'separately': 'None', 'sep_limit': 10485760, 'ignore': frozenset(), 'datetime': '2025-03-07T13:50:56.291446', 'gensim': '4.3.3', 'python': '3.11.11 (main, Dec  4 2024, 08:55:07) [GCC 11.4.0]', 'platform': 'Linux-6.1.85+-x86_64-with-glibc2.35', 'event': 'saving'}\n",
            "\n"
          ]
        },
        {
          "output_type": "stream",
          "name": "stderr",
          "text": [
            "INFO:gensim.utils:not storing attribute cum_table\n"
          ]
        },
        {
          "output_type": "stream",
          "name": "stdout",
          "text": [
            "2025-03-07 13:50:56,293 - gensim.utils - INFO\n",
            "Msg: not storing attribute cum_table\n",
            "\n"
          ]
        },
        {
          "output_type": "stream",
          "name": "stderr",
          "text": [
            "INFO:gensim.utils:saved word2vec_model.model\n"
          ]
        },
        {
          "output_type": "stream",
          "name": "stdout",
          "text": [
            "2025-03-07 13:50:56,338 - gensim.utils - INFO\n",
            "Msg: saved word2vec_model.model\n",
            "\n"
          ]
        }
      ]
    },
    {
      "cell_type": "code",
      "source": [
        "import numpy as np\n",
        "\n",
        "def get_sentence_vector(model, tokens):\n",
        "    # Tokenler modelde varsa, kelime vektörlerini alıp ortalamasını döndürüyoruz\n",
        "    word_vectors = [model.wv[word] for word in tokens if word in model.wv]\n",
        "    if len(word_vectors) > 0:\n",
        "        return np.mean(word_vectors, axis=0)\n",
        "    else:\n",
        "        return np.zeros(model.vector_size)\n"
      ],
      "metadata": {
        "id": "PNEBNqtGGOoV"
      },
      "execution_count": 22,
      "outputs": []
    },
    {
      "cell_type": "code",
      "source": [
        "# Cümle vektörlerini elde ediyoruz\n",
        "processed_data['Word Vector'] = processed_data['Processed Tokens'].apply(lambda x: get_sentence_vector(word2_model1, x))\n",
        "from sklearn.preprocessing import LabelEncoder\n",
        "\n",
        "# Etiket sütununu sayısal verilere dönüştürme\n",
        "label_encoder = LabelEncoder()\n",
        "numeric_labels = label_encoder.fit_transform(processed_data['Etiket'])\n",
        "\n",
        "# Bu aşamada, eğer etiketli bir veri kümeniz varsa, etiketleri de alıyoruz\n",
        "X = np.array(processed_data['Word Vector'].tolist())  # Giriş vektörleri\n",
        "y = numeric_labels  # Etiketler (sınıflar)\n"
      ],
      "metadata": {
        "id": "JoFFmlseNgdJ"
      },
      "execution_count": 23,
      "outputs": []
    },
    {
      "cell_type": "code",
      "source": [
        "from sklearn.ensemble import RandomForestClassifier\n",
        "from xgboost import XGBClassifier\n",
        "from lightgbm import LGBMClassifier\n",
        "from sklearn.model_selection import train_test_split\n",
        "from sklearn.metrics import classification_report, precision_score, recall_score, f1_score, confusion_matrix, ConfusionMatrixDisplay\n",
        "from sklearn.preprocessing import LabelEncoder\n",
        "from tensorflow.keras.models import Sequential\n",
        "from tensorflow.keras.layers import Dense, Dropout\n",
        "from tensorflow.keras.utils import to_categorical\n",
        "from tensorflow.keras.callbacks import EarlyStopping\n",
        "from sklearn.metrics import accuracy_score\n",
        "import matplotlib.pyplot as plt\n",
        "import seaborn as sns\n",
        "import pandas as pd\n",
        "import numpy as np\n",
        "import os\n",
        "\n",
        "# Daha önce oluşturulan kombinasyonlar (count_combination_data, tfidf_combination_data) kullanılacak\n",
        "# Çıktılar için dosya yolunu ayarlama\n",
        "output_dir = \"/content/drive/MyDrive/outputs1\"\n",
        "os.makedirs(output_dir, exist_ok=True)\n",
        "\n",
        "# Etiketleri Yükleme ve Sayısal Dönüşüm\n",
        "labels = processed_data['Etiket']\n",
        "label_encoder = LabelEncoder()\n",
        "numeric_labels = label_encoder.fit_transform(labels)\n",
        "print(f\"Etiketler dönüştürüldü: {list(label_encoder.classes_)}\")\n",
        "\n",
        "# Veri Seti Bölme Fonksiyonu\n",
        "\n",
        "def split_data(matrix, labels):\n",
        "    # LightGBM ve diğer modeller için gerekli dönüşüm\n",
        "    matrix = matrix.astype(np.float32) if hasattr(matrix, 'astype') else matrix\n",
        "    return train_test_split(matrix, labels, test_size=0.16, random_state=42)\n",
        "\n",
        "# Performans Ölçüm Fonksiyonu\n",
        "def evaluate_model(model, X_train, X_test, y_train, y_test):\n",
        "    model.fit(X_train, y_train)\n",
        "    predictions = model.predict(X_test)\n",
        "\n",
        "    # Precision, Recall, F1-Score ve Accuracy hesaplamaları\n",
        "    precision = precision_score(y_test, predictions, average='weighted', zero_division=0)\n",
        "    recall = recall_score(y_test, predictions, average='weighted', zero_division=0)\n",
        "    f1 = f1_score(y_test, predictions, average='weighted', zero_division=0)\n",
        "    accuracy = accuracy_score(y_test, predictions)\n",
        "\n",
        "    # Metriği ekrana yazdırma\n",
        "    print(f\"Precision: {precision:.4f}, Recall: {recall:.4f}, F1-Score: {f1:.4f}, Accuracy: {accuracy:.4f}\")\n",
        "    return precision, recall, f1, accuracy, predictions\n",
        "\n",
        "# Confusion Matrix Görselleştirme Fonksiyonu\n",
        "def save_confusion_matrix(y_true, y_pred, model_name, data_type):\n",
        "    cm = confusion_matrix(y_true, y_pred, labels=np.unique(y_true))\n",
        "    disp = ConfusionMatrixDisplay(confusion_matrix=cm, display_labels=np.unique(y_true))\n",
        "    disp.plot(cmap=plt.cm.Blues, xticks_rotation='vertical')\n",
        "    plt.title(f\"Confusion Matrix - {model_name} ({data_type})\")\n",
        "    file_path = os.path.join(output_dir, f\"confusion_matrix_{model_name}_{data_type}.png\")\n",
        "    plt.savefig(file_path, bbox_inches='tight')\n",
        "    plt.close()\n",
        "    print(f\"Confusion matrix kaydedildi: {file_path}\")\n",
        "\n",
        "# Eğitim ve Doğrulama Metriklerini Kaydetme Fonksiyonu\n",
        "def save_training_validation_metrics(history, model_name, data_type):\n",
        "    epochs = range(1, len(history['loss']) + 1)\n",
        "\n",
        "    # Loss Grafiği\n",
        "    plt.plot(epochs, history['loss'], label='Training Loss')\n",
        "    plt.plot(epochs, history['val_loss'], label='Validation Loss')\n",
        "    plt.title(f\"Loss - {model_name} ({data_type})\")\n",
        "    plt.xlabel('Epochs')\n",
        "    plt.ylabel('Loss')\n",
        "    plt.legend()\n",
        "    file_path_loss = os.path.join(output_dir, f\"loss_{model_name}_{data_type}.png\")\n",
        "    plt.savefig(file_path_loss, bbox_inches='tight')\n",
        "    plt.close()\n",
        "    print(f\"Loss grafiği kaydedildi: {file_path_loss}\")\n",
        "\n",
        "    # Accuracy Grafiği\n",
        "    plt.plot(epochs, history['accuracy'], label='Training Accuracy')\n",
        "    plt.plot(epochs, history['val_accuracy'], label='Validation Accuracy')\n",
        "    plt.title(f\"Accuracy - {model_name} ({data_type})\")\n",
        "    plt.xlabel('Epochs')\n",
        "    plt.ylabel('Accuracy')\n",
        "    plt.legend()\n",
        "    file_path_acc = os.path.join(output_dir, f\"accuracy_{model_name}_{data_type}.png\")\n",
        "    plt.savefig(file_path_acc, bbox_inches='tight')\n",
        "    plt.close()\n",
        "    print(f\"Accuracy grafiği kaydedildi: {file_path_acc}\")\n",
        "\n",
        "# Kombinasyonlar için Performans Değerlendirme Tablosu\n",
        "results = []\n",
        "\n",
        "\n",
        "\n",
        "\n"
      ],
      "metadata": {
        "colab": {
          "base_uri": "https://localhost:8080/"
        },
        "id": "sJXp7hsmAuJd",
        "outputId": "4a899b54-d8b6-4e7c-a0ac-f63983954712"
      },
      "execution_count": 24,
      "outputs": [
        {
          "output_type": "stream",
          "name": "stdout",
          "text": [
            "Etiketler dönüştürüldü: ['hiçbiri', 'nefret', 'saldırgan']\n"
          ]
        }
      ]
    },
    {
      "cell_type": "code",
      "source": [
        "import matplotlib.pyplot as plt\n",
        "\n",
        "def evaluate_random_forest_with_word2vec():\n",
        "    print(f\"Word2Vec ile Random Forest modeli değerlendiriliyor...\")\n",
        "\n",
        "    # Cümle vektörlerini alıyoruz\n",
        "    X = np.array(processed_data['Word Vector'].tolist())\n",
        "    y = numeric_labels  # Etiketler\n",
        "\n",
        "    X_train, X_test, y_train, y_test = split_data(X, y)\n",
        "\n",
        "    n_range = range(1, 2, 1)  # Farklı ağaç sayıları\n",
        "    accuracies = []\n",
        "    oob_scores = []\n",
        "\n",
        "    for n in n_range:\n",
        "        model = RandomForestClassifier(\n",
        "            n_estimators=500,\n",
        "            max_depth=11,\n",
        "            min_samples_split=4,\n",
        "            min_samples_leaf=1,\n",
        "            oob_score=True,  # OOB Score'u hesapla\n",
        "            random_state=42\n",
        "        )\n",
        "\n",
        "        precision, recall, f1, accuracy, predictions = evaluate_model(model, X_train, X_test, y_train, y_test)\n",
        "\n",
        "        accuracies.append(accuracy)\n",
        "        oob_scores.append(model.oob_score_)\n",
        "\n",
        "        print(f\"Ağaç Sayısı: {n}, Accuracy: {accuracy:.4f}, OOB Score: {model.oob_score_:.4f}\")\n",
        "    # Confusion Matrix Kaydetme\n",
        "    save_confusion_matrix(y_test, predictions, \"RandomForest\", 'Word2Vec')\n",
        "    # Doğruluk ve OOB Skoru Grafiği\n",
        "    # plt.figure(figsize=(10, 5))\n",
        "    # plt.plot(n_range, accuracies, marker='o', label='Test Accuracy', color='blue')\n",
        "    # plt.plot(n_range, oob_scores, marker='s', label='OOB Score', color='red')\n",
        "\n",
        "    # plt.xlabel(\"Ağaç Sayısı (n_estimators)\")\n",
        "    # plt.ylabel(\"Skor\")\n",
        "    # plt.title(\"Random Forest: Ağaç Sayısına Göre Doğruluk ve OOB Skoru\")\n",
        "    # plt.legend()\n",
        "    # plt.grid()\n",
        "    # plt.show()\n"
      ],
      "metadata": {
        "id": "COZD9xCYFHzZ"
      },
      "execution_count": 25,
      "outputs": []
    },
    {
      "cell_type": "code",
      "source": [
        "# Değerlendirme İşlemi\n",
        "print(\"Random Forest Modeli Değerlendiriliyor...\")\n",
        "evaluate_random_forest_with_word2vec()"
      ],
      "metadata": {
        "colab": {
          "base_uri": "https://localhost:8080/"
        },
        "id": "-K_FSXDVGMBf",
        "outputId": "accd30e5-2abf-4b8a-eed8-9fffdc180c1f"
      },
      "execution_count": 26,
      "outputs": [
        {
          "output_type": "stream",
          "name": "stdout",
          "text": [
            "Random Forest Modeli Değerlendiriliyor...\n",
            "Word2Vec ile Random Forest modeli değerlendiriliyor...\n",
            "Precision: 0.8103, Recall: 0.8179, F1-Score: 0.7819, Accuracy: 0.8179\n",
            "Ağaç Sayısı: 1, Accuracy: 0.8179, OOB Score: 0.8037\n",
            "Confusion matrix kaydedildi: /content/drive/MyDrive/outputs1/confusion_matrix_RandomForest_Word2Vec.png\n"
          ]
        }
      ]
    },
    {
      "cell_type": "code",
      "source": [
        "# XGBoost Modeli\n",
        "def evaluate_xgboost():\n",
        "  print(f\"Word2Vec ile Xgboost modeli değerlendiriliyor...\")\n",
        " # Cümle vektörlerini alıyoruz\n",
        "  X = np.array(processed_data['Word Vector'].tolist())\n",
        "  y = numeric_labels  # Etiketler\n",
        "\n",
        "  X_train, X_test, y_train, y_test = split_data(X, y)\n",
        "  n_range = range(100, 200, 100)  # Farklı ağaç sayıları\n",
        "  accuracies = []\n",
        "  for n in n_range:\n",
        "      model = XGBClassifier(\n",
        "            eval_metric='logloss',\n",
        "            random_state=42,\n",
        "            n_estimators=700,\n",
        "            max_depth=15,\n",
        "            learning_rate=0.25,\n",
        "            subsample=0.8\n",
        "                )\n",
        "      precision, recall, f1, accuracy, predictions = evaluate_model(model, X_train, X_test, y_train, y_test)\n",
        "\n",
        "      accuracies.append(accuracy)\n",
        "\n",
        "      print(f\"Ağaç Sayısı: {n}, Accuracy: {accuracy:.4f}\")\n",
        "\n",
        "\n",
        "            # Confusion Matrix Kaydetme\n",
        "  save_confusion_matrix(y_test, predictions, \"XGBoost\", 'Word2Vec')\n"
      ],
      "metadata": {
        "id": "oXf4Pm2yM56S"
      },
      "execution_count": 27,
      "outputs": []
    },
    {
      "cell_type": "code",
      "source": [
        "# Değerlendirme İşlemi\n",
        "print(\"xgboost Modeli Değerlendiriliyor...\")\n",
        "evaluate_xgboost()\n"
      ],
      "metadata": {
        "colab": {
          "base_uri": "https://localhost:8080/"
        },
        "id": "qHHguhOEM8Kz",
        "outputId": "885424ee-2cc7-432b-deb3-7b85985ddbb9"
      },
      "execution_count": 28,
      "outputs": [
        {
          "output_type": "stream",
          "name": "stdout",
          "text": [
            "xgboost Modeli Değerlendiriliyor...\n",
            "Word2Vec ile Xgboost modeli değerlendiriliyor...\n",
            "Precision: 0.8027, Recall: 0.8246, F1-Score: 0.8038, Accuracy: 0.8246\n",
            "Ağaç Sayısı: 100, Accuracy: 0.8246\n",
            "Confusion matrix kaydedildi: /content/drive/MyDrive/outputs1/confusion_matrix_XGBoost_Word2Vec.png\n"
          ]
        }
      ]
    },
    {
      "cell_type": "code",
      "source": [
        "import matplotlib.pyplot as plt\n",
        "import numpy as np\n",
        "import pandas as pd\n",
        "from imblearn.over_sampling import SMOTE\n",
        "from imblearn.under_sampling import RandomUnderSampler\n",
        "from imblearn.combine import SMOTEENN\n",
        "\n",
        "# Resampling işlemleri için kullanılacak fonksiyonlar\n",
        "def resample_data(X, y, method):\n",
        "    \"\"\"\n",
        "    Resampling işlemini gerçekleştirir (oversampling, undersampling veya combined).\n",
        "    \"\"\"\n",
        "    if method == 'oversampling':\n",
        "        resampler = SMOTE(random_state=42)\n",
        "    elif method == 'undersampling':\n",
        "        resampler = RandomUnderSampler(random_state=42)\n",
        "    elif method == 'combined':\n",
        "        resampler = SMOTEENN(random_state=42)\n",
        "    else:\n",
        "        raise ValueError(\"Geçersiz resampling yöntemi: 'oversampling', 'undersampling', veya 'combined' olmalı.\")\n",
        "\n",
        "    X_resampled, y_resampled = resampler.fit_resample(X, y)\n",
        "    return X_resampled, y_resampled\n",
        "\n",
        "\n",
        "# Tüm veri setleri için resampling işlemleri\n",
        "resampled_data_sets = {}\n",
        "\n",
        "# Orijinal veri\n",
        "X_original = np.array(processed_data['Word Vector'].tolist())  # Giriş vektörleri\n",
        "y_original = numeric_labels  # Etiketler (sınıflar)\n",
        "# Oversampling sonrası\n",
        "X_oversampled, y_oversampled = resample_data(X_original, y_original, method='oversampling')\n",
        "resampled_data_sets[f\"oversampling_{'Word2Vec'}\"] = (X_oversampled, y_oversampled)\n",
        "\n",
        "# Undersampling sonrası\n",
        "X_undersampled, y_undersampled = resample_data(X_original, y_original, method='undersampling')\n",
        "resampled_data_sets[f\"undersampling_{'Word2Vec'}\"] = (X_undersampled, y_undersampled)\n",
        "\n",
        "# Combined yöntem sonrası\n",
        "X_combined, y_combined = resample_data(X_original, y_original, method='combined')\n",
        "resampled_data_sets[f\"combined_{'Word2Vec'}\"] = (X_combined, y_combined)\n",
        "\n",
        "print(\"Seçilen kombinasyonlar için resampling işlemleri tamamlandı ve veri setleri modelde kullanılabilir hale getirildi.\")\n",
        "\n",
        "# Rastgele 1 örnek seçme ve inceleme\n",
        "random_sample_key = np.random.choice(list(resampled_data_sets.keys()))\n",
        "print(f\"Rastgele seçilen örnek: {random_sample_key}\")\n",
        "X_sample, y_sample = resampled_data_sets[random_sample_key]\n",
        "\n",
        "# Pasta grafikleri çizme fonksiyonu\n",
        "def plot_pie_chart(y, title):\n",
        "    labels, counts = np.unique(y, return_counts=True)\n",
        "    plt.figure(figsize=(6, 6))\n",
        "    plt.pie(counts, labels=labels, autopct='%1.1f%%', startangle=140, colors=plt.cm.Paired.colors)\n",
        "    plt.title(title)\n",
        "    plt.axis('equal')\n",
        "    plt.show()\n",
        "\n",
        "# Resampling yöntemlerine göre pasta grafikleri çizdirme\n",
        "methods = ['oversampling', 'undersampling', 'combined']\n",
        "for method in methods:\n",
        "    sample_key = f\"{method}_{random_sample_key.split('_', 1)[1]}\"\n",
        "    if sample_key in resampled_data_sets:\n",
        "        _, y_resampled = resampled_data_sets[sample_key]\n",
        "        plot_pie_chart(y_resampled, f\"{method.capitalize()} Sonrası Sınıf Dağılımı - {sample_key}\")\n"
      ],
      "metadata": {
        "colab": {
          "base_uri": "https://localhost:8080/",
          "height": 1000
        },
        "id": "JimW0vVcmoib",
        "outputId": "7239095a-5f7e-4dba-c427-e061ae1a996a"
      },
      "execution_count": 29,
      "outputs": [
        {
          "output_type": "stream",
          "name": "stdout",
          "text": [
            "Seçilen kombinasyonlar için resampling işlemleri tamamlandı ve veri setleri modelde kullanılabilir hale getirildi.\n",
            "Rastgele seçilen örnek: undersampling_Word2Vec\n"
          ]
        },
        {
          "output_type": "display_data",
          "data": {
            "text/plain": [
              "<Figure size 600x600 with 1 Axes>"
            ],
            "image/png": "[encoded data removed]"
          },
          "metadata": {}
        },
        {
          "output_type": "display_data",
          "data": {
            "text/plain": [
              "<Figure size 600x600 with 1 Axes>"
            ],
            "image/png": "[encoded data removed]"
          },
          "metadata": {}
        },
        {
          "output_type": "display_data",
          "data": {
            "text/plain": [
              "<Figure size 600x600 with 1 Axes>"
            ],
            "image/png": "[encoded data removed]"
          },
          "metadata": {}
        }
      ]
    },
    {
      "cell_type": "code",
      "source": [
        "from sklearn.ensemble import RandomForestClassifier\n",
        "from xgboost import XGBClassifier\n",
        "from lightgbm import LGBMClassifier\n",
        "from sklearn.model_selection import train_test_split\n",
        "from sklearn.metrics import classification_report, precision_score, recall_score, f1_score, confusion_matrix, ConfusionMatrixDisplay\n",
        "from sklearn.preprocessing import LabelEncoder\n",
        "from tensorflow.keras.models import Sequential\n",
        "from tensorflow.keras.layers import Dense, Dropout\n",
        "from tensorflow.keras.utils import to_categorical\n",
        "from tensorflow.keras.callbacks import EarlyStopping\n",
        "from sklearn.metrics import accuracy_score\n",
        "import matplotlib.pyplot as plt\n",
        "import seaborn as sns\n",
        "import pandas as pd\n",
        "import numpy as np\n",
        "import os\n",
        "\n",
        "# Daha önce oluşturulan kombinasyonlar (count_combination_data, tfidf_combination_data) kullanılacak\n",
        "# Çıktılar için dosya yolunu ayarlama\n",
        "output_dir = \"/content/outputs1_resample\"\n",
        "os.makedirs(output_dir, exist_ok=True)\n",
        "\n",
        "# Etiketleri Yükleme ve Sayısal Dönüşüm\n",
        "labels = processed_data['Etiket']\n",
        "label_encoder = LabelEncoder()\n",
        "numeric_labels = label_encoder.fit_transform(labels)\n",
        "print(f\"Etiketler dönüştürüldü: {list(label_encoder.classes_)}\")\n",
        "\n",
        "# Veri Seti Bölme Fonksiyonu\n",
        "\n",
        "def split_data(matrix, labels):\n",
        "    # LightGBM ve diğer modeller için gerekli dönüşüm\n",
        "    matrix = matrix.astype(np.float32) if hasattr(matrix, 'astype') else matrix\n",
        "    return train_test_split(matrix, labels, test_size=0.2, random_state=42)\n",
        "\n",
        "# Performans Ölçüm Fonksiyonu\n",
        "def evaluate_model(model, X_train, X_test, y_train, y_test):\n",
        "    model.fit(X_train, y_train)\n",
        "    predictions = model.predict(X_test)\n",
        "\n",
        "    # Precision, Recall, F1-Score ve Accuracy hesaplamaları\n",
        "    precision = precision_score(y_test, predictions, average='weighted', zero_division=0)\n",
        "    recall = recall_score(y_test, predictions, average='weighted', zero_division=0)\n",
        "    f1 = f1_score(y_test, predictions, average='weighted', zero_division=0)\n",
        "    accuracy = accuracy_score(y_test, predictions)\n",
        "\n",
        "    # Metriği ekrana yazdırma\n",
        "    print(f\"Precision: {precision:.4f}, Recall: {recall:.4f}, F1-Score: {f1:.4f}, Accuracy: {accuracy:.4f}\")\n",
        "    return precision, recall, f1, accuracy, predictions\n",
        "\n",
        "# Confusion Matrix Görselleştirme Fonksiyonu\n",
        "def save_confusion_matrix(y_true, y_pred, model_name, data_type, combination):\n",
        "    cm = confusion_matrix(y_true, y_pred, labels=np.unique(y_true))\n",
        "    disp = ConfusionMatrixDisplay(confusion_matrix=cm, display_labels=np.unique(y_true))\n",
        "    disp.plot(cmap=plt.cm.Blues, xticks_rotation='vertical')\n",
        "    plt.title(f\"Confusion Matrix - {model_name} ({data_type} - {combination})\")\n",
        "    file_path = os.path.join(output_dir, f\"confusion_matrix_{model_name}_{data_type}_{combination}.png\")\n",
        "    plt.savefig(file_path, bbox_inches='tight')\n",
        "    plt.close()\n",
        "    print(f\"Confusion matrix kaydedildi: {file_path}\")\n",
        "\n",
        "# Eğitim ve Doğrulama Metriklerini Kaydetme Fonksiyonu\n",
        "def save_training_validation_metrics(history, model_name, data_type, combination):\n",
        "    epochs = range(1, len(history['loss']) + 1)\n",
        "\n",
        "    # Loss Grafiği\n",
        "    plt.plot(epochs, history['loss'], label='Training Loss')\n",
        "    plt.plot(epochs, history['val_loss'], label='Validation Loss')\n",
        "    plt.title(f\"Loss - {model_name} ({data_type} - {combination})\")\n",
        "    plt.xlabel('Epochs')\n",
        "    plt.ylabel('Loss')\n",
        "    plt.legend()\n",
        "    file_path_loss = os.path.join(output_dir, f\"loss_{model_name}_{data_type}_{combination}.png\")\n",
        "    plt.savefig(file_path_loss, bbox_inches='tight')\n",
        "    plt.close()\n",
        "    print(f\"Loss grafiği kaydedildi: {file_path_loss}\")\n",
        "\n",
        "    # Accuracy Grafiği\n",
        "    plt.plot(epochs, history['accuracy'], label='Training Accuracy')\n",
        "    plt.plot(epochs, history['val_accuracy'], label='Validation Accuracy')\n",
        "    plt.title(f\"Accuracy - {model_name} ({data_type} - {combination})\")\n",
        "    plt.xlabel('Epochs')\n",
        "    plt.ylabel('Accuracy')\n",
        "    plt.legend()\n",
        "    file_path_acc = os.path.join(output_dir, f\"accuracy_{model_name}_{data_type}_{combination}.png\")\n",
        "    plt.savefig(file_path_acc, bbox_inches='tight')\n",
        "    plt.close()\n",
        "    print(f\"Accuracy grafiği kaydedildi: {file_path_acc}\")\n",
        "\n",
        "# Kombinasyonlar için Performans Değerlendirme Tablosu\n",
        "results = []"
      ],
      "metadata": {
        "colab": {
          "base_uri": "https://localhost:8080/"
        },
        "id": "rm4A3XMprKBa",
        "outputId": "a37162d6-2b61-43b9-a864-8274081b73c8"
      },
      "execution_count": 63,
      "outputs": [
        {
          "output_type": "stream",
          "name": "stdout",
          "text": [
            "Etiketler dönüştürüldü: ['hiçbiri', 'nefret', 'saldırgan']\n"
          ]
        }
      ]
    },
    {
      "cell_type": "code",
      "source": [
        "print(resampled_data_sets.keys())\n"
      ],
      "metadata": {
        "colab": {
          "base_uri": "https://localhost:8080/"
        },
        "id": "PEeNijfkSOHR",
        "outputId": "76a50dd7-148b-4e7b-db7f-a4ac3ccbbdfe"
      },
      "execution_count": 45,
      "outputs": [
        {
          "output_type": "stream",
          "name": "stdout",
          "text": [
            "dict_keys(['oversampling_Word2Vec', 'undersampling_Word2Vec', 'combined_Word2Vec'])\n"
          ]
        }
      ]
    },
    {
      "cell_type": "code",
      "source": [
        "\n",
        "# Random Forest Modeli\n",
        "\n",
        "def evaluate_random_forest_resampled():\n",
        "    for key, (X_resampled, y_resampled) in resampled_data_sets.items():\n",
        "        if key != 'combined_Word2Vec':\n",
        "          continue\n",
        "        print(f\"Random Forest ile {key} kombinasyonu değerlendiriliyor...\")\n",
        "        X_train, X_test, y_train, y_test = split_data(X_resampled, y_resampled)\n",
        "        n_range = range(100,200,100)\n",
        "        accuracies = []\n",
        "        for n in n_range:\n",
        "          model = RandomForestClassifier(\n",
        "              random_state=42,\n",
        "              n_estimators=400,\n",
        "              max_depth=10,\n",
        "              min_samples_split=8\n",
        "\n",
        "          )\n",
        "          precision, recall, f1, accuracy, predictions = evaluate_model(model, X_train, X_test, y_train, y_test)\n",
        "          accuracies.append(accuracy)\n",
        "          results.append({\n",
        "              'Model': 'Random Forest',\n",
        "              'Data Type': 'Resampled',\n",
        "              'Kombinasyon': key,\n",
        "              'Precision': precision,\n",
        "              'Recall': recall,\n",
        "              'F1-Score': f1,\n",
        "              'Accuracy': accuracy\n",
        "          })\n",
        "\n",
        "        # Confusion Matrix Kaydetme\n",
        "        save_confusion_matrix(y_test, predictions, \"RandomForest\", \"Resampled\", key)\n",
        "\n"
      ],
      "metadata": {
        "id": "SrcxHm5Om3Tc"
      },
      "execution_count": 90,
      "outputs": []
    },
    {
      "cell_type": "code",
      "source": [
        "# Değerlendirme İşlemi\n",
        "print(\"Random Forest Modeli Değerlendiriliyor...\")\n",
        "evaluate_random_forest_resampled()"
      ],
      "metadata": {
        "colab": {
          "base_uri": "https://localhost:8080/"
        },
        "id": "TQBTBdWam6tG",
        "outputId": "3d0d3307-bb01-4b67-eeb6-409ec5e0d1ff"
      },
      "execution_count": 91,
      "outputs": [
        {
          "output_type": "stream",
          "name": "stdout",
          "text": [
            "Random Forest Modeli Değerlendiriliyor...\n",
            "Random Forest ile combined_Word2Vec kombinasyonu değerlendiriliyor...\n",
            "Precision: 0.9133, Recall: 0.9114, F1-Score: 0.9085, Accuracy: 0.9114\n",
            "Confusion matrix kaydedildi: /content/outputs1_resample/confusion_matrix_RandomForest_Resampled_combined_Word2Vec.png\n"
          ]
        }
      ]
    },
    {
      "cell_type": "code",
      "source": [
        "\n",
        "# XGBoost Modeli\n",
        "\n",
        "def evaluate_xgboost_resampled():\n",
        "    for key, (X_resampled, y_resampled) in resampled_data_sets.items():\n",
        "        if key != 'combined_Word2Vec':\n",
        "          continue\n",
        "        print(f\"XGBoost ile {key} kombinasyonu değerlendiriliyor...\")\n",
        "        X_train, X_test, y_train, y_test = split_data(X_resampled, y_resampled)\n",
        "        n_range = range(1,2,1)\n",
        "        accuracies = []\n",
        "        for n in n_range:\n",
        "          model = XGBClassifier(\n",
        "              eval_metric='logloss',\n",
        "              random_state=42,\n",
        "              n_estimators=800,\n",
        "              max_depth=14,\n",
        "              learning_rate=0.25,\n",
        "              subsample=0.7\n",
        "          )\n",
        "\n",
        "          precision, recall, f1, accuracy, predictions = evaluate_model(model, X_train, X_test, y_train, y_test)\n",
        "          accuracies.append(accuracy)\n",
        "          results.append({\n",
        "              'Model': 'XGBoost',\n",
        "              'Data Type': 'Resampled',\n",
        "              'Kombinasyon': key,\n",
        "              'Precision': precision,\n",
        "              'Recall': recall,\n",
        "              'F1-Score': f1,\n",
        "              'Accuracy': accuracy\n",
        "          })\n",
        "          print(f\"Ağaç Sayısı: {n}, Accuracy: {accuracy:.4f}\")\n",
        "          # Confusion Matrix Kaydetme\n",
        "          save_confusion_matrix(y_test, predictions, \"XGBoost\", \"Resampled\", key)\n",
        "          # Modeli kaydetme\n",
        "          model_path = \"xgboost_combined_word2vec.pkl\"\n",
        "          joblib.dump(model, model_path)\n",
        "          print(f\"Model '{model_path}' dosyasına kaydedildi.\")\n",
        "\n"
      ],
      "metadata": {
        "id": "KjhX2H3Gs8w2"
      },
      "execution_count": 78,
      "outputs": []
    },
    {
      "cell_type": "code",
      "source": [
        "print(\"xgboost Modeli Değerlendiriliyor...\")\n",
        "evaluate_xgboost_resampled()\n",
        "\n",
        "\n"
      ],
      "metadata": {
        "colab": {
          "base_uri": "https://localhost:8080/"
        },
        "id": "DPeSCmbgYqVT",
        "outputId": "2ccded61-c72d-4294-b97f-65a8c065c441"
      },
      "execution_count": 80,
      "outputs": [
        {
          "output_type": "stream",
          "name": "stdout",
          "text": [
            "xgboost Modeli Değerlendiriliyor...\n",
            "XGBoost ile combined_Word2Vec kombinasyonu değerlendiriliyor...\n",
            "Precision: 0.9769, Recall: 0.9771, F1-Score: 0.9768, Accuracy: 0.9771\n",
            "Ağaç Sayısı: 1, Accuracy: 0.9771\n",
            "Confusion matrix kaydedildi: /content/outputs1_resample/confusion_matrix_XGBoost_Resampled_combined_Word2Vec.png\n",
            "Model 'xgboost_combined_word2vec.pkl' dosyasına kaydedildi.\n"
          ]
        }
      ]
    }
  ]
}