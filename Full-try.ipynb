{
  "nbformat": 4,
  "nbformat_minor": 0,
  "metadata": {
    "colab": {
      "provenance": [],
      "machine_shape": "hm",
      "authorship_tag": "ABX9TyMQPUWI9HVWrm1ZRSqcqbbX",
      "include_colab_link": true
    },
    "kernelspec": {
      "name": "python3",
      "display_name": "Python 3"
    },
    "language_info": {
      "name": "python"
    }
  },
  "cells": [
    {
      "cell_type": "markdown",
      "metadata": {
        "id": "view-in-github",
        "colab_type": "text"
      },
      "source": [
        "<a href=\"https://colab.research.google.com/github/BerkAIcelik/hate-speech-detection-system-using-TR-tweets/blob/main/Untitled8.ipynb\" target=\"_parent\"><img src=\"https://colab.research.google.com/assets/colab-badge.svg\" alt=\"Open In Colab\"/></a>"
      ]
    },
    {
      "cell_type": "code",
      "execution_count": null,
      "metadata": {
        "colab": {
          "base_uri": "https://localhost:8080/"
        },
        "id": "wLV9IbN5nRR1",
        "outputId": "4eefc210-3501-4860-ed0b-a722c34d0bc2"
      },
      "outputs": [
        {
          "output_type": "stream",
          "name": "stdout",
          "text": [
            "Collecting zemberek-python\n",
            "  Downloading zemberek_python-0.2.3-py3-none-any.whl.metadata (2.7 kB)\n",
            "Collecting antlr4-python3-runtime==4.8 (from zemberek-python)\n",
            "  Downloading antlr4-python3-runtime-4.8.tar.gz (112 kB)\n",
            "\u001b[2K     \u001b[90m━━━━━━━━━━━━━━━━━━━━━━━━━━━━━━━━━━━━━━━━\u001b[0m \u001b[32m112.4/112.4 kB\u001b[0m \u001b[31m3.4 MB/s\u001b[0m eta \u001b[36m0:00:00\u001b[0m\n",
            "\u001b[?25h  Preparing metadata (setup.py) ... \u001b[?25l\u001b[?25hdone\n",
            "Requirement already satisfied: numpy>=1.19.0 in /usr/local/lib/python3.10/dist-packages (from zemberek-python) (1.26.4)\n",
            "Downloading zemberek_python-0.2.3-py3-none-any.whl (95.1 MB)\n",
            "\u001b[2K   \u001b[90m━━━━━━━━━━━━━━━━━━━━━━━━━━━━━━━━━━━━━━━━\u001b[0m \u001b[32m95.1/95.1 MB\u001b[0m \u001b[31m11.5 MB/s\u001b[0m eta \u001b[36m0:00:00\u001b[0m\n",
            "\u001b[?25hBuilding wheels for collected packages: antlr4-python3-runtime\n",
            "  Building wheel for antlr4-python3-runtime (setup.py) ... \u001b[?25l\u001b[?25hdone\n",
            "  Created wheel for antlr4-python3-runtime: filename=antlr4_python3_runtime-4.8-py3-none-any.whl size=141214 sha256=a3200516a36427b633bcb5deb171788bdee86c1169269bd40e0cddb5b01015a3\n",
            "  Stored in directory: /root/.cache/pip/wheels/a7/20/bd/e1477d664f22d99989fd28ee1a43d6633dddb5cb9e801350d5\n",
            "Successfully built antlr4-python3-runtime\n",
            "Installing collected packages: antlr4-python3-runtime, zemberek-python\n",
            "Successfully installed antlr4-python3-runtime-4.8 zemberek-python-0.2.3\n"
          ]
        }
      ],
      "source": [
        "pip install zemberek-python"
      ]
    },
    {
      "cell_type": "code",
      "source": [
        "from google.colab import drive\n",
        "import nltk\n",
        "import pandas as pd\n",
        "import re\n",
        "from nltk.corpus import stopwords\n",
        "import matplotlib.pyplot as plt\n",
        "from sklearn.feature_extraction.text import CountVectorizer, TfidfVectorizer\n",
        "from zemberek import TurkishMorphology\n",
        "from zemberek.normalization import TurkishSpellChecker\n",
        "from zemberek.tokenization import TurkishTokenizer"
      ],
      "metadata": {
        "id": "QjBJYg1x7Z7j"
      },
      "execution_count": null,
      "outputs": []
    },
    {
      "cell_type": "code",
      "source": [
        "# Google Drive'ı bağlama\n",
        "drive.mount('/content/drive')"
      ],
      "metadata": {
        "colab": {
          "base_uri": "https://localhost:8080/"
        },
        "id": "MqB78XiO7cFs",
        "outputId": "99bbcf9c-7f76-4053-c615-7818479c5fa5"
      },
      "execution_count": null,
      "outputs": [
        {
          "output_type": "stream",
          "name": "stdout",
          "text": [
            "Mounted at /content/drive\n"
          ]
        }
      ]
    },
    {
      "cell_type": "code",
      "source": [
        "# NLTK stopwords veri setini indirme\n",
        "nltk.download('stopwords')"
      ],
      "metadata": {
        "colab": {
          "base_uri": "https://localhost:8080/"
        },
        "id": "o8kv8pr88ymw",
        "outputId": "b22e8718-4616-4a84-9806-ecbe48215eaa"
      },
      "execution_count": null,
      "outputs": [
        {
          "output_type": "stream",
          "name": "stderr",
          "text": [
            "[nltk_data] Downloading package stopwords to /root/nltk_data...\n",
            "[nltk_data]   Unzipping corpora/stopwords.zip.\n"
          ]
        },
        {
          "output_type": "execute_result",
          "data": {
            "text/plain": [
              "True"
            ]
          },
          "metadata": {},
          "execution_count": 5
        }
      ]
    },
    {
      "cell_type": "code",
      "source": [
        "# Zemberek bileşenlerini yükleme\n",
        "morphology = TurkishMorphology.create_with_defaults()\n",
        "spell_checker = TurkishSpellChecker(morphology)\n",
        "tokenizer = TurkishTokenizer.DEFAULT\n",
        "stop_words = set(stopwords.words('turkish'))\n"
      ],
      "metadata": {
        "colab": {
          "base_uri": "https://localhost:8080/"
        },
        "id": "FQwDVKBi7rOU",
        "outputId": "1b4bf8b8-d461-4c40-e5e2-fa414a4692a1"
      },
      "execution_count": null,
      "outputs": [
        {
          "output_type": "stream",
          "name": "stderr",
          "text": [
            "INFO:zemberek.morphology.turkish_morphology:TurkishMorphology instance initialized in 6.012364864349365\n"
          ]
        },
        {
          "output_type": "stream",
          "name": "stdout",
          "text": [
            "2025-01-02 00:14:53,095 - zemberek.morphology.turkish_morphology - INFO\n",
            "Msg: TurkishMorphology instance initialized in 6.012364864349365\n",
            "\n"
          ]
        }
      ]
    },
    {
      "cell_type": "code",
      "source": [
        "!pip install openpyxl"
      ],
      "metadata": {
        "colab": {
          "base_uri": "https://localhost:8080/"
        },
        "id": "8HbGBB5G9Z0C",
        "outputId": "b9a8af88-eb85-4739-b67a-6c9777cdf10f"
      },
      "execution_count": null,
      "outputs": [
        {
          "output_type": "stream",
          "name": "stdout",
          "text": [
            "Collecting openpyxl\n",
            "  Downloading openpyxl-3.1.5-py2.py3-none-any.whl.metadata (2.5 kB)\n",
            "Collecting et-xmlfile (from openpyxl)\n",
            "  Downloading et_xmlfile-2.0.0-py3-none-any.whl.metadata (2.7 kB)\n",
            "Downloading openpyxl-3.1.5-py2.py3-none-any.whl (250 kB)\n",
            "\u001b[?25l   \u001b[90m━━━━━━━━━━━━━━━━━━━━━━━━━━━━━━━━━━━━━━━━\u001b[0m \u001b[32m0.0/250.9 kB\u001b[0m \u001b[31m?\u001b[0m eta \u001b[36m-:--:--\u001b[0m\r\u001b[2K   \u001b[91m━━━━━━━━━━━━━━━━━━━━━━━━━━━━━━━━━━━━━━━\u001b[0m\u001b[90m╺\u001b[0m \u001b[32m245.8/250.9 kB\u001b[0m \u001b[31m9.9 MB/s\u001b[0m eta \u001b[36m0:00:01\u001b[0m\r\u001b[2K   \u001b[90m━━━━━━━━━━━━━━━━━━━━━━━━━━━━━━━━━━━━━━━━\u001b[0m \u001b[32m250.9/250.9 kB\u001b[0m \u001b[31m6.9 MB/s\u001b[0m eta \u001b[36m0:00:00\u001b[0m\n",
            "\u001b[?25hDownloading et_xmlfile-2.0.0-py3-none-any.whl (18 kB)\n",
            "Installing collected packages: et-xmlfile, openpyxl\n",
            "Successfully installed et-xmlfile-2.0.0 openpyxl-3.1.5\n"
          ]
        }
      ]
    },
    {
      "cell_type": "code",
      "source": [
        "# İlk veri seti: Türkçe Nefret Söylemi Veriseti.xlsx\n",
        "datafile1 = '/content/drive/MyDrive/Türkçe Nefret Söylemi Veriseti.xlsx'\n",
        "sheets1 = pd.ExcelFile(datafile1)\n",
        "# Tüm sayfa adlarını incele\n",
        "sheet_names1 = sheets1.sheet_names\n",
        "# TOPLAM sheet'ini hariç tutup diğerlerini birleştirme\n",
        "combined_data1 = pd.DataFrame()\n",
        "for sheet_name in sheet_names1:\n",
        "    if sheet_name != 'TOPLAM':\n",
        "        temp_df = sheets1.parse(sheet_name, header=1)  # 2. satırdan itibaren sütun isimleri alınıyor\n",
        "        combined_data1 = pd.concat([combined_data1, temp_df], ignore_index=True)"
      ],
      "metadata": {
        "id": "fCp1s1sw7uUV"
      },
      "execution_count": null,
      "outputs": []
    },
    {
      "cell_type": "code",
      "source": [
        "# İlk 3\n",
        "print(\"Birleştirilmiş veri setinin ilk 3 satırı:\")\n",
        "print(combined_data1.head(3))"
      ],
      "metadata": {
        "colab": {
          "base_uri": "https://localhost:8080/"
        },
        "id": "OwlA3TAh9sM4",
        "outputId": "c2e1df22-6851-499e-e904-6201356fb098"
      },
      "execution_count": null,
      "outputs": [
        {
          "output_type": "stream",
          "name": "stdout",
          "text": [
            "Birleştirilmiş veri setinin ilk 3 satırı:\n",
            "   row ID                                              Tweet     Etiket  \\\n",
            "0  Row589  ya orospu cocuklari hepiniz niye ayni anda yaz...     nefret   \n",
            "1  Row593  Ciddiye alan tüm dünyanın beynini sileyim.. \\n...  saldırgan   \n",
            "2  Row600  Kayıtlı İstihdama geçiş programına göre (?)\\nŞ...    hiçbiri   \n",
            "\n",
            "  Alt Etiket   Etiket.1 Alt Etiket.1   Etiket.2 Alt Etiket.2 Etiket.3  \\\n",
            "0      etnik     nefret        etnik     nefret        etnik      NaN   \n",
            "1        NaN  saldırgan          NaN  saldırgan          NaN      NaN   \n",
            "2        NaN    hiçbiri          NaN    hiçbiri          NaN      NaN   \n",
            "\n",
            "  Alt Etiket.3  ...  User - Location User - Time Zone User - Statuses  \\\n",
            "0          NaN  ...          gökyüzü              NaN            9417   \n",
            "1          NaN  ...             İMKB              NaN            8747   \n",
            "2          NaN  ...            T. C.              NaN           27697   \n",
            "\n",
            "   User - Followers  User - Friends  User - Favourites  Unnamed: 35  RowID  \\\n",
            "0              2860            2543            40313.0          NaN    NaN   \n",
            "1               314              15             5537.0          NaN    NaN   \n",
            "2             12548            8941            84426.0          NaN    NaN   \n",
            "\n",
            "   Unnamed: 22  Row ID  \n",
            "0          NaN     NaN  \n",
            "1          NaN     NaN  \n",
            "2          NaN     NaN  \n",
            "\n",
            "[3 rows x 39 columns]\n"
          ]
        }
      ]
    },
    {
      "cell_type": "code",
      "source": [
        "# İkinci veri seti: Türkçe Nefret Söylemi Veri Seti v1.xlsx\n",
        "datafile2 = '/content/drive/MyDrive/Türkçe Nefret Söylemi Veri Seti v1.xlsx'\n",
        "sheets2 = pd.ExcelFile(datafile2)\n",
        "# 1000 Tweet sheet'ini yükle\n",
        "combined_data2 = sheets2.parse('1000 Tweet')  # 2. satırdan itibaren sütun isimleri alınıyor"
      ],
      "metadata": {
        "id": "TeUHR-HJ-Vgp"
      },
      "execution_count": null,
      "outputs": []
    },
    {
      "cell_type": "code",
      "source": [
        "# Sütunların uyumluluğunu kontrol etme\n",
        "columns1 = combined_data1.columns\n",
        "columns2 = combined_data2.columns\n",
        "# Eşleşen ve eşleşmeyen sütunları belirleme\n",
        "matching_columns = [col for col in columns1 if col in columns2]\n",
        "non_matching_columns1 = [col for col in columns1 if col not in columns2]\n",
        "non_matching_columns2 = [col for col in columns2 if col not in columns1]"
      ],
      "metadata": {
        "id": "YvBdGVHC-Z8H"
      },
      "execution_count": null,
      "outputs": []
    },
    {
      "cell_type": "code",
      "source": [
        "print(\"Eşleşen sütunlar:\", matching_columns)\n",
        "print(\"Birinci veri setinde olup ikinci veri setinde olmayan sütunlar:\", non_matching_columns1)\n",
        "print(\"İkinci veri setinde olup birinci veri setinde olmayan sütunlar:\", non_matching_columns2)"
      ],
      "metadata": {
        "colab": {
          "base_uri": "https://localhost:8080/"
        },
        "id": "PacBdGtw-bdQ",
        "outputId": "d8d52926-a4d1-4545-f31b-56d5fd215d37"
      },
      "execution_count": null,
      "outputs": [
        {
          "output_type": "stream",
          "name": "stdout",
          "text": [
            "Eşleşen sütunlar: ['row ID', 'Tweet', 'Etiket', 'Alt Etiket', 'Tweet ID', 'Time', 'Favorited', 'Retweeted', 'Is Favourited', 'Is Retweeted', 'Is Retweet', 'Retweet from', 'Latitude', 'Longitude', 'Country', 'User', 'User - Profile image', 'User - Name', 'User - ID', 'User - Description', 'User - URL', 'User - Creation time', 'User - Language', 'User - Location', 'User - Time Zone', 'User - Statuses', 'User - Followers', 'User - Friends', 'User - Favourites']\n",
            "Birinci veri setinde olup ikinci veri setinde olmayan sütunlar: ['Etiket.1', 'Alt Etiket.1', 'Etiket.2', 'Alt Etiket.2', 'Etiket.3', 'Alt Etiket.3', 'Unnamed: 35', 'RowID', 'Unnamed: 22', 'Row ID']\n",
            "İkinci veri setinde olup birinci veri setinde olmayan sütunlar: []\n"
          ]
        }
      ]
    },
    {
      "cell_type": "code",
      "source": [
        "# Sadece eşleşen sütunları birleştirme\n",
        "combined_data1 = combined_data1[matching_columns]\n",
        "combined_data2 = combined_data2[matching_columns]\n",
        "final_combined_data = pd.concat([combined_data1, combined_data2], ignore_index=True)\n"
      ],
      "metadata": {
        "id": "Bg4oOQNi-jkA"
      },
      "execution_count": null,
      "outputs": []
    },
    {
      "cell_type": "code",
      "source": [
        "# İlk 3\n",
        "print(\"Birleştirilmiş nihai veri setinin ilk 3 satırı:\")\n",
        "print(final_combined_data.head(3))"
      ],
      "metadata": {
        "colab": {
          "base_uri": "https://localhost:8080/"
        },
        "id": "Shn5Wg10-rBD",
        "outputId": "940b4f92-7f7d-4359-e01d-825ac0c16b40"
      },
      "execution_count": null,
      "outputs": [
        {
          "output_type": "stream",
          "name": "stdout",
          "text": [
            "Birleştirilmiş nihai veri setinin ilk 3 satırı:\n",
            "   row ID                                              Tweet     Etiket  \\\n",
            "0  Row589  ya orospu cocuklari hepiniz niye ayni anda yaz...     nefret   \n",
            "1  Row593  Ciddiye alan tüm dünyanın beynini sileyim.. \\n...  saldırgan   \n",
            "2  Row600  Kayıtlı İstihdama geçiş programına göre (?)\\nŞ...    hiçbiri   \n",
            "\n",
            "  Alt Etiket      Tweet ID                 Time Favorited  Retweeted  \\\n",
            "0      etnik  1.169530e+23  2019-09-05 11:33:56        12          1   \n",
            "1        NaN  1.169530e+23  2019-09-05 11:32:09         3          0   \n",
            "2        NaN  1.169530e+23  2019-09-05 11:29:34        26          1   \n",
            "\n",
            "   Is Favourited  Is Retweeted  ...  \\\n",
            "0              0             0  ...   \n",
            "1              0             0  ...   \n",
            "2              0             0  ...   \n",
            "\n",
            "                                  User - Description  User - URL  \\\n",
            "0                                 duygusal bir topum         NaN   \n",
            "1  mühendis.. finansla da ilgilenir.. asla yatırı...         NaN   \n",
            "2  1283\\n 🖤bjk\\nLEYLA\\nD.dere\\nBi miktar Trabzonl...         NaN   \n",
            "\n",
            "   User - Creation time  User - Language User - Location User - Time Zone  \\\n",
            "0   2015-09-02 10:29:00              NaN         gökyüzü              NaN   \n",
            "1   2017-09-08 11:44:53              NaN            İMKB              NaN   \n",
            "2   2017-02-27 11:24:14              NaN           T. C.              NaN   \n",
            "\n",
            "  User - Statuses User - Followers User - Friends User - Favourites  \n",
            "0            9417             2860           2543           40313.0  \n",
            "1            8747              314             15            5537.0  \n",
            "2           27697            12548           8941           84426.0  \n",
            "\n",
            "[3 rows x 29 columns]\n"
          ]
        }
      ]
    },
    {
      "cell_type": "code",
      "source": [
        "# Birleştirilmiş nihai veri setini kaydetme\n",
        "final_combined_data.to_csv('birlesik_veri_seti.csv', index=False)\n",
        "print(\"Birleştirilmiş veri seti 'birlesik_veri_seti.csv' olarak kaydedildi.\")\n",
        "\n",
        "# Veri setinin genel yapısını inceleme\n",
        "print(\"Veri setinin genel bilgisi:\")\n",
        "print(final_combined_data.info())\n"
      ],
      "metadata": {
        "colab": {
          "base_uri": "https://localhost:8080/"
        },
        "id": "okYrKYiC-0Hh",
        "outputId": "869dc731-b9dc-43b1-fece-a2321dbede66"
      },
      "execution_count": null,
      "outputs": [
        {
          "output_type": "stream",
          "name": "stdout",
          "text": [
            "Birleştirilmiş veri seti 'birlesik_veri_seti.csv' olarak kaydedildi.\n",
            "Veri setinin genel bilgisi:\n",
            "<class 'pandas.core.frame.DataFrame'>\n",
            "RangeIndex: 11224 entries, 0 to 11223\n",
            "Data columns (total 29 columns):\n",
            " #   Column                Non-Null Count  Dtype  \n",
            "---  ------                --------------  -----  \n",
            " 0   row ID                10959 non-null  object \n",
            " 1   Tweet                 11224 non-null  object \n",
            " 2   Etiket                11224 non-null  object \n",
            " 3   Alt Etiket            2612 non-null   object \n",
            " 4   Tweet ID              11223 non-null  float64\n",
            " 5   Time                  11224 non-null  object \n",
            " 6   Favorited             11224 non-null  object \n",
            " 7   Retweeted             11224 non-null  int64  \n",
            " 8   Is Favourited         11224 non-null  int64  \n",
            " 9   Is Retweeted          11224 non-null  int64  \n",
            " 10  Is Retweet            11224 non-null  int64  \n",
            " 11  Retweet from          1 non-null      float64\n",
            " 12  Latitude              13 non-null     float64\n",
            " 13  Longitude             13 non-null     float64\n",
            " 14  Country               318 non-null    object \n",
            " 15  User                  11223 non-null  object \n",
            " 16  User - Profile image  122 non-null    object \n",
            " 17  User - Name           11222 non-null  object \n",
            " 18  User - ID             11195 non-null  object \n",
            " 19  User - Description    9233 non-null   object \n",
            " 20  User - URL            3336 non-null   object \n",
            " 21  User - Creation time  11103 non-null  object \n",
            " 22  User - Language       57 non-null     object \n",
            " 23  User - Location       6274 non-null   object \n",
            " 24  User - Time Zone      122 non-null    object \n",
            " 25  User - Statuses       11223 non-null  object \n",
            " 26  User - Followers      11224 non-null  object \n",
            " 27  User - Friends        11224 non-null  int64  \n",
            " 28  User - Favourites     11103 non-null  float64\n",
            "dtypes: float64(5), int64(5), object(19)\n",
            "memory usage: 2.5+ MB\n",
            "None\n"
          ]
        }
      ]
    },
    {
      "cell_type": "code",
      "source": [
        "# Birleştirilmiş nihai veri setini sadece Row ID, Tweet ve Etiket sütunları ile hazırlama\n",
        "filtered_data = final_combined_data[['row ID', 'Tweet', 'Etiket']].copy()\n",
        "\n",
        "# Row ID değerlerini yeniden isimlendirme\n",
        "filtered_data['row ID'] = ['row ' + str(i) for i in range(len(filtered_data))]\n",
        "\n",
        "# İlk ve son satırı gösterme\n",
        "print(\"Filtrelenmiş veri setinin ilk satırı:\")\n",
        "print(filtered_data.head(1))\n",
        "\n",
        "print(\"Filtrelenmiş veri setinin son satırı:\")\n",
        "print(filtered_data.tail(1))"
      ],
      "metadata": {
        "colab": {
          "base_uri": "https://localhost:8080/"
        },
        "id": "HOEChFgg_E01",
        "outputId": "c4e7775a-da1c-49a3-9d5d-0fc9dcc8c7f5"
      },
      "execution_count": null,
      "outputs": [
        {
          "output_type": "stream",
          "name": "stdout",
          "text": [
            "Filtrelenmiş veri setinin ilk satırı:\n",
            "  row ID                                              Tweet  Etiket\n",
            "0  row 0  ya orospu cocuklari hepiniz niye ayni anda yaz...  nefret\n",
            "Filtrelenmiş veri setinin son satırı:\n",
            "          row ID                                              Tweet   Etiket\n",
            "11223  row 11223  ulan maçı unutayım kafam dağılsın diye netflix...  hiçbiri\n"
          ]
        }
      ]
    },
    {
      "cell_type": "code",
      "source": [
        "# Sınıf dağılımı analizi\n",
        "print(\"Sınıf dağılımı:\")\n",
        "class_distribution = filtered_data['Etiket'].value_counts()\n",
        "print(class_distribution)\n",
        "\n",
        "# Sınıf dağılımını görselleştirme\n",
        "import matplotlib.pyplot as plt\n",
        "\n",
        "class_distribution.plot(kind='bar', color='skyblue')\n",
        "plt.title('Sınıf Dağılımı')\n",
        "plt.xlabel('Sınıflar')\n",
        "plt.ylabel('Frekans')\n",
        "plt.show()"
      ],
      "metadata": {
        "colab": {
          "base_uri": "https://localhost:8080/",
          "height": 633
        },
        "id": "XOknWAX5_HGU",
        "outputId": "34583c1c-1b4c-4174-d508-950462212b1a"
      },
      "execution_count": null,
      "outputs": [
        {
          "output_type": "stream",
          "name": "stdout",
          "text": [
            "Sınıf dağılımı:\n",
            "Etiket\n",
            "hiçbiri      8386\n",
            "nefret       2612\n",
            "saldırgan     226\n",
            "Name: count, dtype: int64\n"
          ]
        },
        {
          "output_type": "display_data",
          "data": {
            "text/plain": [
              "<Figure size 640x480 with 1 Axes>"
            ],
            "image/png": "[encoded data removed]"
          },
          "metadata": {}
        }
      ]
    },
    {
      "cell_type": "code",
      "source": [
        "from zemberek import TurkishMorphology\n",
        "from functools import lru_cache\n",
        "import time\n",
        "import re\n",
        "from zemberek import TurkishMorphology, TurkishSentenceNormalizer\n",
        "\n",
        "\n",
        "normalizer = TurkishSentenceNormalizer(morphology)\n",
        "# Zemberek Morphology başlatılıyor\n",
        "morphology = TurkishMorphology.create_with_defaults()\n",
        "\n",
        "# Kontrol sayacı\n",
        "check_counter = 0\n",
        "\n",
        "@lru_cache(maxsize=50000)\n",
        "def cached_spell_check(word):\n",
        "    global check_counter\n",
        "    check_counter += 1\n",
        "    if check_counter % 1000 == 0:\n",
        "        print(f\"{check_counter} kelime kontrol edildi...\")\n",
        "\n",
        "    # Yazım kontrolü ve öneri alma\n",
        "    suggestions = spell_checker.suggest_for_word(word)\n",
        "    corrected_word = suggestions[0] if suggestions else word\n",
        "\n",
        "    # Lemmatization işlemi\n",
        "    analysis = morphology.analyze(corrected_word)\n",
        "    lemmas = [result.get_stem() for result in analysis]\n",
        "\n",
        "    # Eğer lemma bulunmuşsa ilkini döndür, yoksa düzeltilmiş kelimeyi döndür\n",
        "    return lemmas[0] if lemmas else corrected_word\n",
        "\n",
        "# Tokenizasyon ve stopword temizleme\n",
        "def tokenize_and_clean(text):\n",
        "    # Küçük harfe çevirme\n",
        "    text = text.lower()\n",
        "\n",
        "    # URL'leri kaldırma\n",
        "    text = re.sub(r'http\\S+|www\\.\\S+', '', text)\n",
        "\n",
        "    # Kullanıcı etiketlerini kaldırma (@mention)\n",
        "    text = re.sub(r'@\\w+', '', text)\n",
        "\n",
        "    # Sayıları kaldırma\n",
        "    text = re.sub(r'[0-9]', '', text)\n",
        "\n",
        "    # Noktalama işaretlerini kaldırma\n",
        "    text = re.sub(r'[^\\w\\s]', '', text)\n",
        "\n",
        "    # Fazla boşlukları temizleme\n",
        "    text = re.sub(r'\\s+', ' ', text).strip()\n",
        "\n",
        "    # Normalizasyon (Loodos mantığına göre Zemberek ile)\n",
        "    text = normalizer.normalize(text)  # Metni normalize et (örneğin, yanlış yazımları düzelt)\n",
        "\n",
        "    # Tokenize işlemi (kelimelere ayırma)\n",
        "    tokens = [token.content for token in tokenizer.tokenize(text)]\n",
        "\n",
        "    # Stopwords (gereksiz kelimeleri) kaldırma\n",
        "    tokens = [word for word in tokens if word not in stop_words]\n",
        "\n",
        "    return tokens\n",
        "\n",
        "\n",
        "# Yazım düzeltmesi yapılmış token'ları saklamak için fonksiyon\n",
        "def correct_tokens_separately(tokens):\n",
        "    corrected_tokens = [cached_spell_check(token) for token in tokens]\n",
        "    return corrected_tokens  # Burada, her kelimeyi düzeltip geri döndürüyoruz.\n",
        "\n",
        "\n",
        "\n",
        "# Metin ön işleme adımlarını ayrı ayrı çalıştırma ve süre ölçme\n",
        "processed_data = filtered_data.copy()\n",
        "\n",
        "# Tokenizasyon ve stopword temizleme süresi\n",
        "start_time = time.time()\n",
        "processed_data['Tokens'] = processed_data['Tweet'].apply(tokenize_and_clean)\n",
        "end_time = time.time()\n",
        "print(f\"Tokenizasyon ve stopword temizleme süresi: {end_time - start_time:.2f} saniye\")\n",
        "\n",
        "#yazım düzeltme süresi\n",
        "start_time = time.time()\n",
        "processed_data['Processed Tokens'] = processed_data['Tokens'].apply(correct_tokens_separately)\n",
        "end_time = time.time()\n",
        "print(f\"yazım düzeltme süresi: {end_time - start_time:.2f} saniye\")\n",
        "\n",
        "# İşlenmiş veri setini kontrol etme\n",
        "print(\"İşlenmiş veri setinin ilk 5 satırı:\")\n",
        "print(processed_data.head())\n",
        "print(\"\\nİşlenmiş veri setinin son 5 satırı:\")\n",
        "print(processed_data.tail())\n",
        "\n"
      ],
      "metadata": {
        "colab": {
          "base_uri": "https://localhost:8080/"
        },
        "id": "a2Kw7NnUPG4p",
        "outputId": "7215c3da-f3b0-40bb-ea88-cc203423d657"
      },
      "execution_count": null,
      "outputs": [
        {
          "output_type": "stream",
          "name": "stderr",
          "text": [
            "INFO:zemberek.morphology.turkish_morphology:TurkishMorphology instance initialized in 5.976700782775879\n"
          ]
        },
        {
          "output_type": "stream",
          "name": "stdout",
          "text": [
            "2025-01-02 00:15:20,787 - zemberek.morphology.turkish_morphology - INFO\n",
            "Msg: TurkishMorphology instance initialized in 5.976700782775879\n",
            "\n",
            "Tokenizasyon ve stopword temizleme süresi: 899.59 saniye\n",
            "1000 kelime kontrol edildi...\n",
            "2000 kelime kontrol edildi...\n",
            "3000 kelime kontrol edildi...\n",
            "4000 kelime kontrol edildi...\n",
            "5000 kelime kontrol edildi...\n",
            "6000 kelime kontrol edildi...\n",
            "7000 kelime kontrol edildi...\n",
            "8000 kelime kontrol edildi...\n",
            "9000 kelime kontrol edildi...\n",
            "10000 kelime kontrol edildi...\n",
            "11000 kelime kontrol edildi...\n",
            "12000 kelime kontrol edildi...\n",
            "13000 kelime kontrol edildi...\n",
            "14000 kelime kontrol edildi...\n",
            "15000 kelime kontrol edildi...\n",
            "16000 kelime kontrol edildi...\n",
            "17000 kelime kontrol edildi...\n",
            "18000 kelime kontrol edildi...\n",
            "19000 kelime kontrol edildi...\n",
            "20000 kelime kontrol edildi...\n",
            "21000 kelime kontrol edildi...\n",
            "22000 kelime kontrol edildi...\n",
            "23000 kelime kontrol edildi...\n",
            "24000 kelime kontrol edildi...\n",
            "25000 kelime kontrol edildi...\n",
            "26000 kelime kontrol edildi...\n",
            "27000 kelime kontrol edildi...\n",
            "28000 kelime kontrol edildi...\n",
            "29000 kelime kontrol edildi...\n",
            "30000 kelime kontrol edildi...\n",
            "31000 kelime kontrol edildi...\n",
            "32000 kelime kontrol edildi...\n",
            "33000 kelime kontrol edildi...\n",
            "34000 kelime kontrol edildi...\n",
            "35000 kelime kontrol edildi...\n",
            "36000 kelime kontrol edildi...\n",
            "37000 kelime kontrol edildi...\n",
            "38000 kelime kontrol edildi...\n",
            "39000 kelime kontrol edildi...\n",
            "40000 kelime kontrol edildi...\n",
            "41000 kelime kontrol edildi...\n",
            "42000 kelime kontrol edildi...\n",
            "43000 kelime kontrol edildi...\n",
            "44000 kelime kontrol edildi...\n",
            "45000 kelime kontrol edildi...\n",
            "46000 kelime kontrol edildi...\n",
            "47000 kelime kontrol edildi...\n",
            "48000 kelime kontrol edildi...\n",
            "49000 kelime kontrol edildi...\n",
            "50000 kelime kontrol edildi...\n",
            "51000 kelime kontrol edildi...\n",
            "52000 kelime kontrol edildi...\n",
            "53000 kelime kontrol edildi...\n",
            "54000 kelime kontrol edildi...\n",
            "yazım düzeltme süresi: 2657.29 saniye\n",
            "İşlenmiş veri setinin ilk 5 satırı:\n",
            "  row ID                                              Tweet     Etiket  \\\n",
            "0  row 0  ya orospu cocuklari hepiniz niye ayni anda yaz...     nefret   \n",
            "1  row 1  Ciddiye alan tüm dünyanın beynini sileyim.. \\n...  saldırgan   \n",
            "2  row 2  Kayıtlı İstihdama geçiş programına göre (?)\\nŞ...    hiçbiri   \n",
            "3  row 3  Hastaneye git Suriyeli. PTT ye git Suriyeli. P...     nefret   \n",
            "4  row 4               Cölesi bitmiş suriyeli gibiyim bugün    hiçbiri   \n",
            "\n",
            "                                              Tokens  \\\n",
            "0  [orospu, çocukları, hepiniz, aynı, anda, yazıy...   \n",
            "1  [ciddiye, alan, dünyanın, beynini, sileyim, iş...   \n",
            "2  [kayıtlı, istihdama, geçiş, programına, göre, ...   \n",
            "3  [hastaneye, git, suriyeli, ptt, ye, git, suriy...   \n",
            "4         [colesi, bitmiş, suriyeli, gibiyim, bugün]   \n",
            "\n",
            "                                    Processed Tokens  \n",
            "0  [orospu, çocuk, hep, aynı, an, yap, tüm, ciddi...  \n",
            "1  [ciddi, ol, dünya, beyn, bil, iki, gün, baş, g...  \n",
            "2  [kayıt, istihdam, geniş, program, göre, şimdil...  \n",
            "3  [hastane, ait, suriye, ptt, de, ait, suriye, p...  \n",
            "4                   [coke, git, suriye, gibi, bugün]  \n",
            "\n",
            "İşlenmiş veri setinin son 5 satırı:\n",
            "          row ID                                              Tweet   Etiket  \\\n",
            "11219  row 11219  bu sadece kadın erkek meselesi mi hayır iyi in...  hiçbiri   \n",
            "11220  row 11220  eşcinsel genin olmadığına dair bilimsel çalışm...   nefret   \n",
            "11221  row 11221  eşcinsel çiftin düğün fotoğrafları viral oldu ...  hiçbiri   \n",
            "11222  row 11222  kral şakir necati karakteri... türk dizilerind...  hiçbiri   \n",
            "11223  row 11223  ulan maçı unutayım kafam dağılsın diye netflix...  hiçbiri   \n",
            "\n",
            "                                                  Tokens  \\\n",
            "11219  [sadece, kadın, erkek, meselesi, mi, hayır, iy...   \n",
            "11220  [eşcinsel, genin, olmadığına, dair, bilimsel, ...   \n",
            "11221  [eşcinsel, çiftin, düğün, fotoğrafları, viral,...   \n",
            "11222  [kral, şakir, necati, karakteri, türk, diziler...   \n",
            "11223  [ulan, maçı, unutayım, kafam, dağılsın, netfli...   \n",
            "\n",
            "                                        Processed Tokens  \n",
            "11219  [sadece, kadın, erken, mesele, ki, hazır, iki,...  \n",
            "11220  [eşcinsel, geniş, olmadığ, dair, bilimsel, çal...  \n",
            "11221  [eşcinsel, çift, düğ, fotoğraf, vural, ol, eyl...  \n",
            "11222  [kural, fakir, necati, karakter, türk, dizi, e...  \n",
            "11223  [ol, maç, unut, kaf, dağıl, netflix, yar, ora,...  \n"
          ]
        }
      ]
    },
    {
      "cell_type": "code",
      "source": [
        "# İşlenmiş veriyi CSV olarak kaydetme\n",
        "output_file = 'processed_data1.csv'\n",
        "processed_data.to_csv(output_file, index=False)\n",
        "print(f\"İşlenmiş veri seti '{output_file}' olarak kaydedildi.\")\n"
      ],
      "metadata": {
        "colab": {
          "base_uri": "https://localhost:8080/"
        },
        "id": "EZOMHA9sLOuN",
        "outputId": "72573b7f-c5df-4651-b28f-6d7f50cfccda"
      },
      "execution_count": null,
      "outputs": [
        {
          "output_type": "stream",
          "name": "stdout",
          "text": [
            "İşlenmiş veri seti 'processed_data1.csv' olarak kaydedildi.\n"
          ]
        }
      ]
    },
    {
      "cell_type": "code",
      "source": [
        "# Google Drive'ı bağlama\n",
        "from google.colab import drive\n",
        "drive.mount('/content/drive')"
      ],
      "metadata": {
        "colab": {
          "base_uri": "https://localhost:8080/"
        },
        "id": "qmCw7BycY_7e",
        "outputId": "94dd27db-c00f-432a-dd47-21fcce3ecf57"
      },
      "execution_count": null,
      "outputs": [
        {
          "output_type": "stream",
          "name": "stdout",
          "text": [
            "Mounted at /content/drive\n"
          ]
        }
      ]
    },
    {
      "cell_type": "code",
      "source": [],
      "metadata": {
        "id": "EnO10mApxWiJ"
      },
      "execution_count": null,
      "outputs": []
    },
    {
      "cell_type": "code",
      "source": [
        "from google.colab import drive\n",
        "\n",
        "import pandas as pd\n",
        "import re\n",
        "from nltk.corpus import stopwords\n",
        "import matplotlib.pyplot as plt\n"
      ],
      "metadata": {
        "id": "rEAmzU71jdxM"
      },
      "execution_count": null,
      "outputs": []
    },
    {
      "cell_type": "code",
      "source": [
        "import pandas as pd\n",
        "\n",
        "# CSV dosyasını okuma\n",
        "input_file = '/content/drive/MyDrive/processed_data1.csv'\n",
        "processed_data = pd.read_csv(input_file)\n",
        "\n",
        "print(\"CSV dosyası başarıyla yüklendi!\")\n",
        "print(\"İlk 5 satır:\")\n",
        "print(processed_data.head())\n"
      ],
      "metadata": {
        "id": "RXfER-OJi3DR"
      },
      "execution_count": null,
      "outputs": []
    },
    {
      "cell_type": "code",
      "source": [
        "\n",
        "import logging\n",
        "import sys\n",
        "import multiprocessing\n",
        "\n",
        "from gensim.models import Word2Vec\n",
        "from gensim.models.word2vec import LineSentence"
      ],
      "metadata": {
        "id": "0bkYadyHxlQH"
      },
      "execution_count": null,
      "outputs": []
    },
    {
      "cell_type": "code",
      "source": [
        "import itertools"
      ],
      "metadata": {
        "id": "U76ssECD1cNn"
      },
      "execution_count": null,
      "outputs": []
    },
    {
      "cell_type": "code",
      "source": [
        "# processed_data['Tokens'] üzerinde split işlemi yapılmaz, çünkü veri zaten tokenize edilmiş.\n",
        "print(processed_data.head())\n",
        "\n",
        "processed_data['Processed Tokens'] = processed_data['Processed Tokens'].apply(lambda x: eval(x) if isinstance(x, str) else x)\n",
        "print(processed_data['Processed Tokens'].apply(lambda x: 'eşcinsel' in x))\n",
        "a\n",
        "\n",
        "# Model eğitimi\n",
        "word2_model1 = Word2Vec(sentences=processed_data['Processed Tokens'], vector_size=100, window=5, min_count=1, sg=1, negative=4, epochs=10, workers=multiprocessing.cpu_count())\n",
        "\n",
        "# 'eşcinsel' kelimesiyle en benzer kelimeleri bulalım\n",
        "print(word2_model1.wv.most_similar(positive=['eşcinsel']))\n"
      ],
      "metadata": {
        "colab": {
          "base_uri": "https://localhost:8080/"
        },
        "id": "ax0pT7_2y40h",
        "outputId": "560cfa24-9294-4ee4-b115-d93c2bc6efa2"
      },
      "execution_count": null,
      "outputs": [
        {
          "output_type": "stream",
          "name": "stdout",
          "text": [
            "  row ID                                              Tweet     Etiket  \\\n",
            "0  row 0  ya orospu cocuklari hepiniz niye ayni anda yaz...     nefret   \n",
            "1  row 1  Ciddiye alan tüm dünyanın beynini sileyim.. \\n...  saldırgan   \n",
            "2  row 2  Kayıtlı İstihdama geçiş programına göre (?)\\nŞ...    hiçbiri   \n",
            "3  row 3  Hastaneye git Suriyeli. PTT ye git Suriyeli. P...     nefret   \n",
            "4  row 4               Cölesi bitmiş suriyeli gibiyim bugün    hiçbiri   \n",
            "\n",
            "                                              Tokens  \\\n",
            "0  ['orospu', 'çocukları', 'hepiniz', 'aynı', 'an...   \n",
            "1  ['ciddiye', 'alan', 'dünyanın', 'beynini', 'si...   \n",
            "2  ['kayıtlı', 'istihdama', 'geçiş', 'programına'...   \n",
            "3  ['hastaneye', 'git', 'suriyeli', 'ptt', 'ye', ...   \n",
            "4  ['colesi', 'bitmiş', 'suriyeli', 'gibiyim', 'b...   \n",
            "\n",
            "                                    Processed Tokens  \n",
            "0  ['orospu', 'çocuk', 'hep', 'aynı', 'an', 'yap'...  \n",
            "1  ['ciddi', 'ol', 'dünya', 'beyn', 'bil', 'iki',...  \n",
            "2  ['kayıt', 'istihdam', 'geniş', 'program', 'gör...  \n",
            "3  ['hastane', 'ait', 'suriye', 'ptt', 'de', 'ait...  \n",
            "4         ['coke', 'git', 'suriye', 'gibi', 'bugün']  \n",
            "0        False\n",
            "1        False\n",
            "2        False\n",
            "3        False\n",
            "4        False\n",
            "         ...  \n",
            "11219     True\n",
            "11220     True\n",
            "11221     True\n",
            "11222     True\n",
            "11223     True\n",
            "Name: Processed Tokens, Length: 11224, dtype: bool\n",
            "[('kanıtla', 0.8998505473136902), ('koca', 0.878494918346405), ('görün', 0.8766735196113586), ('başta', 0.874385416507721), ('doğur', 0.8665063977241516), ('istismar', 0.8655636310577393), ('muhafazakar', 0.86542809009552), ('giyin', 0.8616282939910889), ('tesadüf', 0.8544232845306396), ('lezbiyen', 0.8542330265045166)]\n"
          ]
        }
      ]
    },
    {
      "cell_type": "code",
      "source": [
        "import numpy as np\n",
        "\n",
        "def get_sentence_vector(model, tokens):\n",
        "    # Tokenler modelde varsa, kelime vektörlerini alıp ortalamasını döndürüyoruz\n",
        "    word_vectors = [model.wv[word] for word in tokens if word in model.wv]\n",
        "    if len(word_vectors) > 0:\n",
        "        return np.mean(word_vectors, axis=0)\n",
        "    else:\n",
        "        return np.zeros(model.vector_size)\n"
      ],
      "metadata": {
        "id": "kzDpv_z7tyrG"
      },
      "execution_count": null,
      "outputs": []
    },
    {
      "cell_type": "code",
      "source": [
        "# Cümle vektörlerini elde ediyoruz\n",
        "processed_data['Sentence Vector'] = processed_data['Processed Tokens'].apply(lambda x: get_sentence_vector(word2_model1, x))\n",
        "from sklearn.preprocessing import LabelEncoder\n",
        "\n",
        "# Etiket sütununu sayısal verilere dönüştürme\n",
        "label_encoder = LabelEncoder()\n",
        "numeric_labels = label_encoder.fit_transform(processed_data['Etiket'])\n",
        "\n",
        "# Bu aşamada, eğer etiketli bir veri kümeniz varsa, etiketleri de alıyoruz\n",
        "X = np.array(processed_data['Sentence Vector'].tolist())  # Giriş vektörleri\n",
        "y = numeric_labels  # Etiketler (sınıflar)\n"
      ],
      "metadata": {
        "id": "4jTRgVhnt7AC"
      },
      "execution_count": null,
      "outputs": []
    },
    {
      "cell_type": "code",
      "source": [
        "!pip install dask[dataframe]"
      ],
      "metadata": {
        "colab": {
          "base_uri": "https://localhost:8080/"
        },
        "id": "NzF2m6ijwE1K",
        "outputId": "4e0b3cc8-400e-4fec-cb84-002fb5a8a303"
      },
      "execution_count": null,
      "outputs": [
        {
          "output_type": "stream",
          "name": "stdout",
          "text": [
            "Requirement already satisfied: dask[dataframe] in /usr/local/lib/python3.10/dist-packages (2024.10.0)\n",
            "Requirement already satisfied: click>=8.1 in /usr/local/lib/python3.10/dist-packages (from dask[dataframe]) (8.1.7)\n",
            "Requirement already satisfied: cloudpickle>=3.0.0 in /usr/local/lib/python3.10/dist-packages (from dask[dataframe]) (3.1.0)\n",
            "Requirement already satisfied: fsspec>=2021.09.0 in /usr/local/lib/python3.10/dist-packages (from dask[dataframe]) (2024.10.0)\n",
            "Requirement already satisfied: packaging>=20.0 in /usr/local/lib/python3.10/dist-packages (from dask[dataframe]) (24.2)\n",
            "Requirement already satisfied: partd>=1.4.0 in /usr/local/lib/python3.10/dist-packages (from dask[dataframe]) (1.4.2)\n",
            "Requirement already satisfied: pyyaml>=5.3.1 in /usr/local/lib/python3.10/dist-packages (from dask[dataframe]) (6.0.2)\n",
            "Requirement already satisfied: toolz>=0.10.0 in /usr/local/lib/python3.10/dist-packages (from dask[dataframe]) (0.12.1)\n",
            "Requirement already satisfied: importlib-metadata>=4.13.0 in /usr/local/lib/python3.10/dist-packages (from dask[dataframe]) (8.5.0)\n",
            "Requirement already satisfied: pandas>=2.0 in /usr/local/lib/python3.10/dist-packages (from dask[dataframe]) (2.2.2)\n",
            "Collecting dask-expr<1.2,>=1.1 (from dask[dataframe])\n",
            "  Downloading dask_expr-1.1.21-py3-none-any.whl.metadata (2.6 kB)\n",
            "INFO: pip is looking at multiple versions of dask-expr to determine which version is compatible with other requirements. This could take a while.\n",
            "  Downloading dask_expr-1.1.20-py3-none-any.whl.metadata (2.6 kB)\n",
            "  Downloading dask_expr-1.1.19-py3-none-any.whl.metadata (2.6 kB)\n",
            "  Downloading dask_expr-1.1.18-py3-none-any.whl.metadata (2.6 kB)\n",
            "  Downloading dask_expr-1.1.16-py3-none-any.whl.metadata (2.5 kB)\n",
            "Requirement already satisfied: pyarrow>=14.0.1 in /usr/local/lib/python3.10/dist-packages (from dask-expr<1.2,>=1.1->dask[dataframe]) (17.0.0)\n",
            "Requirement already satisfied: zipp>=3.20 in /usr/local/lib/python3.10/dist-packages (from importlib-metadata>=4.13.0->dask[dataframe]) (3.21.0)\n",
            "Requirement already satisfied: numpy>=1.22.4 in /usr/local/lib/python3.10/dist-packages (from pandas>=2.0->dask[dataframe]) (1.26.4)\n",
            "Requirement already satisfied: python-dateutil>=2.8.2 in /usr/local/lib/python3.10/dist-packages (from pandas>=2.0->dask[dataframe]) (2.8.2)\n",
            "Requirement already satisfied: pytz>=2020.1 in /usr/local/lib/python3.10/dist-packages (from pandas>=2.0->dask[dataframe]) (2024.2)\n",
            "Requirement already satisfied: tzdata>=2022.7 in /usr/local/lib/python3.10/dist-packages (from pandas>=2.0->dask[dataframe]) (2024.2)\n",
            "Requirement already satisfied: locket in /usr/local/lib/python3.10/dist-packages (from partd>=1.4.0->dask[dataframe]) (1.0.0)\n",
            "Requirement already satisfied: six>=1.5 in /usr/local/lib/python3.10/dist-packages (from python-dateutil>=2.8.2->pandas>=2.0->dask[dataframe]) (1.17.0)\n",
            "Downloading dask_expr-1.1.16-py3-none-any.whl (243 kB)\n",
            "\u001b[2K   \u001b[90m━━━━━━━━━━━━━━━━━━━━━━━━━━━━━━━━━━━━━━━━\u001b[0m \u001b[32m243.2/243.2 kB\u001b[0m \u001b[31m9.4 MB/s\u001b[0m eta \u001b[36m0:00:00\u001b[0m\n",
            "\u001b[?25hInstalling collected packages: dask-expr\n",
            "Successfully installed dask-expr-1.1.16\n"
          ]
        }
      ]
    },
    {
      "cell_type": "code",
      "source": [
        "pip install tensorflow --upgrade\n"
      ],
      "metadata": {
        "colab": {
          "base_uri": "https://localhost:8080/"
        },
        "id": "J0pA98QpGOMR",
        "outputId": "df2a7534-e5dc-41e9-bf7e-81dd1e6c65ce"
      },
      "execution_count": null,
      "outputs": [
        {
          "output_type": "stream",
          "name": "stdout",
          "text": [
            "Requirement already satisfied: tensorflow in /usr/local/lib/python3.10/dist-packages (2.17.1)\n",
            "Collecting tensorflow\n",
            "  Downloading tensorflow-2.18.0-cp310-cp310-manylinux_2_17_x86_64.manylinux2014_x86_64.whl.metadata (4.1 kB)\n",
            "Requirement already satisfied: absl-py>=1.0.0 in /usr/local/lib/python3.10/dist-packages (from tensorflow) (1.4.0)\n",
            "Requirement already satisfied: astunparse>=1.6.0 in /usr/local/lib/python3.10/dist-packages (from tensorflow) (1.6.3)\n",
            "Requirement already satisfied: flatbuffers>=24.3.25 in /usr/local/lib/python3.10/dist-packages (from tensorflow) (24.3.25)\n",
            "Requirement already satisfied: gast!=0.5.0,!=0.5.1,!=0.5.2,>=0.2.1 in /usr/local/lib/python3.10/dist-packages (from tensorflow) (0.6.0)\n",
            "Requirement already satisfied: google-pasta>=0.1.1 in /usr/local/lib/python3.10/dist-packages (from tensorflow) (0.2.0)\n",
            "Requirement already satisfied: libclang>=13.0.0 in /usr/local/lib/python3.10/dist-packages (from tensorflow) (18.1.1)\n",
            "Requirement already satisfied: opt-einsum>=2.3.2 in /usr/local/lib/python3.10/dist-packages (from tensorflow) (3.4.0)\n",
            "Requirement already satisfied: packaging in /usr/local/lib/python3.10/dist-packages (from tensorflow) (24.2)\n",
            "Requirement already satisfied: protobuf!=4.21.0,!=4.21.1,!=4.21.2,!=4.21.3,!=4.21.4,!=4.21.5,<6.0.0dev,>=3.20.3 in /usr/local/lib/python3.10/dist-packages (from tensorflow) (4.25.5)\n",
            "Requirement already satisfied: requests<3,>=2.21.0 in /usr/local/lib/python3.10/dist-packages (from tensorflow) (2.32.3)\n",
            "Requirement already satisfied: setuptools in /usr/local/lib/python3.10/dist-packages (from tensorflow) (75.1.0)\n",
            "Requirement already satisfied: six>=1.12.0 in /usr/local/lib/python3.10/dist-packages (from tensorflow) (1.17.0)\n",
            "Requirement already satisfied: termcolor>=1.1.0 in /usr/local/lib/python3.10/dist-packages (from tensorflow) (2.5.0)\n",
            "Requirement already satisfied: typing-extensions>=3.6.6 in /usr/local/lib/python3.10/dist-packages (from tensorflow) (4.12.2)\n",
            "Requirement already satisfied: wrapt>=1.11.0 in /usr/local/lib/python3.10/dist-packages (from tensorflow) (1.17.0)\n",
            "Requirement already satisfied: grpcio<2.0,>=1.24.3 in /usr/local/lib/python3.10/dist-packages (from tensorflow) (1.68.1)\n",
            "Collecting tensorboard<2.19,>=2.18 (from tensorflow)\n",
            "  Downloading tensorboard-2.18.0-py3-none-any.whl.metadata (1.6 kB)\n",
            "Requirement already satisfied: keras>=3.5.0 in /usr/local/lib/python3.10/dist-packages (from tensorflow) (3.5.0)\n",
            "Requirement already satisfied: numpy<2.1.0,>=1.26.0 in /usr/local/lib/python3.10/dist-packages (from tensorflow) (1.26.4)\n",
            "Requirement already satisfied: h5py>=3.11.0 in /usr/local/lib/python3.10/dist-packages (from tensorflow) (3.12.1)\n",
            "Requirement already satisfied: ml-dtypes<0.5.0,>=0.4.0 in /usr/local/lib/python3.10/dist-packages (from tensorflow) (0.4.1)\n",
            "Requirement already satisfied: tensorflow-io-gcs-filesystem>=0.23.1 in /usr/local/lib/python3.10/dist-packages (from tensorflow) (0.37.1)\n",
            "Requirement already satisfied: wheel<1.0,>=0.23.0 in /usr/local/lib/python3.10/dist-packages (from astunparse>=1.6.0->tensorflow) (0.45.1)\n",
            "Requirement already satisfied: rich in /usr/local/lib/python3.10/dist-packages (from keras>=3.5.0->tensorflow) (13.9.4)\n",
            "Requirement already satisfied: namex in /usr/local/lib/python3.10/dist-packages (from keras>=3.5.0->tensorflow) (0.0.8)\n",
            "Requirement already satisfied: optree in /usr/local/lib/python3.10/dist-packages (from keras>=3.5.0->tensorflow) (0.13.1)\n",
            "Requirement already satisfied: charset-normalizer<4,>=2 in /usr/local/lib/python3.10/dist-packages (from requests<3,>=2.21.0->tensorflow) (3.4.0)\n",
            "Requirement already satisfied: idna<4,>=2.5 in /usr/local/lib/python3.10/dist-packages (from requests<3,>=2.21.0->tensorflow) (3.10)\n",
            "Requirement already satisfied: urllib3<3,>=1.21.1 in /usr/local/lib/python3.10/dist-packages (from requests<3,>=2.21.0->tensorflow) (2.2.3)\n",
            "Requirement already satisfied: certifi>=2017.4.17 in /usr/local/lib/python3.10/dist-packages (from requests<3,>=2.21.0->tensorflow) (2024.12.14)\n",
            "Requirement already satisfied: markdown>=2.6.8 in /usr/local/lib/python3.10/dist-packages (from tensorboard<2.19,>=2.18->tensorflow) (3.7)\n",
            "Requirement already satisfied: tensorboard-data-server<0.8.0,>=0.7.0 in /usr/local/lib/python3.10/dist-packages (from tensorboard<2.19,>=2.18->tensorflow) (0.7.2)\n",
            "Requirement already satisfied: werkzeug>=1.0.1 in /usr/local/lib/python3.10/dist-packages (from tensorboard<2.19,>=2.18->tensorflow) (3.1.3)\n",
            "Requirement already satisfied: MarkupSafe>=2.1.1 in /usr/local/lib/python3.10/dist-packages (from werkzeug>=1.0.1->tensorboard<2.19,>=2.18->tensorflow) (3.0.2)\n",
            "Requirement already satisfied: markdown-it-py>=2.2.0 in /usr/local/lib/python3.10/dist-packages (from rich->keras>=3.5.0->tensorflow) (3.0.0)\n",
            "Requirement already satisfied: pygments<3.0.0,>=2.13.0 in /usr/local/lib/python3.10/dist-packages (from rich->keras>=3.5.0->tensorflow) (2.18.0)\n",
            "Requirement already satisfied: mdurl~=0.1 in /usr/local/lib/python3.10/dist-packages (from markdown-it-py>=2.2.0->rich->keras>=3.5.0->tensorflow) (0.1.2)\n",
            "Downloading tensorflow-2.18.0-cp310-cp310-manylinux_2_17_x86_64.manylinux2014_x86_64.whl (615.3 MB)\n",
            "\u001b[2K   \u001b[90m━━━━━━━━━━━━━━━━━━━━━━━━━━━━━━━━━━━━━━━━\u001b[0m \u001b[32m615.3/615.3 MB\u001b[0m \u001b[31m2.0 MB/s\u001b[0m eta \u001b[36m0:00:00\u001b[0m\n",
            "\u001b[?25hDownloading tensorboard-2.18.0-py3-none-any.whl (5.5 MB)\n",
            "\u001b[2K   \u001b[90m━━━━━━━━━━━━━━━━━━━━━━━━━━━━━━━━━━━━━━━━\u001b[0m \u001b[32m5.5/5.5 MB\u001b[0m \u001b[31m122.8 MB/s\u001b[0m eta \u001b[36m0:00:00\u001b[0m\n",
            "\u001b[?25hInstalling collected packages: tensorboard, tensorflow\n",
            "  Attempting uninstall: tensorboard\n",
            "    Found existing installation: tensorboard 2.17.1\n",
            "    Uninstalling tensorboard-2.17.1:\n",
            "      Successfully uninstalled tensorboard-2.17.1\n",
            "  Attempting uninstall: tensorflow\n",
            "    Found existing installation: tensorflow 2.17.1\n",
            "    Uninstalling tensorflow-2.17.1:\n",
            "      Successfully uninstalled tensorflow-2.17.1\n",
            "\u001b[31mERROR: pip's dependency resolver does not currently take into account all the packages that are installed. This behaviour is the source of the following dependency conflicts.\n",
            "tf-keras 2.17.0 requires tensorflow<2.18,>=2.17, but you have tensorflow 2.18.0 which is incompatible.\u001b[0m\u001b[31m\n",
            "\u001b[0mSuccessfully installed tensorboard-2.18.0 tensorflow-2.18.0\n"
          ]
        }
      ]
    },
    {
      "cell_type": "code",
      "source": [
        "# Processed Tokens sütununu doğru formata dönüştürme\n",
        "processed_data['Processed Tokens'] = processed_data['Processed Tokens'].apply(lambda x: eval(x) if isinstance(x, str) else x)\n",
        "\n",
        "# Formatı kontrol etme\n",
        "print(processed_data['Processed Tokens'].head())\n"
      ],
      "metadata": {
        "colab": {
          "base_uri": "https://localhost:8080/"
        },
        "id": "Wvnr7ZtPMp02",
        "outputId": "dcd0be67-3282-4335-a158-4ca88abdf93f"
      },
      "execution_count": null,
      "outputs": [
        {
          "output_type": "stream",
          "name": "stdout",
          "text": [
            "0    [orospu, çocuk, hep, aynı, an, yap, tüm, ciddi...\n",
            "1    [ciddi, ol, dünya, beyn, bil, iki, gün, baş, g...\n",
            "2    [kayıt, istihdam, geniş, program, göre, şimdil...\n",
            "3    [hastane, ait, suriye, ptt, de, ait, suriye, p...\n",
            "4                     [coke, git, suriye, gibi, bugün]\n",
            "Name: Processed Tokens, dtype: object\n"
          ]
        }
      ]
    },
    {
      "cell_type": "code",
      "source": [
        "# Gerekli kütüphaneleri yükleme\n",
        "import multiprocessing\n",
        "import numpy as np\n",
        "from gensim.models import Word2Vec, KeyedVectors\n",
        "\n",
        "\n",
        "# Word2Vec modelini yükleme\n",
        "model_path = \"/content/drive/MyDrive/trmodel\"  # Model dosyasının yolu\n",
        "turkish_word2vec = KeyedVectors.load_word2vec_format(model_path, binary=True)\n",
        "print(\"Model başarıyla yüklendi.\")\n",
        "\n",
        "# 'Processed Tokens' sütununu listeye çevirin\n",
        "tokenized_texts = processed_data['Processed Tokens'].tolist()\n",
        "print(f\"Toplam {len(tokenized_texts)} metin yüklendi.\")\n",
        "\n",
        "# Yeni bir Word2Vec modeli oluştur\n",
        "model = Word2Vec(vector_size=turkish_word2vec.vector_size, window=5, min_count=1, workers=multiprocessing.cpu_count() - 1)\n",
        "model.build_vocab(tokenized_texts)\n",
        "\n",
        "# Pre-trained modelin ağırlıklarını yeni modele aktar\n",
        "word_dict = {word: turkish_word2vec.get_vector(word) for word in model.wv.index_to_key if word in turkish_word2vec.key_to_index}\n",
        "\n",
        "# Pre-trained vektörleri yeni modele kopyala\n",
        "for word, vector in word_dict.items():\n",
        "    if word in model.wv.key_to_index:\n",
        "        model.wv.vectors[model.wv.key_to_index[word]] = vector\n",
        "\n",
        "print(f\"Transfer edilen kelime sayısı: {len(word_dict)}\")\n",
        "\n",
        "# Yeni verilerle modeli fine-tune etme\n",
        "model.train(\n",
        "    tokenized_texts,\n",
        "    total_examples=len(tokenized_texts),\n",
        "    epochs=10\n",
        ")\n",
        "\n",
        "# Fine-tuned modelinizi kaydedin\n",
        "fine_tuned_model_path = \"fine_tuned_word2vec.model\"\n",
        "model.save(fine_tuned_model_path)\n",
        "print(f\"Fine-tuned model '{fine_tuned_model_path}' dosyasına kaydedildi.\")\n",
        "\n"
      ],
      "metadata": {
        "colab": {
          "base_uri": "https://localhost:8080/"
        },
        "id": "0sZsCZ99IBV4",
        "outputId": "4e543664-77aa-472f-db8c-20b10546b0cf"
      },
      "execution_count": null,
      "outputs": [
        {
          "output_type": "stream",
          "name": "stdout",
          "text": [
            "Model başarıyla yüklendi.\n",
            "Toplam 11224 metin yüklendi.\n",
            "Transfer edilen kelime sayısı: 10513\n",
            "Fine-tuned model 'fine_tuned_word2vec.model' dosyasına kaydedildi.\n"
          ]
        }
      ]
    },
    {
      "cell_type": "code",
      "source": [
        "\n",
        "# Fine-tuned modeli yükleyin\n",
        "model = Word2Vec.load(fine_tuned_model_path)\n",
        "print(\"Fine-tuned model başarıyla yüklendi.\")\n",
        "\n",
        "# Belge vektörlerini hesaplayan fonksiyon\n",
        "def get_document_vector(tokens, word2vec_model, vector_size=100):\n",
        "    word_vectors = [word2vec_model.wv[word] for word in tokens if word in word2vec_model.wv]\n",
        "    if len(word_vectors) == 0:\n",
        "        return np.zeros(vector_size)\n",
        "    return np.mean(word_vectors, axis=0)\n",
        "\n",
        "# Cümle vektörlerini hesaplama\n",
        "processed_data['Sentence Vector'] = processed_data['Processed Tokens'].apply(lambda x: get_document_vector(x, model, vector_size=model.vector_size))\n",
        "print(\"Cümle vektörleri başarıyla hesaplandı.\")"
      ],
      "metadata": {
        "colab": {
          "base_uri": "https://localhost:8080/"
        },
        "id": "Qq5ngRxWLSPj",
        "outputId": "9a0eb023-6af3-4766-e943-536758827e7d"
      },
      "execution_count": null,
      "outputs": [
        {
          "output_type": "stream",
          "name": "stdout",
          "text": [
            "Fine-tuned model başarıyla yüklendi.\n",
            "Cümle vektörleri başarıyla hesaplandı.\n"
          ]
        }
      ]
    },
    {
      "cell_type": "code",
      "source": [
        "\n",
        "# Etiket sütununu sayısal verilere dönüştürme\n",
        "from sklearn.preprocessing import LabelEncoder\n",
        "label_encoder = LabelEncoder()\n",
        "numeric_labels = label_encoder.fit_transform(processed_data['Etiket'])\n",
        "\n",
        "# Bu aşamada, eğer etiketli bir veri kümeniz varsa, etiketleri de alıyoruz\n",
        "X = np.array(processed_data['Sentence Vector'].tolist())  # Giriş vektörleri\n",
        "y = numeric_labels  # Etiketler (sınıflar)"
      ],
      "metadata": {
        "id": "vZJgdcOWM0Kt"
      },
      "execution_count": null,
      "outputs": []
    },
    {
      "cell_type": "code",
      "source": [
        "from sklearn.ensemble import RandomForestClassifier\n",
        "from xgboost import XGBClassifier\n",
        "from lightgbm import LGBMClassifier\n",
        "from sklearn.model_selection import train_test_split\n",
        "from sklearn.metrics import classification_report, precision_score, recall_score, f1_score, confusion_matrix, ConfusionMatrixDisplay\n",
        "from sklearn.preprocessing import LabelEncoder\n",
        "from tensorflow.keras.models import Sequential\n",
        "from tensorflow.keras.layers import Dense, Dropout\n",
        "from tensorflow.keras.utils import to_categorical\n",
        "from tensorflow.keras.callbacks import EarlyStopping\n",
        "from sklearn.metrics import accuracy_score\n",
        "import matplotlib.pyplot as plt\n",
        "import seaborn as sns\n",
        "import pandas as pd\n",
        "import numpy as np\n",
        "import os\n",
        "\n",
        "# Daha önce oluşturulan kombinasyonlar (count_combination_data, tfidf_combination_data) kullanılacak\n",
        "# Çıktılar için dosya yolunu ayarlama\n",
        "output_dir = \"/content/drive/MyDrive/outputs1\"\n",
        "os.makedirs(output_dir, exist_ok=True)\n",
        "\n",
        "# Etiketleri Yükleme ve Sayısal Dönüşüm\n",
        "labels = processed_data['Etiket']\n",
        "label_encoder = LabelEncoder()\n",
        "numeric_labels = label_encoder.fit_transform(labels)\n",
        "print(f\"Etiketler dönüştürüldü: {list(label_encoder.classes_)}\")\n",
        "\n",
        "# Veri Seti Bölme Fonksiyonu\n",
        "\n",
        "def split_data(matrix, labels):\n",
        "    # LightGBM ve diğer modeller için gerekli dönüşüm\n",
        "    matrix = matrix.astype(np.float32) if hasattr(matrix, 'astype') else matrix\n",
        "    return train_test_split(matrix, labels, test_size=0.2, random_state=42)\n",
        "\n",
        "# Performans Ölçüm Fonksiyonu\n",
        "def evaluate_model(model, X_train, X_test, y_train, y_test):\n",
        "    model.fit(X_train, y_train)\n",
        "    predictions = model.predict(X_test)\n",
        "\n",
        "    # Precision, Recall, F1-Score ve Accuracy hesaplamaları\n",
        "    precision = precision_score(y_test, predictions, average='weighted', zero_division=0)\n",
        "    recall = recall_score(y_test, predictions, average='weighted', zero_division=0)\n",
        "    f1 = f1_score(y_test, predictions, average='weighted', zero_division=0)\n",
        "    accuracy = accuracy_score(y_test, predictions)\n",
        "\n",
        "    # Metriği ekrana yazdırma\n",
        "    print(f\"Precision: {precision:.4f}, Recall: {recall:.4f}, F1-Score: {f1:.4f}, Accuracy: {accuracy:.4f}\")\n",
        "    return precision, recall, f1, accuracy, predictions\n",
        "\n",
        "# Confusion Matrix Görselleştirme Fonksiyonu\n",
        "def save_confusion_matrix(y_true, y_pred, model_name, data_type):\n",
        "    cm = confusion_matrix(y_true, y_pred, labels=np.unique(y_true))\n",
        "    disp = ConfusionMatrixDisplay(confusion_matrix=cm, display_labels=np.unique(y_true))\n",
        "    disp.plot(cmap=plt.cm.Blues, xticks_rotation='vertical')\n",
        "    plt.title(f\"Confusion Matrix - {model_name} ({data_type})\")\n",
        "    file_path = os.path.join(output_dir, f\"confusion_matrix_{model_name}_{data_type}.png\")\n",
        "    plt.savefig(file_path, bbox_inches='tight')\n",
        "    plt.close()\n",
        "    print(f\"Confusion matrix kaydedildi: {file_path}\")\n",
        "\n",
        "# Eğitim ve Doğrulama Metriklerini Kaydetme Fonksiyonu\n",
        "def save_training_validation_metrics(history, model_name, data_type):\n",
        "    epochs = range(1, len(history['loss']) + 1)\n",
        "\n",
        "    # Loss Grafiği\n",
        "    plt.plot(epochs, history['loss'], label='Training Loss')\n",
        "    plt.plot(epochs, history['val_loss'], label='Validation Loss')\n",
        "    plt.title(f\"Loss - {model_name} ({data_type})\")\n",
        "    plt.xlabel('Epochs')\n",
        "    plt.ylabel('Loss')\n",
        "    plt.legend()\n",
        "    file_path_loss = os.path.join(output_dir, f\"loss_{model_name}_{data_type}.png\")\n",
        "    plt.savefig(file_path_loss, bbox_inches='tight')\n",
        "    plt.close()\n",
        "    print(f\"Loss grafiği kaydedildi: {file_path_loss}\")\n",
        "\n",
        "    # Accuracy Grafiği\n",
        "    plt.plot(epochs, history['accuracy'], label='Training Accuracy')\n",
        "    plt.plot(epochs, history['val_accuracy'], label='Validation Accuracy')\n",
        "    plt.title(f\"Accuracy - {model_name} ({data_type})\")\n",
        "    plt.xlabel('Epochs')\n",
        "    plt.ylabel('Accuracy')\n",
        "    plt.legend()\n",
        "    file_path_acc = os.path.join(output_dir, f\"accuracy_{model_name}_{data_type}.png\")\n",
        "    plt.savefig(file_path_acc, bbox_inches='tight')\n",
        "    plt.close()\n",
        "    print(f\"Accuracy grafiği kaydedildi: {file_path_acc}\")\n",
        "\n",
        "# Kombinasyonlar için Performans Değerlendirme Tablosu\n",
        "results = []\n",
        "\n",
        "\n",
        "\n",
        "\n"
      ],
      "metadata": {
        "colab": {
          "base_uri": "https://localhost:8080/"
        },
        "id": "qQxxu6FOuklX",
        "outputId": "b8cc8de1-2360-4b96-f756-11a3f1946796"
      },
      "execution_count": null,
      "outputs": [
        {
          "output_type": "stream",
          "name": "stdout",
          "text": [
            "Etiketler dönüştürüldü: ['hiçbiri', 'nefret', 'saldırgan']\n"
          ]
        }
      ]
    },
    {
      "cell_type": "code",
      "source": [
        "def evaluate_random_forest_with_word2vec():\n",
        "    print(f\"Word2Vec ile Random Forest modeli değerlendiriliyor...\")\n",
        "\n",
        "    # Cümle vektörlerini alıyoruz\n",
        "    X = np.array(processed_data['Sentence Vector'].tolist())\n",
        "    y = numeric_labels  # Etiketler\n",
        "\n",
        "    X_train, X_test, y_train, y_test = split_data(X, y)\n",
        "\n",
        "    model = RandomForestClassifier(\n",
        "        n_estimators=400,\n",
        "        max_depth=10,\n",
        "        min_samples_split=8,\n",
        "        random_state=42\n",
        "    )\n",
        "    precision, recall, f1, accuracy, predictions = evaluate_model(model, X_train, X_test, y_train, y_test)\n",
        "    results.append({\n",
        "        'Model': 'Random Forest',\n",
        "        'Data Type': 'Word2Vec',\n",
        "        'Precision': precision,\n",
        "        'Recall': recall,\n",
        "        'F1-Score': f1,\n",
        "        'Accuracy': accuracy\n",
        "    })\n",
        "\n",
        "    # Confusion Matrix Kaydetme\n",
        "    save_confusion_matrix(y_test, predictions, \"RandomForest\", 'Word2Vec')"
      ],
      "metadata": {
        "id": "Dyt2RadB0TZd"
      },
      "execution_count": null,
      "outputs": []
    },
    {
      "cell_type": "code",
      "source": [
        "# Değerlendirme İşlemi\n",
        "print(\"Random Forest Modeli Değerlendiriliyor...\")\n",
        "evaluate_random_forest_with_word2vec()"
      ],
      "metadata": {
        "colab": {
          "base_uri": "https://localhost:8080/"
        },
        "id": "ZfWY4suAwI5a",
        "outputId": "c2a279e1-9cfe-4c1f-9b83-a05c677541b6"
      },
      "execution_count": null,
      "outputs": [
        {
          "output_type": "stream",
          "name": "stdout",
          "text": [
            "Random Forest Modeli Değerlendiriliyor...\n",
            "Word2Vec ile Random Forest modeli değerlendiriliyor...\n",
            "Precision: 0.7783, Recall: 0.7653, F1-Score: 0.6855, Accuracy: 0.7653\n",
            "Confusion matrix kaydedildi: /content/drive/MyDrive/outputs1/confusion_matrix_RandomForest_Word2Vec.png\n"
          ]
        }
      ]
    },
    {
      "cell_type": "code",
      "source": [
        "# XGBoost Modeli\n",
        "def evaluate_xgboost():\n",
        "  print(f\"Word2Vec ile Xgboost modeli değerlendiriliyor...\")\n",
        " # Cümle vektörlerini alıyoruz\n",
        "  X = np.array(processed_data['Sentence Vector'].tolist())\n",
        "  y = numeric_labels  # Etiketler\n",
        "\n",
        "  X_train, X_test, y_train, y_test = split_data(X, y)\n",
        "  model = XGBClassifier(\n",
        "        eval_metric='logloss',\n",
        "        random_state=42,\n",
        "        n_estimators=800,\n",
        "        max_depth=15,\n",
        "        learning_rate=0.25,\n",
        "        subsample=0.7\n",
        "            )\n",
        "  precision, recall, f1, accuracy, predictions = evaluate_model(model, X_train, X_test, y_train, y_test)\n",
        "  results.append({\n",
        "        'Model': 'XGBoost',\n",
        "        'Data Type': 'Word2Vec',\n",
        "        'Precision': precision,\n",
        "        'Recall': recall,\n",
        "        'F1-Score': f1,\n",
        "        'Accuracy': accuracy\n",
        "            })\n",
        "\n",
        "            # Confusion Matrix Kaydetme\n",
        "  save_confusion_matrix(y_test, predictions, \"XGBoost\", 'Word2Vec')\n"
      ],
      "metadata": {
        "id": "FJ_hyAhe0P5Q"
      },
      "execution_count": null,
      "outputs": []
    },
    {
      "cell_type": "code",
      "source": [
        "# Değerlendirme İşlemi\n",
        "print(\"xgboost Modeli Değerlendiriliyor...\")\n",
        "evaluate_xgboost()\n"
      ],
      "metadata": {
        "colab": {
          "base_uri": "https://localhost:8080/"
        },
        "id": "lfZizE94Bczu",
        "outputId": "ae1484ac-cbd8-4ca1-8439-e2ef720d6add"
      },
      "execution_count": null,
      "outputs": [
        {
          "output_type": "stream",
          "name": "stdout",
          "text": [
            "xgboost Modeli Değerlendiriliyor...\n",
            "Word2Vec ile Xgboost modeli değerlendiriliyor...\n",
            "Precision: 0.8025, Recall: 0.8040, F1-Score: 0.7702, Accuracy: 0.8040\n",
            "Confusion matrix kaydedildi: /content/drive/MyDrive/outputs1/confusion_matrix_XGBoost_Word2Vec.png\n"
          ]
        }
      ]
    },
    {
      "cell_type": "code",
      "source": [
        "# LightGBM Modeli\n",
        "def evaluate_lightgbm():\n",
        "  print(f\"Word2Vec ile lightgbm modeli değerlendiriliyor...\")\n",
        " # Cümle vektörlerini alıyoruz\n",
        "  X = np.array(processed_data['Sentence Vector'].tolist())\n",
        "  y = numeric_labels  # Etiketler\n",
        "  X_train, X_test, y_train, y_test = split_data(X, y)\n",
        "  model = LGBMClassifier(random_state=42, num_leaves=20, max_depth=20, learning_rate=0.005, n_estimators=800)\n",
        "  precision, recall, f1, accuracy, predictions = evaluate_model(model, X_train, X_test, y_train, y_test)\n",
        "  results.append({\n",
        "                'Model': 'LightGBM',\n",
        "                'Data Type': 'Word2Vec',\n",
        "                'Precision': precision,\n",
        "                'Recall': recall,\n",
        "                'F1-Score': f1,\n",
        "                'Accuracy': accuracy\n",
        "            })\n",
        "\n",
        "            # Confusion Matrix Kaydetme\n",
        "\n",
        "\n",
        "  save_confusion_matrix(y_test, predictions, \"LightGBM\", 'Word2Vec')\n",
        "\n"
      ],
      "metadata": {
        "id": "cZQfIZ9PCBXq"
      },
      "execution_count": null,
      "outputs": []
    },
    {
      "cell_type": "code",
      "source": [
        "print(\"lightgbm Modeli Değerlendiriliyor...\")\n",
        "evaluate_lightgbm()"
      ],
      "metadata": {
        "id": "aGYvzeGFC7pd",
        "colab": {
          "base_uri": "https://localhost:8080/"
        },
        "outputId": "2644894a-c325-48b9-f809-ce4dc4dd6878"
      },
      "execution_count": null,
      "outputs": [
        {
          "output_type": "stream",
          "name": "stdout",
          "text": [
            "lightgbm Modeli Değerlendiriliyor...\n",
            "Word2Vec ile lightgbm modeli değerlendiriliyor...\n"
          ]
        },
        {
          "output_type": "stream",
          "name": "stderr",
          "text": [
            "/usr/local/lib/python3.10/dist-packages/sklearn/utils/deprecation.py:151: FutureWarning: 'force_all_finite' was renamed to 'ensure_all_finite' in 1.6 and will be removed in 1.8.\n",
            "  warnings.warn(\n"
          ]
        },
        {
          "output_type": "stream",
          "name": "stdout",
          "text": [
            "[LightGBM] [Info] Auto-choosing col-wise multi-threading, the overhead of testing was 0.011028 seconds.\n",
            "You can set `force_col_wise=true` to remove the overhead.\n",
            "[LightGBM] [Info] Total Bins 102000\n",
            "[LightGBM] [Info] Number of data points in the train set: 8979, number of used features: 400\n",
            "[LightGBM] [Info] Start training from score -0.289652\n",
            "[LightGBM] [Info] Start training from score -1.465892\n",
            "[LightGBM] [Info] Start training from score -3.882288\n"
          ]
        },
        {
          "output_type": "stream",
          "name": "stderr",
          "text": [
            "/usr/local/lib/python3.10/dist-packages/sklearn/utils/deprecation.py:151: FutureWarning: 'force_all_finite' was renamed to 'ensure_all_finite' in 1.6 and will be removed in 1.8.\n",
            "  warnings.warn(\n"
          ]
        },
        {
          "output_type": "stream",
          "name": "stdout",
          "text": [
            "Precision: 0.7746, Recall: 0.7924, F1-Score: 0.7494, Accuracy: 0.7924\n",
            "Confusion matrix kaydedildi: /content/drive/MyDrive/outputs1/confusion_matrix_LightGBM_Word2Vec.png\n"
          ]
        }
      ]
    },
    {
      "cell_type": "code",
      "source": [
        "\n",
        "from keras.optimizers import Adam  # Adam optimizer import ediliyor\n",
        "# ANN Modeli\n",
        "def evaluate_ann():\n",
        "  print(f\"Word2Vec ile Xgboost modeli değerlendiriliyor...\")\n",
        " # Cümle vektörlerini alıyoruz\n",
        "  X = np.array(processed_data['Sentence Vector'].tolist())\n",
        "  y = numeric_labels  # Etiketler\n",
        "  X_train, X_test, y_train, y_test = split_data(X, y)\n",
        "\n",
        "  # Kategorik etiketlere dönüştürme\n",
        "  y_train_cat = to_categorical(y_train, num_classes=len(label_encoder.classes_))\n",
        "  y_test_cat = to_categorical(y_test, num_classes=len(label_encoder.classes_))\n",
        "\n",
        "  # Modeli tanımlama\n",
        "  input_dim = X_train.shape[1]\n",
        "  model = Sequential([\n",
        "      Dense(128, activation='relu', input_dim=input_dim),\n",
        "      Dropout(0.3),\n",
        "      Dense(64, activation='relu'),\n",
        "      Dropout(0.3),\n",
        "      Dense(len(label_encoder.classes_), activation='softmax')\n",
        "  ])\n",
        "  optimizer = Adam(learning_rate=0.0001)\n",
        "  model.compile(optimizer=optimizer, loss='categorical_crossentropy', metrics=['accuracy'])\n",
        "\n",
        "  # Modeli eğitme\n",
        "  early_stopping = EarlyStopping(monitor='val_loss', patience=4, restore_best_weights=True)\n",
        "  history = model.fit(\n",
        "      X_train,\n",
        "      y_train_cat,\n",
        "      validation_data=(X_test, y_test_cat),\n",
        "      epochs=50,\n",
        "      batch_size=4,\n",
        "      callbacks=[early_stopping],\n",
        "      verbose=1\n",
        "  )\n",
        "\n",
        "  # Tahminler ve performans\n",
        "  predictions = model.predict(X_test).argmax(axis=1)\n",
        "\n",
        "  # Precision, Recall, F1-Score ve Accuracy hesaplamaları\n",
        "  precision = precision_score(y_test, predictions, average='weighted')\n",
        "  recall = recall_score(y_test, predictions, average='weighted')\n",
        "  f1 = f1_score(y_test, predictions, average='weighted')\n",
        "  accuracy = accuracy_score(y_test, predictions)  # Accuracy hesaplama\n",
        "\n",
        "  results.append({\n",
        "      'Model': 'ANN',\n",
        "      'Data Type': 'Word2Vec',\n",
        "      'Precision': precision,\n",
        "      'Recall': recall,\n",
        "      'F1-Score': f1,\n",
        "      'Accuracy': accuracy  # Accuracy'yi ekle\n",
        "  })\n",
        "\n",
        "  # Confusion Matrix Kaydetme\n",
        "  save_confusion_matrix(y_test, predictions, \"ANN\", 'Word2Vec')\n",
        "\n",
        "  # Eğitim ve doğrulama metriklerini kaydetme\n",
        "  history_dict = {\n",
        "      'loss': history.history['loss'],\n",
        "      'val_loss': history.history['val_loss'],\n",
        "      'accuracy': history.history['accuracy'],\n",
        "      'val_accuracy': history.history['val_accuracy']\n",
        "  }\n",
        "  save_training_validation_metrics(history_dict, \"ANN\", 'Word2Vec')\n"
      ],
      "metadata": {
        "id": "t2rAgr4EJyZf"
      },
      "execution_count": null,
      "outputs": []
    },
    {
      "cell_type": "code",
      "source": [
        "print(\"ANN Modeli Değerlendiriliyor...\")\n",
        "evaluate_ann()"
      ],
      "metadata": {
        "id": "3QEI5evJN3mc",
        "colab": {
          "base_uri": "https://localhost:8080/"
        },
        "outputId": "435746b3-2a14-4c70-e352-dad074b8fa0b"
      },
      "execution_count": null,
      "outputs": [
        {
          "output_type": "stream",
          "name": "stdout",
          "text": [
            "ANN Modeli Değerlendiriliyor...\n",
            "Word2Vec ile Xgboost modeli değerlendiriliyor...\n",
            "Epoch 1/50\n"
          ]
        },
        {
          "output_type": "stream",
          "name": "stderr",
          "text": [
            "/usr/local/lib/python3.10/dist-packages/keras/src/layers/core/dense.py:87: UserWarning: Do not pass an `input_shape`/`input_dim` argument to a layer. When using Sequential models, prefer using an `Input(shape)` object as the first layer in the model instead.\n",
            "  super().__init__(activity_regularizer=activity_regularizer, **kwargs)\n"
          ]
        },
        {
          "output_type": "stream",
          "name": "stdout",
          "text": [
            "\u001b[1m2245/2245\u001b[0m \u001b[32m━━━━━━━━━━━━━━━━━━━━\u001b[0m\u001b[37m\u001b[0m \u001b[1m5s\u001b[0m 2ms/step - accuracy: 0.7417 - loss: 0.6582 - val_accuracy: 0.7795 - val_loss: 0.5350\n",
            "Epoch 2/50\n",
            "\u001b[1m2245/2245\u001b[0m \u001b[32m━━━━━━━━━━━━━━━━━━━━\u001b[0m\u001b[37m\u001b[0m \u001b[1m3s\u001b[0m 2ms/step - accuracy: 0.7738 - loss: 0.5406 - val_accuracy: 0.7893 - val_loss: 0.5127\n",
            "Epoch 3/50\n",
            "\u001b[1m2245/2245\u001b[0m \u001b[32m━━━━━━━━━━━━━━━━━━━━\u001b[0m\u001b[37m\u001b[0m \u001b[1m4s\u001b[0m 2ms/step - accuracy: 0.7893 - loss: 0.5087 - val_accuracy: 0.7906 - val_loss: 0.5045\n",
            "Epoch 4/50\n",
            "\u001b[1m2245/2245\u001b[0m \u001b[32m━━━━━━━━━━━━━━━━━━━━\u001b[0m\u001b[37m\u001b[0m \u001b[1m4s\u001b[0m 2ms/step - accuracy: 0.8064 - loss: 0.4770 - val_accuracy: 0.7889 - val_loss: 0.4974\n",
            "Epoch 5/50\n",
            "\u001b[1m2245/2245\u001b[0m \u001b[32m━━━━━━━━━━━━━━━━━━━━\u001b[0m\u001b[37m\u001b[0m \u001b[1m4s\u001b[0m 2ms/step - accuracy: 0.8089 - loss: 0.4678 - val_accuracy: 0.7982 - val_loss: 0.4972\n",
            "Epoch 6/50\n",
            "\u001b[1m2245/2245\u001b[0m \u001b[32m━━━━━━━━━━━━━━━━━━━━\u001b[0m\u001b[37m\u001b[0m \u001b[1m4s\u001b[0m 2ms/step - accuracy: 0.8209 - loss: 0.4498 - val_accuracy: 0.7991 - val_loss: 0.4911\n",
            "Epoch 7/50\n",
            "\u001b[1m2245/2245\u001b[0m \u001b[32m━━━━━━━━━━━━━━━━━━━━\u001b[0m\u001b[37m\u001b[0m \u001b[1m4s\u001b[0m 2ms/step - accuracy: 0.8281 - loss: 0.4299 - val_accuracy: 0.8009 - val_loss: 0.4931\n",
            "Epoch 8/50\n",
            "\u001b[1m2245/2245\u001b[0m \u001b[32m━━━━━━━━━━━━━━━━━━━━\u001b[0m\u001b[37m\u001b[0m \u001b[1m4s\u001b[0m 2ms/step - accuracy: 0.8251 - loss: 0.4297 - val_accuracy: 0.8018 - val_loss: 0.4913\n",
            "Epoch 9/50\n",
            "\u001b[1m2245/2245\u001b[0m \u001b[32m━━━━━━━━━━━━━━━━━━━━\u001b[0m\u001b[37m\u001b[0m \u001b[1m3s\u001b[0m 2ms/step - accuracy: 0.8289 - loss: 0.4276 - val_accuracy: 0.8071 - val_loss: 0.4904\n",
            "Epoch 10/50\n",
            "\u001b[1m2245/2245\u001b[0m \u001b[32m━━━━━━━━━━━━━━━━━━━━\u001b[0m\u001b[37m\u001b[0m \u001b[1m4s\u001b[0m 2ms/step - accuracy: 0.8371 - loss: 0.3947 - val_accuracy: 0.8040 - val_loss: 0.4891\n",
            "Epoch 11/50\n",
            "\u001b[1m2245/2245\u001b[0m \u001b[32m━━━━━━━━━━━━━━━━━━━━\u001b[0m\u001b[37m\u001b[0m \u001b[1m4s\u001b[0m 2ms/step - accuracy: 0.8537 - loss: 0.3737 - val_accuracy: 0.8107 - val_loss: 0.4958\n",
            "Epoch 12/50\n",
            "\u001b[1m2245/2245\u001b[0m \u001b[32m━━━━━━━━━━━━━━━━━━━━\u001b[0m\u001b[37m\u001b[0m \u001b[1m3s\u001b[0m 2ms/step - accuracy: 0.8472 - loss: 0.3743 - val_accuracy: 0.8089 - val_loss: 0.5076\n",
            "Epoch 13/50\n",
            "\u001b[1m2245/2245\u001b[0m \u001b[32m━━━━━━━━━━━━━━━━━━━━\u001b[0m\u001b[37m\u001b[0m \u001b[1m4s\u001b[0m 2ms/step - accuracy: 0.8626 - loss: 0.3521 - val_accuracy: 0.8071 - val_loss: 0.4972\n",
            "Epoch 14/50\n",
            "\u001b[1m2245/2245\u001b[0m \u001b[32m━━━━━━━━━━━━━━━━━━━━\u001b[0m\u001b[37m\u001b[0m \u001b[1m4s\u001b[0m 2ms/step - accuracy: 0.8560 - loss: 0.3472 - val_accuracy: 0.8120 - val_loss: 0.5139\n",
            "\u001b[1m71/71\u001b[0m \u001b[32m━━━━━━━━━━━━━━━━━━━━\u001b[0m\u001b[37m\u001b[0m \u001b[1m0s\u001b[0m 1ms/step  \n",
            "Confusion matrix kaydedildi: /content/drive/MyDrive/outputs1/confusion_matrix_ANN_Word2Vec.png\n",
            "Loss grafiği kaydedildi: /content/drive/MyDrive/outputs1/loss_ANN_Word2Vec.png\n",
            "Accuracy grafiği kaydedildi: /content/drive/MyDrive/outputs1/accuracy_ANN_Word2Vec.png\n"
          ]
        }
      ]
    },
    {
      "cell_type": "code",
      "source": [
        "# Sonuçları DataFrame olarak kaydetme\n",
        "results_df = pd.DataFrame(results)\n",
        "print(\"Sonuçlar:\")\n",
        "print(results_df)\n",
        "\n",
        "# Sonuçları CSV olarak kaydetme\n",
        "results_df.to_csv('model_performance_results.csv', index=False)\n",
        "print(\"Sonuçlar 'model_performance_results.csv' dosyasına kaydedildi.\")"
      ],
      "metadata": {
        "id": "xOomaRNUSqOg",
        "colab": {
          "base_uri": "https://localhost:8080/"
        },
        "outputId": "aa65e1af-d9cc-447f-dca4-9bc5319f60a0"
      },
      "execution_count": null,
      "outputs": [
        {
          "output_type": "stream",
          "name": "stdout",
          "text": [
            "Sonuçlar:\n",
            "           Model Data Type  Precision    Recall  F1-Score  Accuracy\n",
            "0  Random Forest  Word2Vec   0.778316  0.765256  0.685489  0.765256\n",
            "1        XGBoost  Word2Vec   0.802501  0.804009  0.770188  0.804009\n",
            "2       LightGBM  Word2Vec   0.774639  0.792428  0.749425  0.792428\n",
            "3            ANN  Word2Vec   0.797101  0.804009  0.788682  0.804009\n",
            "Sonuçlar 'model_performance_results.csv' dosyasına kaydedildi.\n"
          ]
        }
      ]
    },
    {
      "cell_type": "code",
      "source": [
        "import matplotlib.pyplot as plt\n",
        "import numpy as np\n",
        "import pandas as pd\n",
        "from imblearn.over_sampling import SMOTE\n",
        "from imblearn.under_sampling import RandomUnderSampler\n",
        "from imblearn.combine import SMOTEENN\n",
        "\n",
        "# Resampling işlemleri için kullanılacak fonksiyonlar\n",
        "def resample_data(X, y, method):\n",
        "    \"\"\"\n",
        "    Resampling işlemini gerçekleştirir (oversampling, undersampling veya combined).\n",
        "    \"\"\"\n",
        "    if method == 'oversampling':\n",
        "        resampler = SMOTE(random_state=42)\n",
        "    elif method == 'undersampling':\n",
        "        resampler = RandomUnderSampler(random_state=42)\n",
        "    elif method == 'combined':\n",
        "        resampler = SMOTEENN(random_state=42)\n",
        "    else:\n",
        "        raise ValueError(\"Geçersiz resampling yöntemi: 'oversampling', 'undersampling', veya 'combined' olmalı.\")\n",
        "\n",
        "    X_resampled, y_resampled = resampler.fit_resample(X, y)\n",
        "    return X_resampled, y_resampled\n",
        "\n",
        "\n",
        "# Tüm veri setleri için resampling işlemleri\n",
        "resampled_data_sets = {}\n",
        "\n",
        "# Orijinal veri\n",
        "X_original = np.array(processed_data['Sentence Vector'].tolist())  # Giriş vektörleri\n",
        "y_original = numeric_labels  # Etiketler (sınıflar)\n",
        "# Oversampling sonrası\n",
        "X_oversampled, y_oversampled = resample_data(X_original, y_original, method='oversampling')\n",
        "resampled_data_sets[f\"oversampling_{'Word2Vec'}\"] = (X_oversampled, y_oversampled)\n",
        "\n",
        "# Undersampling sonrası\n",
        "X_undersampled, y_undersampled = resample_data(X_original, y_original, method='undersampling')\n",
        "resampled_data_sets[f\"undersampling_{'Word2Vec'}\"] = (X_undersampled, y_undersampled)\n",
        "\n",
        "# Combined yöntem sonrası\n",
        "X_combined, y_combined = resample_data(X_original, y_original, method='combined')\n",
        "resampled_data_sets[f\"combined_{'Word2Vec'}\"] = (X_combined, y_combined)\n",
        "\n",
        "print(\"Seçilen kombinasyonlar için resampling işlemleri tamamlandı ve veri setleri modelde kullanılabilir hale getirildi.\")\n",
        "\n",
        "# Rastgele 1 örnek seçme ve inceleme\n",
        "random_sample_key = np.random.choice(list(resampled_data_sets.keys()))\n",
        "print(f\"Rastgele seçilen örnek: {random_sample_key}\")\n",
        "X_sample, y_sample = resampled_data_sets[random_sample_key]\n",
        "\n",
        "# Pasta grafikleri çizme fonksiyonu\n",
        "def plot_pie_chart(y, title):\n",
        "    labels, counts = np.unique(y, return_counts=True)\n",
        "    plt.figure(figsize=(6, 6))\n",
        "    plt.pie(counts, labels=labels, autopct='%1.1f%%', startangle=140, colors=plt.cm.Paired.colors)\n",
        "    plt.title(title)\n",
        "    plt.axis('equal')\n",
        "    plt.show()\n",
        "\n",
        "# Resampling yöntemlerine göre pasta grafikleri çizdirme\n",
        "methods = ['oversampling', 'undersampling', 'combined']\n",
        "for method in methods:\n",
        "    sample_key = f\"{method}_{random_sample_key.split('_', 1)[1]}\"\n",
        "    if sample_key in resampled_data_sets:\n",
        "        _, y_resampled = resampled_data_sets[sample_key]\n",
        "        plot_pie_chart(y_resampled, f\"{method.capitalize()} Sonrası Sınıf Dağılımı - {sample_key}\")\n"
      ],
      "metadata": {
        "colab": {
          "base_uri": "https://localhost:8080/",
          "height": 1000
        },
        "id": "Mb_pCokSTsOY",
        "outputId": "0bd02a2e-639d-4be7-f077-cd0b541d3983"
      },
      "execution_count": null,
      "outputs": [
        {
          "output_type": "stream",
          "name": "stderr",
          "text": [
            "/usr/local/lib/python3.10/dist-packages/sklearn/base.py:474: FutureWarning: `BaseEstimator._validate_data` is deprecated in 1.6 and will be removed in 1.7. Use `sklearn.utils.validation.validate_data` instead. This function becomes public and is part of the scikit-learn developer API.\n",
            "  warnings.warn(\n",
            "/usr/local/lib/python3.10/dist-packages/sklearn/utils/_tags.py:354: FutureWarning: The SMOTE or classes from which it inherits use `_get_tags` and `_more_tags`. Please define the `__sklearn_tags__` method, or inherit from `sklearn.base.BaseEstimator` and/or other appropriate mixins such as `sklearn.base.TransformerMixin`, `sklearn.base.ClassifierMixin`, `sklearn.base.RegressorMixin`, and `sklearn.base.OutlierMixin`. From scikit-learn 1.7, not defining `__sklearn_tags__` will raise an error.\n",
            "  warnings.warn(\n",
            "/usr/local/lib/python3.10/dist-packages/sklearn/utils/deprecation.py:151: FutureWarning: 'force_all_finite' was renamed to 'ensure_all_finite' in 1.6 and will be removed in 1.8.\n",
            "  warnings.warn(\n",
            "/usr/local/lib/python3.10/dist-packages/sklearn/base.py:484: FutureWarning: `BaseEstimator._check_n_features` is deprecated in 1.6 and will be removed in 1.7. Use `sklearn.utils.validation._check_n_features` instead.\n",
            "  warnings.warn(\n",
            "/usr/local/lib/python3.10/dist-packages/sklearn/base.py:493: FutureWarning: `BaseEstimator._check_feature_names` is deprecated in 1.6 and will be removed in 1.7. Use `sklearn.utils.validation._check_feature_names` instead.\n",
            "  warnings.warn(\n",
            "/usr/local/lib/python3.10/dist-packages/sklearn/base.py:474: FutureWarning: `BaseEstimator._validate_data` is deprecated in 1.6 and will be removed in 1.7. Use `sklearn.utils.validation.validate_data` instead. This function becomes public and is part of the scikit-learn developer API.\n",
            "  warnings.warn(\n",
            "/usr/local/lib/python3.10/dist-packages/sklearn/utils/_tags.py:354: FutureWarning: The SMOTEENN or classes from which it inherits use `_get_tags` and `_more_tags`. Please define the `__sklearn_tags__` method, or inherit from `sklearn.base.BaseEstimator` and/or other appropriate mixins such as `sklearn.base.TransformerMixin`, `sklearn.base.ClassifierMixin`, `sklearn.base.RegressorMixin`, and `sklearn.base.OutlierMixin`. From scikit-learn 1.7, not defining `__sklearn_tags__` will raise an error.\n",
            "  warnings.warn(\n",
            "/usr/local/lib/python3.10/dist-packages/sklearn/base.py:474: FutureWarning: `BaseEstimator._validate_data` is deprecated in 1.6 and will be removed in 1.7. Use `sklearn.utils.validation.validate_data` instead. This function becomes public and is part of the scikit-learn developer API.\n",
            "  warnings.warn(\n",
            "/usr/local/lib/python3.10/dist-packages/sklearn/utils/_tags.py:354: FutureWarning: The SMOTE or classes from which it inherits use `_get_tags` and `_more_tags`. Please define the `__sklearn_tags__` method, or inherit from `sklearn.base.BaseEstimator` and/or other appropriate mixins such as `sklearn.base.TransformerMixin`, `sklearn.base.ClassifierMixin`, `sklearn.base.RegressorMixin`, and `sklearn.base.OutlierMixin`. From scikit-learn 1.7, not defining `__sklearn_tags__` will raise an error.\n",
            "  warnings.warn(\n",
            "/usr/local/lib/python3.10/dist-packages/sklearn/base.py:474: FutureWarning: `BaseEstimator._validate_data` is deprecated in 1.6 and will be removed in 1.7. Use `sklearn.utils.validation.validate_data` instead. This function becomes public and is part of the scikit-learn developer API.\n",
            "  warnings.warn(\n",
            "/usr/local/lib/python3.10/dist-packages/sklearn/utils/_tags.py:354: FutureWarning: The EditedNearestNeighbours or classes from which it inherits use `_get_tags` and `_more_tags`. Please define the `__sklearn_tags__` method, or inherit from `sklearn.base.BaseEstimator` and/or other appropriate mixins such as `sklearn.base.TransformerMixin`, `sklearn.base.ClassifierMixin`, `sklearn.base.RegressorMixin`, and `sklearn.base.OutlierMixin`. From scikit-learn 1.7, not defining `__sklearn_tags__` will raise an error.\n",
            "  warnings.warn(\n"
          ]
        },
        {
          "output_type": "stream",
          "name": "stdout",
          "text": [
            "Seçilen kombinasyonlar için resampling işlemleri tamamlandı ve veri setleri modelde kullanılabilir hale getirildi.\n",
            "Rastgele seçilen örnek: combined_Word2Vec\n"
          ]
        },
        {
          "output_type": "display_data",
          "data": {
            "text/plain": [
              "<Figure size 600x600 with 1 Axes>"
            ],
            "image/png": "[encoded data removed]"
          },
          "metadata": {}
        },
        {
          "output_type": "display_data",
          "data": {
            "text/plain": [
              "<Figure size 600x600 with 1 Axes>"
            ],
            "image/png": "[encoded data removed]"
          },
          "metadata": {}
        },
        {
          "output_type": "display_data",
          "data": {
            "text/plain": [
              "<Figure size 600x600 with 1 Axes>"
            ],
            "image/png": "[encoded data removed]"
          },
          "metadata": {}
        }
      ]
    },
    {
      "cell_type": "code",
      "source": [
        "# Pasta grafikleri çizme fonksiyonu\n",
        "def plot_pie_chart(y, title):\n",
        "    labels, counts = np.unique(y, return_counts=True)\n",
        "    plt.figure(figsize=(6, 6))\n",
        "    plt.pie(counts, labels=labels, autopct='%1.1f%%', startangle=140, colors=plt.cm.Paired.colors)\n",
        "    plt.title(title)\n",
        "    plt.axis('equal')\n",
        "    plt.show()\n",
        "\n",
        "# Resampling yöntemlerine göre pasta grafikleri çizdirme\n",
        "methods = ['oversampling', 'undersampling', 'combined']\n",
        "for method in methods:\n",
        "    sample_key = f\"{method}_{random_sample_key.split('_', 1)[1]}\"\n",
        "    if sample_key in resampled_data_sets:\n",
        "        _, y_resampled = resampled_data_sets[sample_key]\n",
        "        plot_pie_chart(y_resampled, f\"{method.capitalize()} Sonrası Sınıf Dağılımı - {sample_key}\")"
      ],
      "metadata": {
        "colab": {
          "base_uri": "https://localhost:8080/",
          "height": 1000
        },
        "id": "E6FRtwBhUP6a",
        "outputId": "fefc15e9-6f1a-48bf-8dec-ea8701f0df81"
      },
      "execution_count": null,
      "outputs": [
        {
          "output_type": "display_data",
          "data": {
            "text/plain": [
              "<Figure size 600x600 with 1 Axes>"
            ],
            "image/png": "[encoded data removed]"
          },
          "metadata": {}
        },
        {
          "output_type": "display_data",
          "data": {
            "text/plain": [
              "<Figure size 600x600 with 1 Axes>"
            ],
            "image/png": "[encoded data removed]"
          },
          "metadata": {}
        },
        {
          "output_type": "display_data",
          "data": {
            "text/plain": [
              "<Figure size 600x600 with 1 Axes>"
            ],
            "image/png": "[encoded data removed]"
          },
          "metadata": {}
        }
      ]
    },
    {
      "cell_type": "code",
      "source": [
        "from sklearn.ensemble import RandomForestClassifier\n",
        "from xgboost import XGBClassifier\n",
        "from lightgbm import LGBMClassifier\n",
        "from sklearn.model_selection import train_test_split\n",
        "from sklearn.metrics import classification_report, precision_score, recall_score, f1_score, confusion_matrix, ConfusionMatrixDisplay\n",
        "from sklearn.preprocessing import LabelEncoder\n",
        "from tensorflow.keras.models import Sequential\n",
        "from tensorflow.keras.layers import Dense, Dropout\n",
        "from tensorflow.keras.utils import to_categorical\n",
        "from tensorflow.keras.callbacks import EarlyStopping\n",
        "from sklearn.metrics import accuracy_score\n",
        "import matplotlib.pyplot as plt\n",
        "import seaborn as sns\n",
        "import pandas as pd\n",
        "import numpy as np\n",
        "import os\n",
        "\n",
        "# Daha önce oluşturulan kombinasyonlar (count_combination_data, tfidf_combination_data) kullanılacak\n",
        "# Çıktılar için dosya yolunu ayarlama\n",
        "output_dir = \"/content/drive/MyDrive/outputs1_resample\"\n",
        "os.makedirs(output_dir, exist_ok=True)\n",
        "\n",
        "# Etiketleri Yükleme ve Sayısal Dönüşüm\n",
        "labels = processed_data['Etiket']\n",
        "label_encoder = LabelEncoder()\n",
        "numeric_labels = label_encoder.fit_transform(labels)\n",
        "print(f\"Etiketler dönüştürüldü: {list(label_encoder.classes_)}\")\n",
        "\n",
        "# Veri Seti Bölme Fonksiyonu\n",
        "\n",
        "def split_data(matrix, labels):\n",
        "    # LightGBM ve diğer modeller için gerekli dönüşüm\n",
        "    matrix = matrix.astype(np.float32) if hasattr(matrix, 'astype') else matrix\n",
        "    return train_test_split(matrix, labels, test_size=0.2, random_state=42)\n",
        "\n",
        "# Performans Ölçüm Fonksiyonu\n",
        "def evaluate_model(model, X_train, X_test, y_train, y_test):\n",
        "    model.fit(X_train, y_train)\n",
        "    predictions = model.predict(X_test)\n",
        "\n",
        "    # Precision, Recall, F1-Score ve Accuracy hesaplamaları\n",
        "    precision = precision_score(y_test, predictions, average='weighted', zero_division=0)\n",
        "    recall = recall_score(y_test, predictions, average='weighted', zero_division=0)\n",
        "    f1 = f1_score(y_test, predictions, average='weighted', zero_division=0)\n",
        "    accuracy = accuracy_score(y_test, predictions)\n",
        "\n",
        "    # Metriği ekrana yazdırma\n",
        "    print(f\"Precision: {precision:.4f}, Recall: {recall:.4f}, F1-Score: {f1:.4f}, Accuracy: {accuracy:.4f}\")\n",
        "    return precision, recall, f1, accuracy, predictions\n",
        "\n",
        "# Confusion Matrix Görselleştirme Fonksiyonu\n",
        "def save_confusion_matrix(y_true, y_pred, model_name, data_type, combination):\n",
        "    cm = confusion_matrix(y_true, y_pred, labels=np.unique(y_true))\n",
        "    disp = ConfusionMatrixDisplay(confusion_matrix=cm, display_labels=np.unique(y_true))\n",
        "    disp.plot(cmap=plt.cm.Blues, xticks_rotation='vertical')\n",
        "    plt.title(f\"Confusion Matrix - {model_name} ({data_type} - {combination})\")\n",
        "    file_path = os.path.join(output_dir, f\"confusion_matrix_{model_name}_{data_type}_{combination}.png\")\n",
        "    plt.savefig(file_path, bbox_inches='tight')\n",
        "    plt.close()\n",
        "    print(f\"Confusion matrix kaydedildi: {file_path}\")\n",
        "\n",
        "# Eğitim ve Doğrulama Metriklerini Kaydetme Fonksiyonu\n",
        "def save_training_validation_metrics(history, model_name, data_type, combination):\n",
        "    epochs = range(1, len(history['loss']) + 1)\n",
        "\n",
        "    # Loss Grafiği\n",
        "    plt.plot(epochs, history['loss'], label='Training Loss')\n",
        "    plt.plot(epochs, history['val_loss'], label='Validation Loss')\n",
        "    plt.title(f\"Loss - {model_name} ({data_type} - {combination})\")\n",
        "    plt.xlabel('Epochs')\n",
        "    plt.ylabel('Loss')\n",
        "    plt.legend()\n",
        "    file_path_loss = os.path.join(output_dir, f\"loss_{model_name}_{data_type}_{combination}.png\")\n",
        "    plt.savefig(file_path_loss, bbox_inches='tight')\n",
        "    plt.close()\n",
        "    print(f\"Loss grafiği kaydedildi: {file_path_loss}\")\n",
        "\n",
        "    # Accuracy Grafiği\n",
        "    plt.plot(epochs, history['accuracy'], label='Training Accuracy')\n",
        "    plt.plot(epochs, history['val_accuracy'], label='Validation Accuracy')\n",
        "    plt.title(f\"Accuracy - {model_name} ({data_type} - {combination})\")\n",
        "    plt.xlabel('Epochs')\n",
        "    plt.ylabel('Accuracy')\n",
        "    plt.legend()\n",
        "    file_path_acc = os.path.join(output_dir, f\"accuracy_{model_name}_{data_type}_{combination}.png\")\n",
        "    plt.savefig(file_path_acc, bbox_inches='tight')\n",
        "    plt.close()\n",
        "    print(f\"Accuracy grafiği kaydedildi: {file_path_acc}\")\n",
        "\n",
        "# Kombinasyonlar için Performans Değerlendirme Tablosu\n",
        "results = []"
      ],
      "metadata": {
        "id": "eXX3DkbmWm4K",
        "colab": {
          "base_uri": "https://localhost:8080/"
        },
        "outputId": "1fd0c9df-b451-4dfa-d32b-95e9b27961b9"
      },
      "execution_count": null,
      "outputs": [
        {
          "output_type": "stream",
          "name": "stdout",
          "text": [
            "Etiketler dönüştürüldü: ['hiçbiri', 'nefret', 'saldırgan']\n"
          ]
        }
      ]
    },
    {
      "cell_type": "code",
      "source": [
        "\n",
        "# Random Forest Modeli\n",
        "\n",
        "def evaluate_random_forest_resampled():\n",
        "    for key, (X_resampled, y_resampled) in resampled_data_sets.items():\n",
        "        print(f\"Random Forest ile {key} kombinasyonu değerlendiriliyor...\")\n",
        "        X_train, X_test, y_train, y_test = split_data(X_resampled, y_resampled)\n",
        "        model = RandomForestClassifier(\n",
        "            random_state=42,\n",
        "            n_estimators=400,\n",
        "            max_depth=10,\n",
        "            min_samples_split=8\n",
        "\n",
        "        )\n",
        "        precision, recall, f1, accuracy, predictions = evaluate_model(model, X_train, X_test, y_train, y_test)\n",
        "        results.append({\n",
        "            'Model': 'Random Forest',\n",
        "            'Data Type': 'Resampled',\n",
        "            'Kombinasyon': key,\n",
        "            'Precision': precision,\n",
        "            'Recall': recall,\n",
        "            'F1-Score': f1,\n",
        "            'Accuracy': accuracy\n",
        "        })\n",
        "\n",
        "        # Confusion Matrix Kaydetme\n",
        "        save_confusion_matrix(y_test, predictions, \"RandomForest\", \"Resampled\", key)\n",
        "\n"
      ],
      "metadata": {
        "id": "D6wn875PX7Ov"
      },
      "execution_count": null,
      "outputs": []
    },
    {
      "cell_type": "code",
      "source": [
        "print(\"random forest Modeli Değerlendiriliyor...\")\n",
        "evaluate_random_forest_resampled()"
      ],
      "metadata": {
        "colab": {
          "base_uri": "https://localhost:8080/"
        },
        "id": "fsCJb0b1Yo7k",
        "outputId": "a0a40e1d-1daf-40eb-c08c-60216ccde2e0"
      },
      "execution_count": null,
      "outputs": [
        {
          "output_type": "stream",
          "name": "stdout",
          "text": [
            "random forest Modeli Değerlendiriliyor...\n",
            "Random Forest ile oversampling_Word2Vec kombinasyonu değerlendiriliyor...\n",
            "Precision: 0.8812, Recall: 0.8822, F1-Score: 0.8809, Accuracy: 0.8822\n",
            "Confusion matrix kaydedildi: /content/drive/MyDrive/outputs1_resample/confusion_matrix_RandomForest_Resampled_oversampling_Word2Vec.png\n",
            "Random Forest ile undersampling_Word2Vec kombinasyonu değerlendiriliyor...\n",
            "Precision: 0.5618, Recall: 0.5441, F1-Score: 0.5431, Accuracy: 0.5441\n",
            "Confusion matrix kaydedildi: /content/drive/MyDrive/outputs1_resample/confusion_matrix_RandomForest_Resampled_undersampling_Word2Vec.png\n",
            "Random Forest ile combined_Word2Vec kombinasyonu değerlendiriliyor...\n",
            "Precision: 0.9481, Recall: 0.9444, F1-Score: 0.9331, Accuracy: 0.9444\n",
            "Confusion matrix kaydedildi: /content/drive/MyDrive/outputs1_resample/confusion_matrix_RandomForest_Resampled_combined_Word2Vec.png\n"
          ]
        }
      ]
    },
    {
      "cell_type": "code",
      "source": [
        "\n",
        "# XGBoost Modeli\n",
        "\n",
        "def evaluate_xgboost_resampled():\n",
        "    for key, (X_resampled, y_resampled) in resampled_data_sets.items():\n",
        "        print(f\"XGBoost ile {key} kombinasyonu değerlendiriliyor...\")\n",
        "        X_train, X_test, y_train, y_test = split_data(X_resampled, y_resampled)\n",
        "        model = XGBClassifier(\n",
        "            eval_metric='logloss',\n",
        "            random_state=42,\n",
        "            n_estimators=800,\n",
        "            max_depth=15,\n",
        "            learning_rate=0.25,\n",
        "            subsample=0.7\n",
        "        )\n",
        "        precision, recall, f1, accuracy, predictions = evaluate_model(model, X_train, X_test, y_train, y_test)\n",
        "        results.append({\n",
        "            'Model': 'XGBoost',\n",
        "            'Data Type': 'Resampled',\n",
        "            'Kombinasyon': key,\n",
        "            'Precision': precision,\n",
        "            'Recall': recall,\n",
        "            'F1-Score': f1,\n",
        "            'Accuracy': accuracy\n",
        "        })\n",
        "\n",
        "        # Confusion Matrix Kaydetme\n",
        "        save_confusion_matrix(y_test, predictions, \"XGBoost\", \"Resampled\", key)\n",
        "\n"
      ],
      "metadata": {
        "id": "Vuomjbg1StvP"
      },
      "execution_count": null,
      "outputs": []
    },
    {
      "cell_type": "code",
      "source": [
        "print(\"xgboost Modeli Değerlendiriliyor...\")\n",
        "evaluate_xgboost_resampled()"
      ],
      "metadata": {
        "colab": {
          "base_uri": "https://localhost:8080/"
        },
        "id": "DPeSCmbgYqVT",
        "outputId": "6972f3f6-c232-424e-d3e0-10b471e8ade7"
      },
      "execution_count": null,
      "outputs": [
        {
          "output_type": "stream",
          "name": "stdout",
          "text": [
            "xgboost Modeli Değerlendiriliyor...\n",
            "XGBoost ile oversampling_Word2Vec kombinasyonu değerlendiriliyor...\n",
            "Precision: 0.9438, Recall: 0.9440, F1-Score: 0.9439, Accuracy: 0.9440\n",
            "Confusion matrix kaydedildi: /content/drive/MyDrive/outputs1_resample/confusion_matrix_XGBoost_Resampled_oversampling_Word2Vec.png\n",
            "XGBoost ile undersampling_Word2Vec kombinasyonu değerlendiriliyor...\n",
            "Precision: 0.5529, Recall: 0.5368, F1-Score: 0.5405, Accuracy: 0.5368\n",
            "Confusion matrix kaydedildi: /content/drive/MyDrive/outputs1_resample/confusion_matrix_XGBoost_Resampled_undersampling_Word2Vec.png\n",
            "XGBoost ile combined_Word2Vec kombinasyonu değerlendiriliyor...\n",
            "Precision: 0.9854, Recall: 0.9855, F1-Score: 0.9850, Accuracy: 0.9855\n",
            "Confusion matrix kaydedildi: /content/drive/MyDrive/outputs1_resample/confusion_matrix_XGBoost_Resampled_combined_Word2Vec.png\n"
          ]
        }
      ]
    },
    {
      "cell_type": "code",
      "source": [
        "# LightGBM Modeli\n",
        "\n",
        "def evaluate_lightgbm_resampled():\n",
        "    for key, (X_resampled, y_resampled) in resampled_data_sets.items():\n",
        "        print(f\"LightGBM ile {key} kombinasyonu değerlendiriliyor...\")\n",
        "        X_train, X_test, y_train, y_test = split_data(X_resampled, y_resampled)\n",
        "        model = LGBMClassifier(\n",
        "            random_state=42,\n",
        "            num_leaves=20,\n",
        "            max_depth=20,\n",
        "            learning_rate=0.005,\n",
        "            n_estimators=800\n",
        "        )\n",
        "        precision, recall, f1, accuracy, predictions = evaluate_model(model, X_train, X_test, y_train, y_test)\n",
        "        results.append({\n",
        "            'Model': 'LightGBM',\n",
        "            'Data Type': 'Resampled',\n",
        "            'Kombinasyon': key,\n",
        "            'Precision': precision,\n",
        "            'Recall': recall,\n",
        "            'F1-Score': f1,\n",
        "            'Accuracy': accuracy\n",
        "        })\n",
        "\n",
        "        # Confusion Matrix Kaydetme\n",
        "        save_confusion_matrix(y_test, predictions, \"LightGBM\", \"Resampled\", key)\n",
        "\n"
      ],
      "metadata": {
        "id": "3uRTP6UwYjMt"
      },
      "execution_count": null,
      "outputs": []
    },
    {
      "cell_type": "code",
      "source": [
        "print(\"LightGBM Modeli Değerlendiriliyor...\")\n",
        "evaluate_lightgbm_resampled()"
      ],
      "metadata": {
        "colab": {
          "base_uri": "https://localhost:8080/"
        },
        "id": "kjsL_vJ8YvMg",
        "outputId": "6364d2e4-0a64-498a-c799-22f63536b411"
      },
      "execution_count": null,
      "outputs": [
        {
          "output_type": "stream",
          "name": "stdout",
          "text": [
            "LightGBM Modeli Değerlendiriliyor...\n",
            "LightGBM ile oversampling_Word2Vec kombinasyonu değerlendiriliyor...\n"
          ]
        },
        {
          "output_type": "stream",
          "name": "stderr",
          "text": [
            "/usr/local/lib/python3.10/dist-packages/sklearn/utils/deprecation.py:151: FutureWarning: 'force_all_finite' was renamed to 'ensure_all_finite' in 1.6 and will be removed in 1.8.\n",
            "  warnings.warn(\n"
          ]
        },
        {
          "output_type": "stream",
          "name": "stdout",
          "text": [
            "[LightGBM] [Info] Auto-choosing col-wise multi-threading, the overhead of testing was 0.023958 seconds.\n",
            "You can set `force_col_wise=true` to remove the overhead.\n",
            "[LightGBM] [Info] Total Bins 102000\n",
            "[LightGBM] [Info] Number of data points in the train set: 20126, number of used features: 400\n",
            "[LightGBM] [Info] Start training from score -1.106794\n",
            "[LightGBM] [Info] Start training from score -1.094398\n",
            "[LightGBM] [Info] Start training from score -1.094695\n"
          ]
        },
        {
          "output_type": "stream",
          "name": "stderr",
          "text": [
            "/usr/local/lib/python3.10/dist-packages/sklearn/utils/deprecation.py:151: FutureWarning: 'force_all_finite' was renamed to 'ensure_all_finite' in 1.6 and will be removed in 1.8.\n",
            "  warnings.warn(\n"
          ]
        },
        {
          "output_type": "stream",
          "name": "stdout",
          "text": [
            "Precision: 0.8500, Recall: 0.8517, F1-Score: 0.8503, Accuracy: 0.8517\n",
            "Confusion matrix kaydedildi: /content/drive/MyDrive/outputs1_resample/confusion_matrix_LightGBM_Resampled_oversampling_Word2Vec.png\n",
            "LightGBM ile undersampling_Word2Vec kombinasyonu değerlendiriliyor...\n",
            "[LightGBM] [Info] Auto-choosing col-wise multi-threading, the overhead of testing was 0.002498 seconds.\n",
            "You can set `force_col_wise=true` to remove the overhead.\n",
            "[LightGBM] [Info] Total Bins 72455\n",
            "[LightGBM] [Info] Number of data points in the train set: 542, number of used features: 400\n",
            "[LightGBM] [Info] Start training from score -1.147772\n",
            "[LightGBM] [Info] Start training from score -1.074910\n",
            "[LightGBM] [Info] Start training from score -1.074910\n",
            "[LightGBM] [Warning] No further splits with positive gain, best gain: -inf\n",
            "[LightGBM] [Warning] No further splits with positive gain, best gain: -inf\n",
            "[LightGBM] [Warning] No further splits with positive gain, best gain: -inf\n",
            "[LightGBM] [Warning] No further splits with positive gain, best gain: -inf\n",
            "[LightGBM] [Warning] No further splits with positive gain, best gain: -inf\n",
            "[LightGBM] [Warning] No further splits with positive gain, best gain: -inf\n",
            "[LightGBM] [Warning] No further splits with positive gain, best gain: -inf\n",
            "[LightGBM] [Warning] No further splits with positive gain, best gain: -inf\n",
            "[LightGBM] [Warning] No further splits with positive gain, best gain: -inf\n",
            "[LightGBM] [Warning] No further splits with positive gain, best gain: -inf\n"
          ]
        },
        {
          "output_type": "stream",
          "name": "stderr",
          "text": [
            "/usr/local/lib/python3.10/dist-packages/sklearn/utils/deprecation.py:151: FutureWarning: 'force_all_finite' was renamed to 'ensure_all_finite' in 1.6 and will be removed in 1.8.\n",
            "  warnings.warn(\n"
          ]
        },
        {
          "output_type": "stream",
          "name": "stdout",
          "text": [
            "[LightGBM] [Warning] No further splits with positive gain, best gain: -inf\n",
            "[LightGBM] [Warning] No further splits with positive gain, best gain: -inf\n",
            "[LightGBM] [Warning] No further splits with positive gain, best gain: -inf\n",
            "[LightGBM] [Warning] No further splits with positive gain, best gain: -inf\n",
            "[LightGBM] [Warning] No further splits with positive gain, best gain: -inf\n",
            "[LightGBM] [Warning] No further splits with positive gain, best gain: -inf\n",
            "[LightGBM] [Warning] No further splits with positive gain, best gain: -inf\n",
            "[LightGBM] [Warning] No further splits with positive gain, best gain: -inf\n",
            "[LightGBM] [Warning] No further splits with positive gain, best gain: -inf\n",
            "[LightGBM] [Warning] No further splits with positive gain, best gain: -inf\n",
            "[LightGBM] [Warning] No further splits with positive gain, best gain: -inf\n",
            "[LightGBM] [Warning] No further splits with positive gain, best gain: -inf\n",
            "[LightGBM] [Warning] No further splits with positive gain, best gain: -inf\n",
            "[LightGBM] [Warning] No further splits with positive gain, best gain: -inf\n",
            "[LightGBM] [Warning] No further splits with positive gain, best gain: -inf\n",
            "[LightGBM] [Warning] No further splits with positive gain, best gain: -inf\n",
            "[LightGBM] [Warning] No further splits with positive gain, best gain: -inf\n",
            "[LightGBM] [Warning] No further splits with positive gain, best gain: -inf\n",
            "[LightGBM] [Warning] No further splits with positive gain, best gain: -inf\n",
            "[LightGBM] [Warning] No further splits with positive gain, best gain: -inf\n",
            "[LightGBM] [Warning] No further splits with positive gain, best gain: -inf\n",
            "[LightGBM] [Warning] No further splits with positive gain, best gain: -inf\n",
            "[LightGBM] [Warning] No further splits with positive gain, best gain: -inf\n",
            "[LightGBM] [Warning] No further splits with positive gain, best gain: -inf\n",
            "[LightGBM] [Warning] No further splits with positive gain, best gain: -inf\n",
            "[LightGBM] [Warning] No further splits with positive gain, best gain: -inf\n",
            "[LightGBM] [Warning] No further splits with positive gain, best gain: -inf\n",
            "[LightGBM] [Warning] No further splits with positive gain, best gain: -inf\n",
            "[LightGBM] [Warning] No further splits with positive gain, best gain: -inf\n",
            "[LightGBM] [Warning] No further splits with positive gain, best gain: -inf\n",
            "[LightGBM] [Warning] No further splits with positive gain, best gain: -inf\n",
            "[LightGBM] [Warning] No further splits with positive gain, best gain: -inf\n",
            "[LightGBM] [Warning] No further splits with positive gain, best gain: -inf\n",
            "[LightGBM] [Warning] No further splits with positive gain, best gain: -inf\n",
            "[LightGBM] [Warning] No further splits with positive gain, best gain: -inf\n",
            "[LightGBM] [Warning] No further splits with positive gain, best gain: -inf\n",
            "[LightGBM] [Warning] No further splits with positive gain, best gain: -inf\n",
            "[LightGBM] [Warning] No further splits with positive gain, best gain: -inf\n",
            "[LightGBM] [Warning] No further splits with positive gain, best gain: -inf\n",
            "[LightGBM] [Warning] No further splits with positive gain, best gain: -inf\n",
            "[LightGBM] [Warning] No further splits with positive gain, best gain: -inf\n",
            "[LightGBM] [Warning] No further splits with positive gain, best gain: -inf\n",
            "[LightGBM] [Warning] No further splits with positive gain, best gain: -inf\n",
            "[LightGBM] [Warning] No further splits with positive gain, best gain: -inf\n",
            "[LightGBM] [Warning] No further splits with positive gain, best gain: -inf\n",
            "[LightGBM] [Warning] No further splits with positive gain, best gain: -inf\n",
            "[LightGBM] [Warning] No further splits with positive gain, best gain: -inf\n",
            "[LightGBM] [Warning] No further splits with positive gain, best gain: -inf\n",
            "[LightGBM] [Warning] No further splits with positive gain, best gain: -inf\n",
            "[LightGBM] [Warning] No further splits with positive gain, best gain: -inf\n",
            "[LightGBM] [Warning] No further splits with positive gain, best gain: -inf\n",
            "[LightGBM] [Warning] No further splits with positive gain, best gain: -inf\n",
            "[LightGBM] [Warning] No further splits with positive gain, best gain: -inf\n",
            "[LightGBM] [Warning] No further splits with positive gain, best gain: -inf\n",
            "[LightGBM] [Warning] No further splits with positive gain, best gain: -inf\n",
            "[LightGBM] [Warning] No further splits with positive gain, best gain: -inf\n",
            "[LightGBM] [Warning] No further splits with positive gain, best gain: -inf\n",
            "[LightGBM] [Warning] No further splits with positive gain, best gain: -inf\n",
            "[LightGBM] [Warning] No further splits with positive gain, best gain: -inf\n",
            "[LightGBM] [Warning] No further splits with positive gain, best gain: -inf\n",
            "[LightGBM] [Warning] No further splits with positive gain, best gain: -inf\n",
            "[LightGBM] [Warning] No further splits with positive gain, best gain: -inf\n",
            "[LightGBM] [Warning] No further splits with positive gain, best gain: -inf\n",
            "[LightGBM] [Warning] No further splits with positive gain, best gain: -inf\n",
            "[LightGBM] [Warning] No further splits with positive gain, best gain: -inf\n",
            "[LightGBM] [Warning] No further splits with positive gain, best gain: -inf\n",
            "[LightGBM] [Warning] No further splits with positive gain, best gain: -inf\n",
            "[LightGBM] [Warning] No further splits with positive gain, best gain: -inf\n",
            "[LightGBM] [Warning] No further splits with positive gain, best gain: -inf\n",
            "[LightGBM] [Warning] No further splits with positive gain, best gain: -inf\n",
            "[LightGBM] [Warning] No further splits with positive gain, best gain: -inf\n",
            "[LightGBM] [Warning] No further splits with positive gain, best gain: -inf\n",
            "[LightGBM] [Warning] No further splits with positive gain, best gain: -inf\n",
            "[LightGBM] [Warning] No further splits with positive gain, best gain: -inf\n",
            "[LightGBM] [Warning] No further splits with positive gain, best gain: -inf\n",
            "[LightGBM] [Warning] No further splits with positive gain, best gain: -inf\n",
            "[LightGBM] [Warning] No further splits with positive gain, best gain: -inf\n",
            "[LightGBM] [Warning] No further splits with positive gain, best gain: -inf\n",
            "[LightGBM] [Warning] No further splits with positive gain, best gain: -inf\n",
            "[LightGBM] [Warning] No further splits with positive gain, best gain: -inf\n",
            "[LightGBM] [Warning] No further splits with positive gain, best gain: -inf\n",
            "[LightGBM] [Warning] No further splits with positive gain, best gain: -inf\n",
            "Precision: 0.5274, Recall: 0.5147, F1-Score: 0.5162, Accuracy: 0.5147\n"
          ]
        },
        {
          "output_type": "stream",
          "name": "stderr",
          "text": [
            "/usr/local/lib/python3.10/dist-packages/sklearn/utils/deprecation.py:151: FutureWarning: 'force_all_finite' was renamed to 'ensure_all_finite' in 1.6 and will be removed in 1.8.\n",
            "  warnings.warn(\n"
          ]
        },
        {
          "output_type": "stream",
          "name": "stdout",
          "text": [
            "Confusion matrix kaydedildi: /content/drive/MyDrive/outputs1_resample/confusion_matrix_LightGBM_Resampled_undersampling_Word2Vec.png\n",
            "LightGBM ile combined_Word2Vec kombinasyonu değerlendiriliyor...\n"
          ]
        },
        {
          "output_type": "stream",
          "name": "stderr",
          "text": [
            "/usr/local/lib/python3.10/dist-packages/sklearn/utils/deprecation.py:151: FutureWarning: 'force_all_finite' was renamed to 'ensure_all_finite' in 1.6 and will be removed in 1.8.\n",
            "  warnings.warn(\n"
          ]
        },
        {
          "output_type": "stream",
          "name": "stdout",
          "text": [
            "[LightGBM] [Info] Auto-choosing col-wise multi-threading, the overhead of testing was 0.017002 seconds.\n",
            "You can set `force_col_wise=true` to remove the overhead.\n",
            "[LightGBM] [Info] Total Bins 102000\n",
            "[LightGBM] [Info] Number of data points in the train set: 14036, number of used features: 400\n",
            "[LightGBM] [Info] Start training from score -2.617909\n",
            "[LightGBM] [Info] Start training from score -0.801870\n",
            "[LightGBM] [Info] Start training from score -0.736984\n"
          ]
        },
        {
          "output_type": "stream",
          "name": "stderr",
          "text": [
            "/usr/local/lib/python3.10/dist-packages/sklearn/utils/deprecation.py:151: FutureWarning: 'force_all_finite' was renamed to 'ensure_all_finite' in 1.6 and will be removed in 1.8.\n",
            "  warnings.warn(\n"
          ]
        },
        {
          "output_type": "stream",
          "name": "stdout",
          "text": [
            "Precision: 0.9527, Recall: 0.9533, F1-Score: 0.9513, Accuracy: 0.9533\n",
            "Confusion matrix kaydedildi: /content/drive/MyDrive/outputs1_resample/confusion_matrix_LightGBM_Resampled_combined_Word2Vec.png\n"
          ]
        }
      ]
    },
    {
      "cell_type": "code",
      "source": [
        "# ANN Modeli\n",
        "def evaluate_ann_resampled():\n",
        "    for key, (X_resampled, y_resampled) in resampled_data_sets.items():\n",
        "        print(f\"ANN ile {key} kombinasyonu değerlendiriliyor...\")\n",
        "        X_train, X_test, y_train, y_test = split_data(X_resampled, y_resampled)\n",
        "\n",
        "        # Kategorik etiketlere dönüştürme\n",
        "        y_train_cat = to_categorical(y_train, num_classes=len(label_encoder.classes_))\n",
        "        y_test_cat = to_categorical(y_test, num_classes=len(label_encoder.classes_))\n",
        "\n",
        "        # Modeli tanımlama\n",
        "        input_dim = X_train.shape[1]\n",
        "        model = Sequential([\n",
        "            Dense(128, activation='relu', input_dim=input_dim),\n",
        "            Dropout(0.3),\n",
        "            Dense(64, activation='relu'),\n",
        "            Dropout(0.3),\n",
        "            Dense(len(label_encoder.classes_), activation='softmax')\n",
        "        ])\n",
        "        optimizer = Adam(learning_rate=0.0001)\n",
        "        model.compile(optimizer=optimizer, loss='categorical_crossentropy', metrics=['accuracy'])\n",
        "\n",
        "        # Modeli eğitme\n",
        "        early_stopping = EarlyStopping(monitor='val_loss', patience=4, restore_best_weights=True)\n",
        "        history = model.fit(\n",
        "            X_train,\n",
        "            y_train_cat,\n",
        "            validation_data=(X_test, y_test_cat),\n",
        "            epochs=50,\n",
        "            batch_size=4,\n",
        "            callbacks=[early_stopping],\n",
        "            verbose=1\n",
        "        )\n",
        "\n",
        "        # Tahminler ve performans\n",
        "        predictions = model.predict(X_test).argmax(axis=1)\n",
        "        precision = precision_score(y_test, predictions, average='weighted')\n",
        "        recall = recall_score(y_test, predictions, average='weighted')\n",
        "        f1 = f1_score(y_test, predictions, average='weighted')\n",
        "        accuracy = accuracy_score(y_test, predictions)  # Accuracy\n",
        "        results.append({'Model': 'ANN','Data Type': 'Resampled','Kombinasyon': key,'Precision': precision,'Recall': recall,'F1-Score': f1,'Accuracy': accuracy})\n",
        "\n",
        "        # Confusion Matrix Kaydetme\n",
        "        save_confusion_matrix(y_test, predictions, \"ANN\", \"Resampled\", key)\n",
        "\n",
        "        # Eğitim ve doğrulama metriklerini kaydetme\n",
        "        history_dict = {\n",
        "            'loss': history.history['loss'],\n",
        "            'val_loss': history.history['val_loss'],\n",
        "            'accuracy': history.history['accuracy'],\n",
        "            'val_accuracy': history.history['val_accuracy']\n",
        "        }\n",
        "        save_training_validation_metrics(history_dict, \"ANN\", \"Resampled\", key)\n"
      ],
      "metadata": {
        "id": "Gw4SYo_kYlf-"
      },
      "execution_count": null,
      "outputs": []
    },
    {
      "cell_type": "code",
      "source": [
        "print(\"ANN Modeli Değerlendiriliyor...\")\n",
        "evaluate_ann_resampled()"
      ],
      "metadata": {
        "colab": {
          "base_uri": "https://localhost:8080/"
        },
        "id": "C8ILdXUYUflb",
        "outputId": "2abc626b-07a5-462f-e5fc-940494a8b9ff"
      },
      "execution_count": null,
      "outputs": [
        {
          "output_type": "stream",
          "name": "stdout",
          "text": [
            "ANN Modeli Değerlendiriliyor...\n",
            "ANN ile oversampling_Word2Vec kombinasyonu değerlendiriliyor...\n",
            "Epoch 1/50\n"
          ]
        },
        {
          "output_type": "stream",
          "name": "stderr",
          "text": [
            "/usr/local/lib/python3.10/dist-packages/keras/src/layers/core/dense.py:87: UserWarning: Do not pass an `input_shape`/`input_dim` argument to a layer. When using Sequential models, prefer using an `Input(shape)` object as the first layer in the model instead.\n",
            "  super().__init__(activity_regularizer=activity_regularizer, **kwargs)\n"
          ]
        },
        {
          "output_type": "stream",
          "name": "stdout",
          "text": [
            "\u001b[1m5032/5032\u001b[0m \u001b[32m━━━━━━━━━━━━━━━━━━━━\u001b[0m\u001b[37m\u001b[0m \u001b[1m13s\u001b[0m 2ms/step - accuracy: 0.5311 - loss: 0.9476 - val_accuracy: 0.7530 - val_loss: 0.6072\n",
            "Epoch 2/50\n",
            "\u001b[1m5032/5032\u001b[0m \u001b[32m━━━━━━━━━━━━━━━━━━━━\u001b[0m\u001b[37m\u001b[0m \u001b[1m12s\u001b[0m 2ms/step - accuracy: 0.7462 - loss: 0.6194 - val_accuracy: 0.8207 - val_loss: 0.4546\n",
            "Epoch 3/50\n",
            "\u001b[1m5032/5032\u001b[0m \u001b[32m━━━━━━━━━━━━━━━━━━━━\u001b[0m\u001b[37m\u001b[0m \u001b[1m13s\u001b[0m 3ms/step - accuracy: 0.8199 - loss: 0.4582 - val_accuracy: 0.8502 - val_loss: 0.3681\n",
            "Epoch 4/50\n",
            "\u001b[1m5032/5032\u001b[0m \u001b[32m━━━━━━━━━━━━━━━━━━━━\u001b[0m\u001b[37m\u001b[0m \u001b[1m12s\u001b[0m 2ms/step - accuracy: 0.8506 - loss: 0.3732 - val_accuracy: 0.8698 - val_loss: 0.3132\n",
            "Epoch 5/50\n",
            "\u001b[1m5032/5032\u001b[0m \u001b[32m━━━━━━━━━━━━━━━━━━━━\u001b[0m\u001b[37m\u001b[0m \u001b[1m12s\u001b[0m 2ms/step - accuracy: 0.8713 - loss: 0.3222 - val_accuracy: 0.8788 - val_loss: 0.2833\n",
            "Epoch 6/50\n",
            "\u001b[1m5032/5032\u001b[0m \u001b[32m━━━━━━━━━━━━━━━━━━━━\u001b[0m\u001b[37m\u001b[0m \u001b[1m12s\u001b[0m 2ms/step - accuracy: 0.8868 - loss: 0.2834 - val_accuracy: 0.8814 - val_loss: 0.2694\n",
            "Epoch 7/50\n",
            "\u001b[1m5032/5032\u001b[0m \u001b[32m━━━━━━━━━━━━━━━━━━━━\u001b[0m\u001b[37m\u001b[0m \u001b[1m12s\u001b[0m 2ms/step - accuracy: 0.8999 - loss: 0.2497 - val_accuracy: 0.8859 - val_loss: 0.2609\n",
            "Epoch 8/50\n",
            "\u001b[1m5032/5032\u001b[0m \u001b[32m━━━━━━━━━━━━━━━━━━━━\u001b[0m\u001b[37m\u001b[0m \u001b[1m12s\u001b[0m 2ms/step - accuracy: 0.9058 - loss: 0.2325 - val_accuracy: 0.8959 - val_loss: 0.2502\n",
            "Epoch 9/50\n",
            "\u001b[1m5032/5032\u001b[0m \u001b[32m━━━━━━━━━━━━━━━━━━━━\u001b[0m\u001b[37m\u001b[0m \u001b[1m12s\u001b[0m 2ms/step - accuracy: 0.9165 - loss: 0.2167 - val_accuracy: 0.9014 - val_loss: 0.2386\n",
            "Epoch 10/50\n",
            "\u001b[1m5032/5032\u001b[0m \u001b[32m━━━━━━━━━━━━━━━━━━━━\u001b[0m\u001b[37m\u001b[0m \u001b[1m12s\u001b[0m 2ms/step - accuracy: 0.9195 - loss: 0.1998 - val_accuracy: 0.9048 - val_loss: 0.2350\n",
            "Epoch 11/50\n",
            "\u001b[1m5032/5032\u001b[0m \u001b[32m━━━━━━━━━━━━━━━━━━━━\u001b[0m\u001b[37m\u001b[0m \u001b[1m12s\u001b[0m 2ms/step - accuracy: 0.9239 - loss: 0.1951 - val_accuracy: 0.9108 - val_loss: 0.2297\n",
            "Epoch 12/50\n",
            "\u001b[1m5032/5032\u001b[0m \u001b[32m━━━━━━━━━━━━━━━━━━━━\u001b[0m\u001b[37m\u001b[0m \u001b[1m12s\u001b[0m 2ms/step - accuracy: 0.9310 - loss: 0.1765 - val_accuracy: 0.9128 - val_loss: 0.2294\n",
            "Epoch 13/50\n",
            "\u001b[1m5032/5032\u001b[0m \u001b[32m━━━━━━━━━━━━━━━━━━━━\u001b[0m\u001b[37m\u001b[0m \u001b[1m13s\u001b[0m 2ms/step - accuracy: 0.9351 - loss: 0.1675 - val_accuracy: 0.9143 - val_loss: 0.2231\n",
            "Epoch 14/50\n",
            "\u001b[1m5032/5032\u001b[0m \u001b[32m━━━━━━━━━━━━━━━━━━━━\u001b[0m\u001b[37m\u001b[0m \u001b[1m13s\u001b[0m 3ms/step - accuracy: 0.9424 - loss: 0.1566 - val_accuracy: 0.9145 - val_loss: 0.2330\n",
            "Epoch 15/50\n",
            "\u001b[1m5032/5032\u001b[0m \u001b[32m━━━━━━━━━━━━━━━━━━━━\u001b[0m\u001b[37m\u001b[0m \u001b[1m12s\u001b[0m 2ms/step - accuracy: 0.9432 - loss: 0.1481 - val_accuracy: 0.9205 - val_loss: 0.2267\n",
            "Epoch 16/50\n",
            "\u001b[1m5032/5032\u001b[0m \u001b[32m━━━━━━━━━━━━━━━━━━━━\u001b[0m\u001b[37m\u001b[0m \u001b[1m12s\u001b[0m 2ms/step - accuracy: 0.9458 - loss: 0.1404 - val_accuracy: 0.9229 - val_loss: 0.2211\n",
            "Epoch 17/50\n",
            "\u001b[1m5032/5032\u001b[0m \u001b[32m━━━━━━━━━━━━━━━━━━━━\u001b[0m\u001b[37m\u001b[0m \u001b[1m13s\u001b[0m 3ms/step - accuracy: 0.9497 - loss: 0.1380 - val_accuracy: 0.9217 - val_loss: 0.2161\n",
            "Epoch 18/50\n",
            "\u001b[1m5032/5032\u001b[0m \u001b[32m━━━━━━━━━━━━━━━━━━━━\u001b[0m\u001b[37m\u001b[0m \u001b[1m12s\u001b[0m 2ms/step - accuracy: 0.9566 - loss: 0.1175 - val_accuracy: 0.9259 - val_loss: 0.2129\n",
            "Epoch 19/50\n",
            "\u001b[1m5032/5032\u001b[0m \u001b[32m━━━━━━━━━━━━━━━━━━━━\u001b[0m\u001b[37m\u001b[0m \u001b[1m12s\u001b[0m 2ms/step - accuracy: 0.9586 - loss: 0.1159 - val_accuracy: 0.9259 - val_loss: 0.2132\n",
            "Epoch 20/50\n",
            "\u001b[1m5032/5032\u001b[0m \u001b[32m━━━━━━━━━━━━━━━━━━━━\u001b[0m\u001b[37m\u001b[0m \u001b[1m12s\u001b[0m 2ms/step - accuracy: 0.9579 - loss: 0.1139 - val_accuracy: 0.9269 - val_loss: 0.2127\n",
            "Epoch 21/50\n",
            "\u001b[1m5032/5032\u001b[0m \u001b[32m━━━━━━━━━━━━━━━━━━━━\u001b[0m\u001b[37m\u001b[0m \u001b[1m12s\u001b[0m 2ms/step - accuracy: 0.9637 - loss: 0.0999 - val_accuracy: 0.9283 - val_loss: 0.2350\n",
            "Epoch 22/50\n",
            "\u001b[1m5032/5032\u001b[0m \u001b[32m━━━━━━━━━━━━━━━━━━━━\u001b[0m\u001b[37m\u001b[0m \u001b[1m12s\u001b[0m 2ms/step - accuracy: 0.9668 - loss: 0.0950 - val_accuracy: 0.9279 - val_loss: 0.2165\n",
            "Epoch 23/50\n",
            "\u001b[1m5032/5032\u001b[0m \u001b[32m━━━━━━━━━━━━━━━━━━━━\u001b[0m\u001b[37m\u001b[0m \u001b[1m12s\u001b[0m 2ms/step - accuracy: 0.9660 - loss: 0.0931 - val_accuracy: 0.9324 - val_loss: 0.2272\n",
            "Epoch 24/50\n",
            "\u001b[1m5032/5032\u001b[0m \u001b[32m━━━━━━━━━━━━━━━━━━━━\u001b[0m\u001b[37m\u001b[0m \u001b[1m12s\u001b[0m 2ms/step - accuracy: 0.9691 - loss: 0.0848 - val_accuracy: 0.9297 - val_loss: 0.2156\n",
            "\u001b[1m158/158\u001b[0m \u001b[32m━━━━━━━━━━━━━━━━━━━━\u001b[0m\u001b[37m\u001b[0m \u001b[1m0s\u001b[0m 2ms/step\n",
            "Confusion matrix kaydedildi: /content/drive/MyDrive/outputs1_resample/confusion_matrix_ANN_Resampled_oversampling_Word2Vec.png\n",
            "Loss grafiği kaydedildi: /content/drive/MyDrive/outputs1_resample/loss_ANN_Resampled_oversampling_Word2Vec.png\n",
            "Accuracy grafiği kaydedildi: /content/drive/MyDrive/outputs1_resample/accuracy_ANN_Resampled_oversampling_Word2Vec.png\n",
            "ANN ile undersampling_Word2Vec kombinasyonu değerlendiriliyor...\n",
            "Epoch 1/50\n"
          ]
        },
        {
          "output_type": "stream",
          "name": "stderr",
          "text": [
            "/usr/local/lib/python3.10/dist-packages/keras/src/layers/core/dense.py:87: UserWarning: Do not pass an `input_shape`/`input_dim` argument to a layer. When using Sequential models, prefer using an `Input(shape)` object as the first layer in the model instead.\n",
            "  super().__init__(activity_regularizer=activity_regularizer, **kwargs)\n"
          ]
        },
        {
          "output_type": "stream",
          "name": "stdout",
          "text": [
            "\u001b[1m136/136\u001b[0m \u001b[32m━━━━━━━━━━━━━━━━━━━━\u001b[0m\u001b[37m\u001b[0m \u001b[1m1s\u001b[0m 4ms/step - accuracy: 0.3067 - loss: 1.1767 - val_accuracy: 0.3676 - val_loss: 1.0710\n",
            "Epoch 2/50\n",
            "\u001b[1m136/136\u001b[0m \u001b[32m━━━━━━━━━━━━━━━━━━━━\u001b[0m\u001b[37m\u001b[0m \u001b[1m0s\u001b[0m 3ms/step - accuracy: 0.4317 - loss: 1.0965 - val_accuracy: 0.4338 - val_loss: 1.0613\n",
            "Epoch 3/50\n",
            "\u001b[1m136/136\u001b[0m \u001b[32m━━━━━━━━━━━━━━━━━━━━\u001b[0m\u001b[37m\u001b[0m \u001b[1m0s\u001b[0m 3ms/step - accuracy: 0.4648 - loss: 1.0381 - val_accuracy: 0.4779 - val_loss: 1.0515\n",
            "Epoch 4/50\n",
            "\u001b[1m136/136\u001b[0m \u001b[32m━━━━━━━━━━━━━━━━━━━━\u001b[0m\u001b[37m\u001b[0m \u001b[1m0s\u001b[0m 3ms/step - accuracy: 0.5104 - loss: 1.0361 - val_accuracy: 0.5000 - val_loss: 1.0385\n",
            "Epoch 5/50\n",
            "\u001b[1m136/136\u001b[0m \u001b[32m━━━━━━━━━━━━━━━━━━━━\u001b[0m\u001b[37m\u001b[0m \u001b[1m0s\u001b[0m 3ms/step - accuracy: 0.4875 - loss: 1.0005 - val_accuracy: 0.5074 - val_loss: 1.0189\n",
            "Epoch 6/50\n",
            "\u001b[1m136/136\u001b[0m \u001b[32m━━━━━━━━━━━━━━━━━━━━\u001b[0m\u001b[37m\u001b[0m \u001b[1m0s\u001b[0m 3ms/step - accuracy: 0.5225 - loss: 0.9896 - val_accuracy: 0.5221 - val_loss: 1.0125\n",
            "Epoch 7/50\n",
            "\u001b[1m136/136\u001b[0m \u001b[32m━━━━━━━━━━━━━━━━━━━━\u001b[0m\u001b[37m\u001b[0m \u001b[1m0s\u001b[0m 3ms/step - accuracy: 0.5599 - loss: 0.9482 - val_accuracy: 0.5294 - val_loss: 1.0002\n",
            "Epoch 8/50\n",
            "\u001b[1m136/136\u001b[0m \u001b[32m━━━━━━━━━━━━━━━━━━━━\u001b[0m\u001b[37m\u001b[0m \u001b[1m0s\u001b[0m 3ms/step - accuracy: 0.5692 - loss: 0.9262 - val_accuracy: 0.5221 - val_loss: 0.9881\n",
            "Epoch 9/50\n",
            "\u001b[1m136/136\u001b[0m \u001b[32m━━━━━━━━━━━━━━━━━━━━\u001b[0m\u001b[37m\u001b[0m \u001b[1m0s\u001b[0m 3ms/step - accuracy: 0.5914 - loss: 0.8806 - val_accuracy: 0.5515 - val_loss: 0.9779\n",
            "Epoch 10/50\n",
            "\u001b[1m136/136\u001b[0m \u001b[32m━━━━━━━━━━━━━━━━━━━━\u001b[0m\u001b[37m\u001b[0m \u001b[1m0s\u001b[0m 3ms/step - accuracy: 0.6548 - loss: 0.8379 - val_accuracy: 0.5441 - val_loss: 0.9601\n",
            "Epoch 11/50\n",
            "\u001b[1m136/136\u001b[0m \u001b[32m━━━━━━━━━━━━━━━━━━━━\u001b[0m\u001b[37m\u001b[0m \u001b[1m0s\u001b[0m 3ms/step - accuracy: 0.6249 - loss: 0.8390 - val_accuracy: 0.5809 - val_loss: 0.9596\n",
            "Epoch 12/50\n",
            "\u001b[1m136/136\u001b[0m \u001b[32m━━━━━━━━━━━━━━━━━━━━\u001b[0m\u001b[37m\u001b[0m \u001b[1m0s\u001b[0m 3ms/step - accuracy: 0.6407 - loss: 0.8391 - val_accuracy: 0.5735 - val_loss: 0.9569\n",
            "Epoch 13/50\n",
            "\u001b[1m136/136\u001b[0m \u001b[32m━━━━━━━━━━━━━━━━━━━━\u001b[0m\u001b[37m\u001b[0m \u001b[1m0s\u001b[0m 3ms/step - accuracy: 0.6487 - loss: 0.7816 - val_accuracy: 0.5588 - val_loss: 0.9562\n",
            "Epoch 14/50\n",
            "\u001b[1m136/136\u001b[0m \u001b[32m━━━━━━━━━━━━━━━━━━━━\u001b[0m\u001b[37m\u001b[0m \u001b[1m0s\u001b[0m 3ms/step - accuracy: 0.6859 - loss: 0.7904 - val_accuracy: 0.5588 - val_loss: 0.9396\n",
            "Epoch 15/50\n",
            "\u001b[1m136/136\u001b[0m \u001b[32m━━━━━━━━━━━━━━━━━━━━\u001b[0m\u001b[37m\u001b[0m \u001b[1m0s\u001b[0m 2ms/step - accuracy: 0.7094 - loss: 0.6880 - val_accuracy: 0.5662 - val_loss: 0.9436\n",
            "Epoch 16/50\n",
            "\u001b[1m136/136\u001b[0m \u001b[32m━━━━━━━━━━━━━━━━━━━━\u001b[0m\u001b[37m\u001b[0m \u001b[1m0s\u001b[0m 2ms/step - accuracy: 0.7477 - loss: 0.6905 - val_accuracy: 0.5515 - val_loss: 0.9497\n",
            "Epoch 17/50\n",
            "\u001b[1m136/136\u001b[0m \u001b[32m━━━━━━━━━━━━━━━━━━━━\u001b[0m\u001b[37m\u001b[0m \u001b[1m0s\u001b[0m 3ms/step - accuracy: 0.6465 - loss: 0.7503 - val_accuracy: 0.5735 - val_loss: 0.9507\n",
            "Epoch 18/50\n",
            "\u001b[1m136/136\u001b[0m \u001b[32m━━━━━━━━━━━━━━━━━━━━\u001b[0m\u001b[37m\u001b[0m \u001b[1m0s\u001b[0m 3ms/step - accuracy: 0.7112 - loss: 0.6866 - val_accuracy: 0.5662 - val_loss: 0.9368\n",
            "Epoch 19/50\n",
            "\u001b[1m136/136\u001b[0m \u001b[32m━━━━━━━━━━━━━━━━━━━━\u001b[0m\u001b[37m\u001b[0m \u001b[1m0s\u001b[0m 3ms/step - accuracy: 0.7785 - loss: 0.6250 - val_accuracy: 0.5588 - val_loss: 0.9506\n",
            "Epoch 20/50\n",
            "\u001b[1m136/136\u001b[0m \u001b[32m━━━━━━━━━━━━━━━━━━━━\u001b[0m\u001b[37m\u001b[0m \u001b[1m0s\u001b[0m 3ms/step - accuracy: 0.7212 - loss: 0.6426 - val_accuracy: 0.5956 - val_loss: 0.9366\n",
            "Epoch 21/50\n",
            "\u001b[1m136/136\u001b[0m \u001b[32m━━━━━━━━━━━━━━━━━━━━\u001b[0m\u001b[37m\u001b[0m \u001b[1m0s\u001b[0m 3ms/step - accuracy: 0.7417 - loss: 0.6499 - val_accuracy: 0.6103 - val_loss: 0.9332\n",
            "Epoch 22/50\n",
            "\u001b[1m136/136\u001b[0m \u001b[32m━━━━━━━━━━━━━━━━━━━━\u001b[0m\u001b[37m\u001b[0m \u001b[1m0s\u001b[0m 3ms/step - accuracy: 0.7923 - loss: 0.5926 - val_accuracy: 0.5735 - val_loss: 0.9548\n",
            "Epoch 23/50\n",
            "\u001b[1m136/136\u001b[0m \u001b[32m━━━━━━━━━━━━━━━━━━━━\u001b[0m\u001b[37m\u001b[0m \u001b[1m0s\u001b[0m 3ms/step - accuracy: 0.7633 - loss: 0.5960 - val_accuracy: 0.6103 - val_loss: 0.9573\n",
            "Epoch 24/50\n",
            "\u001b[1m136/136\u001b[0m \u001b[32m━━━━━━━━━━━━━━━━━━━━\u001b[0m\u001b[37m\u001b[0m \u001b[1m0s\u001b[0m 3ms/step - accuracy: 0.7838 - loss: 0.5449 - val_accuracy: 0.6029 - val_loss: 0.9567\n",
            "Epoch 25/50\n",
            "\u001b[1m136/136\u001b[0m \u001b[32m━━━━━━━━━━━━━━━━━━━━\u001b[0m\u001b[37m\u001b[0m \u001b[1m0s\u001b[0m 3ms/step - accuracy: 0.8263 - loss: 0.5446 - val_accuracy: 0.5662 - val_loss: 0.9692\n",
            "\u001b[1m5/5\u001b[0m \u001b[32m━━━━━━━━━━━━━━━━━━━━\u001b[0m\u001b[37m\u001b[0m \u001b[1m0s\u001b[0m 7ms/step \n",
            "Confusion matrix kaydedildi: /content/drive/MyDrive/outputs1_resample/confusion_matrix_ANN_Resampled_undersampling_Word2Vec.png\n",
            "Loss grafiği kaydedildi: /content/drive/MyDrive/outputs1_resample/loss_ANN_Resampled_undersampling_Word2Vec.png\n",
            "Accuracy grafiği kaydedildi: /content/drive/MyDrive/outputs1_resample/accuracy_ANN_Resampled_undersampling_Word2Vec.png\n",
            "ANN ile combined_Word2Vec kombinasyonu değerlendiriliyor...\n",
            "Epoch 1/50\n"
          ]
        },
        {
          "output_type": "stream",
          "name": "stderr",
          "text": [
            "/usr/local/lib/python3.10/dist-packages/keras/src/layers/core/dense.py:87: UserWarning: Do not pass an `input_shape`/`input_dim` argument to a layer. When using Sequential models, prefer using an `Input(shape)` object as the first layer in the model instead.\n",
            "  super().__init__(activity_regularizer=activity_regularizer, **kwargs)\n"
          ]
        },
        {
          "output_type": "stream",
          "name": "stdout",
          "text": [
            "\u001b[1m3509/3509\u001b[0m \u001b[32m━━━━━━━━━━━━━━━━━━━━\u001b[0m\u001b[37m\u001b[0m \u001b[1m10s\u001b[0m 2ms/step - accuracy: 0.6183 - loss: 0.8053 - val_accuracy: 0.8344 - val_loss: 0.4468\n",
            "Epoch 2/50\n",
            "\u001b[1m3509/3509\u001b[0m \u001b[32m━━━━━━━━━━━━━━━━━━━━\u001b[0m\u001b[37m\u001b[0m \u001b[1m8s\u001b[0m 2ms/step - accuracy: 0.8185 - loss: 0.4738 - val_accuracy: 0.9048 - val_loss: 0.3069\n",
            "Epoch 3/50\n",
            "\u001b[1m3509/3509\u001b[0m \u001b[32m━━━━━━━━━━━━━━━━━━━━\u001b[0m\u001b[37m\u001b[0m \u001b[1m8s\u001b[0m 2ms/step - accuracy: 0.8820 - loss: 0.3302 - val_accuracy: 0.9270 - val_loss: 0.2181\n",
            "Epoch 4/50\n",
            "\u001b[1m3509/3509\u001b[0m \u001b[32m━━━━━━━━━━━━━━━━━━━━\u001b[0m\u001b[37m\u001b[0m \u001b[1m8s\u001b[0m 2ms/step - accuracy: 0.9254 - loss: 0.2252 - val_accuracy: 0.9564 - val_loss: 0.1438\n",
            "Epoch 5/50\n",
            "\u001b[1m3509/3509\u001b[0m \u001b[32m━━━━━━━━━━━━━━━━━━━━\u001b[0m\u001b[37m\u001b[0m \u001b[1m9s\u001b[0m 3ms/step - accuracy: 0.9443 - loss: 0.1656 - val_accuracy: 0.9675 - val_loss: 0.1085\n",
            "Epoch 6/50\n",
            "\u001b[1m3509/3509\u001b[0m \u001b[32m━━━━━━━━━━━━━━━━━━━━\u001b[0m\u001b[37m\u001b[0m \u001b[1m8s\u001b[0m 2ms/step - accuracy: 0.9634 - loss: 0.1205 - val_accuracy: 0.9698 - val_loss: 0.0921\n",
            "Epoch 7/50\n",
            "\u001b[1m3509/3509\u001b[0m \u001b[32m━━━━━━━━━━━━━━━━━━━━\u001b[0m\u001b[37m\u001b[0m \u001b[1m8s\u001b[0m 2ms/step - accuracy: 0.9730 - loss: 0.0889 - val_accuracy: 0.9732 - val_loss: 0.0802\n",
            "Epoch 8/50\n",
            "\u001b[1m3509/3509\u001b[0m \u001b[32m━━━━━━━━━━━━━━━━━━━━\u001b[0m\u001b[37m\u001b[0m \u001b[1m8s\u001b[0m 2ms/step - accuracy: 0.9762 - loss: 0.0741 - val_accuracy: 0.9778 - val_loss: 0.0729\n",
            "Epoch 9/50\n",
            "\u001b[1m3509/3509\u001b[0m \u001b[32m━━━━━━━━━━━━━━━━━━━━\u001b[0m\u001b[37m\u001b[0m \u001b[1m9s\u001b[0m 2ms/step - accuracy: 0.9793 - loss: 0.0647 - val_accuracy: 0.9812 - val_loss: 0.0625\n",
            "Epoch 10/50\n",
            "\u001b[1m3509/3509\u001b[0m \u001b[32m━━━━━━━━━━━━━━━━━━━━\u001b[0m\u001b[37m\u001b[0m \u001b[1m9s\u001b[0m 2ms/step - accuracy: 0.9842 - loss: 0.0554 - val_accuracy: 0.9820 - val_loss: 0.0575\n",
            "Epoch 11/50\n",
            "\u001b[1m3509/3509\u001b[0m \u001b[32m━━━━━━━━━━━━━━━━━━━━\u001b[0m\u001b[37m\u001b[0m \u001b[1m8s\u001b[0m 2ms/step - accuracy: 0.9869 - loss: 0.0413 - val_accuracy: 0.9826 - val_loss: 0.0554\n",
            "Epoch 12/50\n",
            "\u001b[1m3509/3509\u001b[0m \u001b[32m━━━━━━━━━━━━━━━━━━━━\u001b[0m\u001b[37m\u001b[0m \u001b[1m8s\u001b[0m 2ms/step - accuracy: 0.9879 - loss: 0.0422 - val_accuracy: 0.9820 - val_loss: 0.0577\n",
            "Epoch 13/50\n",
            "\u001b[1m3509/3509\u001b[0m \u001b[32m━━━━━━━━━━━━━━━━━━━━\u001b[0m\u001b[37m\u001b[0m \u001b[1m8s\u001b[0m 2ms/step - accuracy: 0.9880 - loss: 0.0380 - val_accuracy: 0.9809 - val_loss: 0.0604\n",
            "Epoch 14/50\n",
            "\u001b[1m3509/3509\u001b[0m \u001b[32m━━━━━━━━━━━━━━━━━━━━\u001b[0m\u001b[37m\u001b[0m \u001b[1m8s\u001b[0m 2ms/step - accuracy: 0.9900 - loss: 0.0345 - val_accuracy: 0.9826 - val_loss: 0.0607\n",
            "Epoch 15/50\n",
            "\u001b[1m3509/3509\u001b[0m \u001b[32m━━━━━━━━━━━━━━━━━━━━\u001b[0m\u001b[37m\u001b[0m \u001b[1m9s\u001b[0m 2ms/step - accuracy: 0.9926 - loss: 0.0255 - val_accuracy: 0.9855 - val_loss: 0.0485\n",
            "Epoch 16/50\n",
            "\u001b[1m3509/3509\u001b[0m \u001b[32m━━━━━━━━━━━━━━━━━━━━\u001b[0m\u001b[37m\u001b[0m \u001b[1m8s\u001b[0m 2ms/step - accuracy: 0.9942 - loss: 0.0194 - val_accuracy: 0.9852 - val_loss: 0.0513\n",
            "Epoch 17/50\n",
            "\u001b[1m3509/3509\u001b[0m \u001b[32m━━━━━━━━━━━━━━━━━━━━\u001b[0m\u001b[37m\u001b[0m \u001b[1m9s\u001b[0m 3ms/step - accuracy: 0.9917 - loss: 0.0245 - val_accuracy: 0.9838 - val_loss: 0.0587\n",
            "Epoch 18/50\n",
            "\u001b[1m3509/3509\u001b[0m \u001b[32m━━━━━━━━━━━━━━━━━━━━\u001b[0m\u001b[37m\u001b[0m \u001b[1m9s\u001b[0m 2ms/step - accuracy: 0.9938 - loss: 0.0194 - val_accuracy: 0.9860 - val_loss: 0.0526\n",
            "Epoch 19/50\n",
            "\u001b[1m3509/3509\u001b[0m \u001b[32m━━━━━━━━━━━━━━━━━━━━\u001b[0m\u001b[37m\u001b[0m \u001b[1m9s\u001b[0m 2ms/step - accuracy: 0.9932 - loss: 0.0227 - val_accuracy: 0.9838 - val_loss: 0.0646\n"
          ]
        },
        {
          "output_type": "stream",
          "name": "stderr",
          "text": [
            "WARNING:tensorflow:5 out of the last 164 calls to <function TensorFlowTrainer.make_predict_function.<locals>.one_step_on_data_distributed at 0x7ff42c69d6c0> triggered tf.function retracing. Tracing is expensive and the excessive number of tracings could be due to (1) creating @tf.function repeatedly in a loop, (2) passing tensors with different shapes, (3) passing Python objects instead of tensors. For (1), please define your @tf.function outside of the loop. For (2), @tf.function has reduce_retracing=True option that can avoid unnecessary retracing. For (3), please refer to https://www.tensorflow.org/guide/function#controlling_retracing and https://www.tensorflow.org/api_docs/python/tf/function for  more details.\n"
          ]
        },
        {
          "output_type": "stream",
          "name": "stdout",
          "text": [
            "\u001b[1m110/110\u001b[0m \u001b[32m━━━━━━━━━━━━━━━━━━━━\u001b[0m\u001b[37m\u001b[0m \u001b[1m0s\u001b[0m 2ms/step\n",
            "Confusion matrix kaydedildi: /content/drive/MyDrive/outputs1_resample/confusion_matrix_ANN_Resampled_combined_Word2Vec.png\n",
            "Loss grafiği kaydedildi: /content/drive/MyDrive/outputs1_resample/loss_ANN_Resampled_combined_Word2Vec.png\n",
            "Accuracy grafiği kaydedildi: /content/drive/MyDrive/outputs1_resample/accuracy_ANN_Resampled_combined_Word2Vec.png\n"
          ]
        }
      ]
    },
    {
      "cell_type": "code",
      "source": [
        "# ANN Modeli için Resampled Verilerde Çalıştırma\n",
        "\n",
        "\n",
        "# Sonuçları DataFrame olarak kaydetme\n",
        "results_df = pd.DataFrame(results)\n",
        "print(\"Sonuçlar:\")\n",
        "print(results_df)\n",
        "\n",
        "# Sonuçları CSV olarak kaydetme\n",
        "results_df.to_csv(os.path.join(output_dir, 'resampled_model_performance_results1.csv'), index=False)\n",
        "print(\"Sonuçlar 'resampled_model_performance_results1.csv' dosyasına kaydedildi.\")"
      ],
      "metadata": {
        "colab": {
          "base_uri": "https://localhost:8080/"
        },
        "id": "Fl0kashvWHGG",
        "outputId": "ebabbaf8-d5dd-4c59-ee31-bab969fa2750"
      },
      "execution_count": null,
      "outputs": [
        {
          "output_type": "stream",
          "name": "stdout",
          "text": [
            "Sonuçlar:\n",
            "            Model  Data Type             Kombinasyon  Precision    Recall  \\\n",
            "0   Random Forest  Resampled   oversampling_Word2Vec   0.881160  0.882154   \n",
            "1   Random Forest  Resampled  undersampling_Word2Vec   0.561825  0.544118   \n",
            "2   Random Forest  Resampled       combined_Word2Vec   0.948083  0.944429   \n",
            "3         XGBoost  Resampled   oversampling_Word2Vec   0.943824  0.943959   \n",
            "4         XGBoost  Resampled  undersampling_Word2Vec   0.552925  0.536765   \n",
            "5         XGBoost  Resampled       combined_Word2Vec   0.985407  0.985466   \n",
            "6        LightGBM  Resampled   oversampling_Word2Vec   0.849998  0.851749   \n",
            "7        LightGBM  Resampled  undersampling_Word2Vec   0.527401  0.514706   \n",
            "8        LightGBM  Resampled       combined_Word2Vec   0.952654  0.953263   \n",
            "9             ANN  Resampled   oversampling_Word2Vec   0.926833  0.926868   \n",
            "10            ANN  Resampled  undersampling_Word2Vec   0.614342  0.610294   \n",
            "11            ANN  Resampled       combined_Word2Vec   0.985194  0.985466   \n",
            "\n",
            "    F1-Score  Accuracy  \n",
            "0   0.880876  0.882154  \n",
            "1   0.543096  0.544118  \n",
            "2   0.933112  0.944429  \n",
            "3   0.943886  0.943959  \n",
            "4   0.540463  0.536765  \n",
            "5   0.984961  0.985466  \n",
            "6   0.850271  0.851749  \n",
            "7   0.516184  0.514706  \n",
            "8   0.951341  0.953263  \n",
            "9   0.926787  0.926868  \n",
            "10  0.610530  0.610294  \n",
            "11  0.985204  0.985466  \n",
            "Sonuçlar 'resampled_model_performance_results1.csv' dosyasına kaydedildi.\n"
          ]
        }
      ]
    },
    {
      "cell_type": "code",
      "source": [
        "import pandas as pd\n",
        "import matplotlib.pyplot as plt\n",
        "import seaborn as sns\n",
        "\n",
        "# Veriyi yükleyelim\n",
        "file_path = '/content/drive/MyDrive/outputs1_resample/resampled_model_performance_results1.csv'\n",
        "df = pd.read_csv(file_path)\n",
        "\n",
        "# Model isimlerine göre gruplama ve ortalama değerler hesaplama\n",
        "average_scores = df.groupby('Model')[['Precision', 'Recall', 'F1-Score', 'Accuracy']].mean().reset_index()\n",
        "\n",
        "# Barplot için her metrik için ayrı ayrı grafik\n",
        "metrics = ['Precision', 'Recall', 'F1-Score', 'Accuracy']\n",
        "fig, axes = plt.subplots(2, 2, figsize=(14, 10))\n",
        "\n",
        "for i, metric in enumerate(metrics):\n",
        "    ax = axes[i//2, i%2]\n",
        "    sns.barplot(x=metric, y='Model', data=average_scores, ax=ax)\n",
        "    ax.set_title(f'Average {metric} by Model')\n",
        "    ax.set_xlabel(f'{metric}')\n",
        "    ax.set_ylabel('Model')\n",
        "\n",
        "    # Barların genişliklerini ve pozisyonlarını alıyoruz\n",
        "    for j, (index, row) in enumerate(average_scores.iterrows()):\n",
        "        # Barların ortasına yerleştirmek için pozisyon hesaplama\n",
        "        bar = ax.patches[j]  # ax.patches artık j ile indexleniyor\n",
        "        width = bar.get_width()\n",
        "        x_position = bar.get_x() + width / 2\n",
        "\n",
        "        # Beyaz renkte değerini yazıyoruz\n",
        "        ax.text(x_position, bar.get_y() + bar.get_height() / 2, f\"{row[metric]:.4f}\",\n",
        "                va='center', ha='center', fontsize=12, color='white')\n",
        "\n",
        "plt.tight_layout()\n",
        "plt.show()\n"
      ],
      "metadata": {
        "colab": {
          "base_uri": "https://localhost:8080/",
          "height": 1000
        },
        "id": "XHkzs4Q3j8s2",
        "outputId": "406546a8-7a5e-467b-d535-67c5273a0e10"
      },
      "execution_count": null,
      "outputs": [
        {
          "output_type": "display_data",
          "data": {
            "text/plain": [
              "<Figure size 1400x1000 with 4 Axes>"
            ],
            "image/png": "[encoded data removed]"
          },
          "metadata": {}
        }
      ]
    },
    {
      "cell_type": "code",
      "source": [
        "import pandas as pd\n",
        "import matplotlib.pyplot as plt\n",
        "import seaborn as sns\n",
        "\n",
        "# Veriyi yükleyelim\n",
        "file_path = '/content/drive/MyDrive/outputs1_resample/resampled_model_performance_results1.csv'\n",
        "df = pd.read_csv(file_path)\n",
        "\n",
        "# Her model için en yüksek accuracy'ye sahip satırı seçiyoruz\n",
        "best_rows = df.loc[df.groupby('Model')['Accuracy'].idxmax()]\n",
        "\n",
        "# Seçilen satırı gösteriyoruz\n",
        "print(best_rows[['Model', 'Kombinasyon', 'Precision', 'Recall', 'F1-Score', 'Accuracy']])\n",
        "\n",
        "# Accuracy barplot grafiğini oluşturuyoruz\n",
        "fig, ax = plt.subplots(figsize=(10, 6))\n",
        "\n",
        "sns.barplot(x='Accuracy', y='Model', data=best_rows, ax=ax)\n",
        "ax.set_title('Best Accuracy by Model')\n",
        "ax.set_xlabel('Accuracy')\n",
        "ax.set_ylabel('Model')\n",
        "\n",
        "# Barların genişliklerini ve pozisyonlarını alıyoruz. enumerate kullanarak bar indexlerine erişiyoruz\n",
        "for i, (index, row) in enumerate(best_rows.iterrows()):\n",
        "    # Barların ortasına yerleştirmek için pozisyon hesaplama\n",
        "    bar = ax.patches[i]  # ax.patches artık i ile indexleniyor\n",
        "    width = bar.get_width()\n",
        "    x_position = bar.get_x() + width / 2\n",
        "\n",
        "    # Beyaz renkte Accuracy değerini yazıyoruz\n",
        "    ax.text(x_position, bar.get_y() + bar.get_height() / 2, f\"{row['Accuracy']:.4f}\",\n",
        "            va='center', ha='center', fontsize=12, color='white')\n",
        "\n",
        "plt.tight_layout()\n",
        "plt.show()"
      ],
      "metadata": {
        "colab": {
          "base_uri": "https://localhost:8080/",
          "height": 699
        },
        "id": "tsNu0BzsnhKK",
        "outputId": "14a1948c-c451-4d1d-e702-4922a14a5a10"
      },
      "execution_count": null,
      "outputs": [
        {
          "output_type": "stream",
          "name": "stdout",
          "text": [
            "            Model        Kombinasyon  Precision    Recall  F1-Score  Accuracy\n",
            "11            ANN  combined_Word2Vec   0.985194  0.985466  0.985204  0.985466\n",
            "8        LightGBM  combined_Word2Vec   0.952654  0.953263  0.951341  0.953263\n",
            "2   Random Forest  combined_Word2Vec   0.948083  0.944429  0.933112  0.944429\n",
            "5         XGBoost  combined_Word2Vec   0.985407  0.985466  0.984961  0.985466\n"
          ]
        },
        {
          "output_type": "display_data",
          "data": {
            "text/plain": [
              "<Figure size 1000x600 with 1 Axes>"
            ],
            "image/png": "[encoded data removed]"
          },
          "metadata": {}
        }
      ]
    },
    {
      "cell_type": "code",
      "source": [
        "import pandas as pd\n",
        "import matplotlib.pyplot as plt\n",
        "import seaborn as sns\n",
        "\n",
        "# Veriyi yükleyelim\n",
        "file_path = '/content/model_performance_results.csv'\n",
        "df = pd.read_csv(file_path)\n",
        "\n",
        "# Model isimlerine göre gruplama ve ortalama değerler hesaplama\n",
        "average_scores = df.groupby('Model')[['Precision', 'Recall', 'F1-Score', 'Accuracy']].mean().reset_index()\n",
        "\n",
        "# Barplot için her metrik için ayrı ayrı grafik\n",
        "metrics = ['Precision', 'Recall', 'F1-Score', 'Accuracy']\n",
        "fig, axes = plt.subplots(2, 2, figsize=(14, 10))\n",
        "\n",
        "for i, metric in enumerate(metrics):\n",
        "    ax = axes[i//2, i%2]\n",
        "    sns.barplot(x=metric, y='Model', data=average_scores, ax=ax)\n",
        "    ax.set_title(f' {metric} by Model')\n",
        "    ax.set_xlabel(f'{metric}')\n",
        "    ax.set_ylabel('Model')\n",
        "\n",
        "    # Barların genişliklerini ve pozisyonlarını alıyoruz\n",
        "    for j, (index, row) in enumerate(average_scores.iterrows()):\n",
        "        # Barların ortasına yerleştirmek için pozisyon hesaplama\n",
        "        bar = ax.patches[j]  # ax.patches artık j ile indexleniyor\n",
        "        width = bar.get_width()\n",
        "        x_position = bar.get_x() + width / 2\n",
        "\n",
        "        # Beyaz renkte değerini yazıyoruz\n",
        "        ax.text(x_position, bar.get_y() + bar.get_height() / 2, f\"{row[metric]:.4f}\",\n",
        "                va='center', ha='center', fontsize=12, color='white')\n",
        "\n",
        "plt.tight_layout()\n",
        "plt.show()\n"
      ],
      "metadata": {
        "colab": {
          "base_uri": "https://localhost:8080/",
          "height": 1000
        },
        "id": "ttEfc8JNnn6s",
        "outputId": "a82ad0dc-de4d-4700-be54-bdc5c330a69b"
      },
      "execution_count": null,
      "outputs": [
        {
          "output_type": "display_data",
          "data": {
            "text/plain": [
              "<Figure size 1400x1000 with 4 Axes>"
            ],
            "image/png": "[encoded data removed]"
          },
          "metadata": {}
        }
      ]
    }
  ]
}
