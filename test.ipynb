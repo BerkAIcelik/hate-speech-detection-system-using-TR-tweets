{
  "nbformat": 4,
  "nbformat_minor": 0,
  "metadata": {
    "colab": {
      "provenance": [],
      "authorship_tag": "ABX9TyMZKkFtMwGJtXHtZpLbihIP",
      "include_colab_link": true
    },
    "kernelspec": {
      "name": "python3",
      "display_name": "Python 3"
    },
    "language_info": {
      "name": "python"
    }
  },
  "cells": [
    {
      "cell_type": "markdown",
      "metadata": {
        "id": "view-in-github",
        "colab_type": "text"
      },
      "source": [
        "<a href=\"https://colab.research.google.com/github/BerkAIcelik/hate-speech-detection-system-using-TR-tweets/blob/main/test.ipynb\" target=\"_parent\"><img src=\"https://colab.research.google.com/assets/colab-badge.svg\" alt=\"Open In Colab\"/></a>"
      ]
    },
    {
      "cell_type": "code",
      "execution_count": 53,
      "metadata": {
        "colab": {
          "base_uri": "https://localhost:8080/"
        },
        "id": "zWC3A3EfMI2R",
        "outputId": "a8e85ece-75d2-49b1-fb55-2bbe45dfab7b"
      },
      "outputs": [
        {
          "output_type": "stream",
          "name": "stdout",
          "text": [
            "Tweet: ' Ermenler aptl , slak ve zavallıdır. Bu ülkede onları gönderelim.  ' - Kategori: Nefret\n"
          ]
        }
      ],
      "source": [
        "import requests\n",
        "\n",
        "\n",
        "# Ngrok URL'si\n",
        "url = \"https://ngrok-free.app/predict\"\n",
        "\n",
        "# Göndereceğiniz tweet verisi\n",
        "data = {\"tweet\": \" bir bir deneme tweetidir \"}\n",
        "\n",
        "# POST isteği gönder\n",
        "response = requests.post(url, json=data)\n",
        "\n",
        "# Cevabı yazdır\n",
        "try:\n",
        "    result = response.json()  # Cevap JSON formatında olacak\n",
        "    prediction = result.get('prediction')  # Tahmini al\n",
        "\n",
        "    # Tahmin sonucuna göre çıktı\n",
        "    if prediction == '0':\n",
        "        print(f\"Tweet: '{data['tweet']}' - Kategori: Hiçbiri\")\n",
        "    elif prediction == '1':\n",
        "        print(f\"Tweet: '{data['tweet']}' - Kategori: Nefret\")\n",
        "    elif prediction == '2':\n",
        "        print(f\"Tweet: '{data['tweet']}' - Kategori: Saldırgan\")\n",
        "    else:\n",
        "        print(\"Bilinmeyen kategori\")\n",
        "except ValueError:\n",
        "    print(\"Geçersiz JSON cevabı:\", response.text)\n",
        "\n",
        "\n",
        "\n"
      ]
    }
  ]
}